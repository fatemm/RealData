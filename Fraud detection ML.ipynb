{
 "cells": [
  {
   "cell_type": "code",
   "execution_count": null,
   "metadata": {
    "id": "DcR7ICHtCZuX"
   },
   "outputs": [],
   "source": [
    "# linear algebra\n",
    "import numpy as np \n",
    "from random import randint\n",
    "\n",
    "\n",
    "# data processing\n",
    "import pandas as pd \n",
    "from sklearn import preprocessing\n",
    "\n",
    "# sql query\n",
    "import pyodbc \n",
    "\n",
    "# data visualization\n",
    "import seaborn as sns\n",
    "%matplotlib inline\n",
    "from matplotlib import pyplot as plt\n",
    "from matplotlib import style\n",
    "\n",
    "from sklearn.model_selection import train_test_split\n",
    "\n",
    "\n",
    "# Algorithms\n",
    "from sklearn import linear_model\n",
    "from sklearn.linear_model import LogisticRegression\n",
    "from sklearn.ensemble import RandomForestClassifier\n",
    "from sklearn.linear_model import Perceptron\n",
    "from sklearn.datasets import make_classification\n",
    "from sklearn.linear_model import SGDClassifier\n",
    "from sklearn.tree import DecisionTreeClassifier\n",
    "from sklearn.neighbors import KNeighborsClassifier\n",
    "from sklearn.svm import SVC, LinearSVC\n",
    "from sklearn.naive_bayes import GaussianNB\n",
    "\n",
    "from sklearn.model_selection import cross_val_predict\n",
    "from sklearn.model_selection import cross_val_score\n",
    "from sklearn.metrics import precision_score\n",
    "from sklearn.metrics import recall_score\n",
    "from sklearn.metrics import f1_score\n",
    "from sklearn.metrics import confusion_matrix\n",
    "from sklearn.pipeline import Pipeline\n",
    "from sklearn.metrics import fbeta_score\n",
    "from sklearn.inspection import permutation_importance\n",
    "\n",
    "\n",
    "from sklearn import datasets\n",
    "from sklearn.model_selection import validation_curve\n",
    "\n",
    "from sklearn.preprocessing import StandardScaler\n",
    "import imblearn\n",
    "\n",
    "# roc curve and auc score\n",
    "from sklearn.metrics import roc_curve\n",
    "from sklearn.metrics import roc_auc_score\n",
    "from sklearn.metrics import plot_roc_curve"
   ]
  },
  {
   "cell_type": "markdown",
   "metadata": {
    "id": "LHCo-yQgCZua"
   },
   "source": [
    "# The data \n",
    "\n",
    "3 seperate data files : The customers, Their journey, The categories of the items"
   ]
  },
  {
   "cell_type": "code",
   "execution_count": null,
   "metadata": {
    "id": "EJSlXrjrCZub"
   },
   "outputs": [],
   "source": [
    "data = pd.read_csv('FraudAnalysisData_complete.csv')"
   ]
  },
  {
   "cell_type": "markdown",
   "metadata": {
    "id": "Xfrh-_gwCZub"
   },
   "source": [
    "# Cleaning and excluding 'asd' devices"
   ]
  },
  {
   "cell_type": "code",
   "execution_count": null,
   "metadata": {
    "id": "A90wfLvWCZuc",
    "outputId": "168ef272-fc0b-48a7-aeed-2c39bf8ee501"
   },
   "outputs": [
    {
     "data": {
      "text/plain": [
       "Index(['OrderId', 'CustomerId', 'DeviceId', 'MobilePhone', 'DiscountProduct',\n",
       "       'OrderTotal', 'BuyBacketPrice', 'YearMonth', 'CreatedTime', 'Day',\n",
       "       'IsFraud', 'MinimumFactoreAmount', 'DiffToNextOrderMinute', 'ProductId',\n",
       "       'CouponDiscount', 'Lat', 'Lng', 'BasketTime', 'StateCode',\n",
       "       'CreateToShippingDiffDay', 'ShippingTime', 'CountOrders',\n",
       "       'CountDiscount', 'FirstOrder'],\n",
       "      dtype='object')"
      ]
     },
     "execution_count": 6,
     "metadata": {
      "tags": []
     },
     "output_type": "execute_result"
    }
   ],
   "source": [
    "data.columns"
   ]
  },
  {
   "cell_type": "code",
   "execution_count": null,
   "metadata": {
    "id": "fRhSlITACZud",
    "outputId": "770710e6-82a8-4073-f00e-dbed256b49d7"
   },
   "outputs": [
    {
     "name": "stdout",
     "output_type": "stream",
     "text": [
      "22842 22491 3579037\n",
      "3579388 3579388 936847 3883403\n",
      "793366 936847 1076623 3579388\n"
     ]
    }
   ],
   "source": [
    "x =data[data['DeviceId']=='asd']\n",
    "y = data[data['DeviceId']!='asd']\n",
    "z = y[y['CustomerId'].isin(x['CustomerId'])]\n",
    "print(\n",
    "    x['CustomerId'].nunique(),\n",
    "    z['CustomerId'].nunique(),\n",
    "    y['CustomerId'].nunique(),\n",
    ")\n",
    "data_cleaned = data.drop(\n",
    "    data[(data['CustomerId'].isin(z['CustomerId'])) & (data['DeviceId']=='asd')].index\n",
    ")\n",
    "DeviceId = data_cleaned.drop(columns = \n",
    "                            ['OrderId', 'DiscountProduct',\n",
    "       'OrderTotal', 'BuyBacketPrice', 'YearMonth', 'CreatedTime', 'Day',\n",
    "       'IsFraud', 'MinimumFactoreAmount', 'DiffToNextOrderMinute', 'ProductId',\n",
    "       'CouponDiscount', 'Lat', 'Lng', 'BasketTime', 'StateCode',\n",
    "       'CreateToShippingDiffDay', 'ShippingTime',\n",
    "       'CountDiscount', 'FirstOrder']\n",
    "                            ).drop_duplicates()\n",
    "\n",
    "###\n",
    "print(\n",
    "    DeviceId['CustomerId'].nunique() ,\n",
    "    DeviceId['MobilePhone'].nunique(),\n",
    "    DeviceId['DeviceId'].nunique() , \n",
    "    DeviceId.shape[0])\n",
    "\n",
    "###\n",
    "MultiNumbers = DeviceId.groupby('DeviceId').agg({\n",
    "    'CustomerId':'nunique'\n",
    "}).reset_index().drop_duplicates().rename(columns = {'CustomerId':'NumOfCustomerIds'})\n",
    "\n",
    "###\n",
    "MultiDevice = DeviceId.groupby('CustomerId').agg({\n",
    "    'DeviceId':'nunique' , 'CountOrders':'first'\n",
    "}).reset_index().drop_duplicates().rename(columns = {'DeviceId':'NumOfDevices'})\n",
    "\n",
    "###\n",
    "    # MultiNumbers.sort_values(by = 'NumOfCustomerIds' , ascending = False)\n",
    "NormalDevices = MultiNumbers[MultiNumbers['NumOfCustomerIds']<4]\n",
    "\n",
    "print(NormalDevices.DeviceId.nunique() , DeviceId.DeviceId.nunique() , \n",
    "     NormalDevices.NumOfCustomerIds.sum() , DeviceId.CustomerId.nunique())\n",
    "# Normaldata_cleaned = data_cleaned[data_cleaned['DeviceId'].isin(NormalDevices['DeviceId'])]"
   ]
  },
  {
   "cell_type": "code",
   "execution_count": null,
   "metadata": {
    "id": "7syTIB9-CZue"
   },
   "outputs": [],
   "source": [
    "FraudDevices = MultiNumbers[MultiNumbers['NumOfCustomerIds']>10]"
   ]
  },
  {
   "cell_type": "code",
   "execution_count": null,
   "metadata": {
    "id": "Ja6upOwCCZuf"
   },
   "outputs": [],
   "source": [
    "data_cleaned['FraudId'] = (data_cleaned['DeviceId'].isin(FraudDevices['DeviceId'])).astype(int)"
   ]
  },
  {
   "cell_type": "code",
   "execution_count": null,
   "metadata": {
    "id": "jp35p0N6CZuf"
   },
   "outputs": [],
   "source": [
    "data_cleaned['Basket'] = data_cleaned['ProductId'].apply(lambda x: x.strip(\"[]\"))"
   ]
  },
  {
   "cell_type": "code",
   "execution_count": null,
   "metadata": {
    "id": "XNCoqeD0CZuj"
   },
   "outputs": [],
   "source": [
    "Devices = data_cleaned.DeviceId.dropna()"
   ]
  },
  {
   "cell_type": "code",
   "execution_count": null,
   "metadata": {
    "id": "GSJ9ojw_CZuj"
   },
   "outputs": [],
   "source": [
    "data_cleaned_devices = data_cleaned[data_cleaned.DeviceId.isin(Devices)]"
   ]
  },
  {
   "cell_type": "code",
   "execution_count": null,
   "metadata": {
    "id": "lwzqgT_ZCZuk",
    "outputId": "a4daa469-3ab3-44f6-82be-41c6f1f20717"
   },
   "outputs": [
    {
     "data": {
      "text/plain": [
       "'14532,18152,143606,17300,182225,394,171187,18534'"
      ]
     },
     "execution_count": 81,
     "metadata": {
      "tags": []
     },
     "output_type": "execute_result"
    }
   ],
   "source": [
    "data_cleaned_devices.iloc[10]['Basket']"
   ]
  },
  {
   "cell_type": "code",
   "execution_count": null,
   "metadata": {
    "id": "IdxQm7bDCZul",
    "outputId": "53b61aba-5124-470e-ea17-639d6b7b5ab8"
   },
   "outputs": [
    {
     "name": "stdout",
     "output_type": "stream",
     "text": [
      "(4795450, 2) Index(['Lat', 'Lng'], dtype='object')\n",
      "(4947272, 3) Index(['CustomerId', 'Lat', 'Lng'], dtype='object')\n"
     ]
    }
   ],
   "source": [
    "a = data.drop(columns=['OrderId', 'CustomerId', 'DeviceId', 'MobilePhone', 'DiscountProduct',\n",
    "       'OrderTotal', 'BuyBacketPrice', 'YearMonth', 'CreatedTime', 'Day',\n",
    "       'IsFraud', 'MinimumFactoreAmount', 'DiffToNextOrderMinute', 'ProductId',\n",
    "       'CouponDiscount', 'BasketTime', 'StateCode',\n",
    "       'CreateToShippingDiffDay', 'ShippingTime', 'CountOrders',\n",
    "       'CountDiscount', 'FirstOrder'])\n",
    "print(a.drop_duplicates().shape , a.columns)\n",
    "a = data.drop(columns=['OrderId', 'DeviceId', 'MobilePhone', 'DiscountProduct',\n",
    "       'OrderTotal', 'BuyBacketPrice', 'YearMonth', 'CreatedTime', 'Day',\n",
    "       'IsFraud', 'MinimumFactoreAmount', 'DiffToNextOrderMinute', 'ProductId',\n",
    "       'CouponDiscount', 'BasketTime', 'StateCode',\n",
    "       'CreateToShippingDiffDay', 'ShippingTime', 'CountOrders',\n",
    "       'CountDiscount', 'FirstOrder'])\n",
    "print(a.drop_duplicates().shape , a.columns)"
   ]
  },
  {
   "cell_type": "code",
   "execution_count": null,
   "metadata": {
    "id": "WNtMv10MCZum",
    "outputId": "4ac83757-2ba7-4fb0-fbeb-6dfc9381bee8"
   },
   "outputs": [
    {
     "data": {
      "text/plain": [
       "(10483083, 23)"
      ]
     },
     "execution_count": 13,
     "metadata": {
      "tags": []
     },
     "output_type": "execute_result"
    }
   ],
   "source": [
    "data.drop(columns='DeviceId').drop_duplicates().shape"
   ]
  },
  {
   "cell_type": "code",
   "execution_count": null,
   "metadata": {
    "id": "MuRENAxrCZum",
    "outputId": "b855c0cf-d33c-4a94-93c8-41f3b24b8349"
   },
   "outputs": [
    {
     "data": {
      "text/plain": [
       "(10483083, 23)"
      ]
     },
     "execution_count": 14,
     "metadata": {
      "tags": []
     },
     "output_type": "execute_result"
    }
   ],
   "source": [
    "data_cleaned.drop(columns='DeviceId').drop_duplicates().shape"
   ]
  },
  {
   "cell_type": "code",
   "execution_count": null,
   "metadata": {
    "id": "jY7SsrC6CZun",
    "outputId": "11ce4165-2d0e-4666-eefc-723b4ace59ca"
   },
   "outputs": [
    {
     "data": {
      "text/plain": [
       "0"
      ]
     },
     "execution_count": 57,
     "metadata": {
      "tags": []
     },
     "output_type": "execute_result"
    }
   ],
   "source": [
    "(data.DeviceId == np.nan).astype(int).sum()"
   ]
  },
  {
   "cell_type": "code",
   "execution_count": null,
   "metadata": {
    "id": "OLxutgkaCZun",
    "outputId": "38c1b2d2-33b6-412c-c48f-8ca290e707af"
   },
   "outputs": [
    {
     "data": {
      "text/plain": [
       "3579388"
      ]
     },
     "execution_count": 23,
     "metadata": {
      "tags": []
     },
     "output_type": "execute_result"
    }
   ],
   "source": [
    "data['CustomerId'].nunique()"
   ]
  },
  {
   "cell_type": "code",
   "execution_count": null,
   "metadata": {
    "id": "LLhHqUsJCZuo"
   },
   "outputs": [],
   "source": [
    "df = pd.read_csv('df_historical.csv')"
   ]
  },
  {
   "cell_type": "code",
   "execution_count": null,
   "metadata": {
    "id": "_f_-XOaRCZuo"
   },
   "outputs": [],
   "source": [
    "DeviceId = temp.drop(columns = ['DiscountProduct',\n",
    "       'OrderTotal', 'BuyBacketPrice', 'YearMonth', 'CreatedTime', 'Day',\n",
    "       'IsFraud', 'MinimumFactoreAmount', 'DiffToNextOrderMinute', 'ProductId',\n",
    "       'CouponDiscount', 'Lat', 'Lng', 'BasketTime', 'StateCode',\n",
    "       'CreateToShippingDiffDay', 'ShippingTime', 'CountOrders',\n",
    "       'CountDiscount', 'FirstOrder'])"
   ]
  },
  {
   "cell_type": "code",
   "execution_count": null,
   "metadata": {
    "id": "yGJ3TsgrCZup"
   },
   "outputs": [],
   "source": [
    "Frauds = temp.drop(columns = [ 'ProductId',\n",
    "                              'Lat', 'Lng',\n",
    "       'CreateToShippingDiffDay', 'ShippingTime'])"
   ]
  },
  {
   "cell_type": "code",
   "execution_count": null,
   "metadata": {
    "id": "TscgMNE4CZup"
   },
   "outputs": [],
   "source": [
    "Basket_info = pd.read_csv('Location_BasketTime.csv')"
   ]
  },
  {
   "cell_type": "code",
   "execution_count": null,
   "metadata": {
    "id": "MMGdgkPlCZup"
   },
   "outputs": [],
   "source": [
    "Data['ToMinPrice'] = (Data['OrderAmount'] - Data['CACMinOrderAmount'])/Data['OrderAmount']\n",
    "Data['DisProfit'] = Data['CACDiscountAmount']*100/Data['OrderAmount']\n",
    "Data['PaidAmount'] = (Data['OrderAmount'] - Data['CACDiscountAmount'])*100/Data['OrderAmount']\n",
    "Data['FraudId'] = Data['IsFraud'].astype(int)"
   ]
  },
  {
   "cell_type": "code",
   "execution_count": null,
   "metadata": {
    "id": "sFX0opG7CZup",
    "outputId": "a25fb025-a44f-4143-bb60-2157698a2cad"
   },
   "outputs": [
    {
     "data": {
      "text/html": [
       "<div>\n",
       "<style scoped>\n",
       "    .dataframe tbody tr th:only-of-type {\n",
       "        vertical-align: middle;\n",
       "    }\n",
       "\n",
       "    .dataframe tbody tr th {\n",
       "        vertical-align: top;\n",
       "    }\n",
       "\n",
       "    .dataframe thead th {\n",
       "        text-align: right;\n",
       "    }\n",
       "</style>\n",
       "<table border=\"1\" class=\"dataframe\">\n",
       "  <thead>\n",
       "    <tr style=\"text-align: right;\">\n",
       "      <th></th>\n",
       "      <th>OrderId</th>\n",
       "      <th>CustomerId</th>\n",
       "      <th>DeviceId</th>\n",
       "      <th>MobilePhone</th>\n",
       "      <th>DiscountProduct</th>\n",
       "      <th>OrderTotal</th>\n",
       "      <th>BuyBacketPrice</th>\n",
       "      <th>YearMonth</th>\n",
       "      <th>CreatedTime</th>\n",
       "      <th>Day</th>\n",
       "      <th>...</th>\n",
       "      <th>CouponDiscount</th>\n",
       "      <th>Lat</th>\n",
       "      <th>Lng</th>\n",
       "      <th>BasketTime</th>\n",
       "      <th>StateCode</th>\n",
       "      <th>CreateToShippingDiffDay</th>\n",
       "      <th>ShippingTime</th>\n",
       "      <th>CountOrders</th>\n",
       "      <th>CountDiscount</th>\n",
       "      <th>FirstOrder</th>\n",
       "    </tr>\n",
       "  </thead>\n",
       "  <tbody>\n",
       "    <tr>\n",
       "      <th>0</th>\n",
       "      <td>1645942</td>\n",
       "      <td>734675</td>\n",
       "      <td>NaN</td>\n",
       "      <td>9140535709</td>\n",
       "      <td>210972.0</td>\n",
       "      <td>1505053.0</td>\n",
       "      <td>1716025.0</td>\n",
       "      <td>202003</td>\n",
       "      <td>22:09:52.4500000</td>\n",
       "      <td>26</td>\n",
       "      <td>...</td>\n",
       "      <td>0.0</td>\n",
       "      <td>30.275043</td>\n",
       "      <td>57.065349</td>\n",
       "      <td>1274.0</td>\n",
       "      <td>5</td>\n",
       "      <td>1</td>\n",
       "      <td>20:00 - 22:00</td>\n",
       "      <td>2</td>\n",
       "      <td>0</td>\n",
       "      <td>NaN</td>\n",
       "    </tr>\n",
       "    <tr>\n",
       "      <th>2</th>\n",
       "      <td>1646124</td>\n",
       "      <td>336835</td>\n",
       "      <td>aad251423ff31bf1</td>\n",
       "      <td>9203714141</td>\n",
       "      <td>534170.0</td>\n",
       "      <td>6527530.0</td>\n",
       "      <td>7061700.0</td>\n",
       "      <td>202003</td>\n",
       "      <td>00:03:53.8366667</td>\n",
       "      <td>27</td>\n",
       "      <td>...</td>\n",
       "      <td>600000.0</td>\n",
       "      <td>35.749939</td>\n",
       "      <td>51.335777</td>\n",
       "      <td>19135.0</td>\n",
       "      <td>5</td>\n",
       "      <td>1</td>\n",
       "      <td>14:00 - 16:00</td>\n",
       "      <td>39</td>\n",
       "      <td>15</td>\n",
       "      <td>False</td>\n",
       "    </tr>\n",
       "    <tr>\n",
       "      <th>3</th>\n",
       "      <td>1646126</td>\n",
       "      <td>160608</td>\n",
       "      <td>ec43dcfe8b2d9796</td>\n",
       "      <td>9166506750</td>\n",
       "      <td>430350.0</td>\n",
       "      <td>1997150.0</td>\n",
       "      <td>2427500.0</td>\n",
       "      <td>202003</td>\n",
       "      <td>00:03:58.4200000</td>\n",
       "      <td>27</td>\n",
       "      <td>...</td>\n",
       "      <td>0.0</td>\n",
       "      <td>35.814766</td>\n",
       "      <td>50.931739</td>\n",
       "      <td>4998.0</td>\n",
       "      <td>5</td>\n",
       "      <td>1</td>\n",
       "      <td>12:00 - 14:00</td>\n",
       "      <td>10</td>\n",
       "      <td>4</td>\n",
       "      <td>NaN</td>\n",
       "    </tr>\n",
       "    <tr>\n",
       "      <th>4</th>\n",
       "      <td>1645908</td>\n",
       "      <td>46404</td>\n",
       "      <td>625553782473c822</td>\n",
       "      <td>9334208198</td>\n",
       "      <td>107750.0</td>\n",
       "      <td>1009550.0</td>\n",
       "      <td>1117300.0</td>\n",
       "      <td>202003</td>\n",
       "      <td>22:01:02.9266667</td>\n",
       "      <td>26</td>\n",
       "      <td>...</td>\n",
       "      <td>160000.0</td>\n",
       "      <td>35.712904</td>\n",
       "      <td>51.498133</td>\n",
       "      <td>4161.0</td>\n",
       "      <td>5</td>\n",
       "      <td>1</td>\n",
       "      <td>18:00 - 20:00</td>\n",
       "      <td>22</td>\n",
       "      <td>17</td>\n",
       "      <td>False</td>\n",
       "    </tr>\n",
       "    <tr>\n",
       "      <th>5</th>\n",
       "      <td>1645943</td>\n",
       "      <td>756139</td>\n",
       "      <td>bfc606e3f9e54d1c</td>\n",
       "      <td>9182259100</td>\n",
       "      <td>132050.0</td>\n",
       "      <td>1489450.0</td>\n",
       "      <td>1621500.0</td>\n",
       "      <td>202003</td>\n",
       "      <td>22:09:57.2533333</td>\n",
       "      <td>26</td>\n",
       "      <td>...</td>\n",
       "      <td>250000.0</td>\n",
       "      <td>34.354157</td>\n",
       "      <td>47.071433</td>\n",
       "      <td>1667.0</td>\n",
       "      <td>5</td>\n",
       "      <td>1</td>\n",
       "      <td>10:00 - 12:00</td>\n",
       "      <td>13</td>\n",
       "      <td>11</td>\n",
       "      <td>True</td>\n",
       "    </tr>\n",
       "    <tr>\n",
       "      <th>...</th>\n",
       "      <td>...</td>\n",
       "      <td>...</td>\n",
       "      <td>...</td>\n",
       "      <td>...</td>\n",
       "      <td>...</td>\n",
       "      <td>...</td>\n",
       "      <td>...</td>\n",
       "      <td>...</td>\n",
       "      <td>...</td>\n",
       "      <td>...</td>\n",
       "      <td>...</td>\n",
       "      <td>...</td>\n",
       "      <td>...</td>\n",
       "      <td>...</td>\n",
       "      <td>...</td>\n",
       "      <td>...</td>\n",
       "      <td>...</td>\n",
       "      <td>...</td>\n",
       "      <td>...</td>\n",
       "      <td>...</td>\n",
       "      <td>...</td>\n",
       "    </tr>\n",
       "    <tr>\n",
       "      <th>12546135</th>\n",
       "      <td>13786401</td>\n",
       "      <td>4232501</td>\n",
       "      <td>NaN</td>\n",
       "      <td>9155143529</td>\n",
       "      <td>109300.0</td>\n",
       "      <td>535700.0</td>\n",
       "      <td>645000.0</td>\n",
       "      <td>202104</td>\n",
       "      <td>19:55:14.2900000</td>\n",
       "      <td>5</td>\n",
       "      <td>...</td>\n",
       "      <td>0.0</td>\n",
       "      <td>30.293869</td>\n",
       "      <td>57.043889</td>\n",
       "      <td>14.0</td>\n",
       "      <td>5</td>\n",
       "      <td>0</td>\n",
       "      <td>21:00 - 23:00</td>\n",
       "      <td>9</td>\n",
       "      <td>4</td>\n",
       "      <td>NaN</td>\n",
       "    </tr>\n",
       "    <tr>\n",
       "      <th>12546139</th>\n",
       "      <td>13786467</td>\n",
       "      <td>1322025</td>\n",
       "      <td>4630e9772538de5c</td>\n",
       "      <td>9163974424</td>\n",
       "      <td>178050.0</td>\n",
       "      <td>1033450.0</td>\n",
       "      <td>1211500.0</td>\n",
       "      <td>202104</td>\n",
       "      <td>19:56:21.0900000</td>\n",
       "      <td>5</td>\n",
       "      <td>...</td>\n",
       "      <td>0.0</td>\n",
       "      <td>33.505067</td>\n",
       "      <td>48.356565</td>\n",
       "      <td>128.0</td>\n",
       "      <td>5</td>\n",
       "      <td>0</td>\n",
       "      <td>21:00 - 23:00</td>\n",
       "      <td>29</td>\n",
       "      <td>6</td>\n",
       "      <td>NaN</td>\n",
       "    </tr>\n",
       "    <tr>\n",
       "      <th>12546140</th>\n",
       "      <td>13786467</td>\n",
       "      <td>1322025</td>\n",
       "      <td>43875db5b1af07e0</td>\n",
       "      <td>9163974424</td>\n",
       "      <td>178050.0</td>\n",
       "      <td>1033450.0</td>\n",
       "      <td>1211500.0</td>\n",
       "      <td>202104</td>\n",
       "      <td>19:56:21.0900000</td>\n",
       "      <td>5</td>\n",
       "      <td>...</td>\n",
       "      <td>0.0</td>\n",
       "      <td>33.505067</td>\n",
       "      <td>48.356565</td>\n",
       "      <td>128.0</td>\n",
       "      <td>5</td>\n",
       "      <td>0</td>\n",
       "      <td>21:00 - 23:00</td>\n",
       "      <td>29</td>\n",
       "      <td>6</td>\n",
       "      <td>NaN</td>\n",
       "    </tr>\n",
       "    <tr>\n",
       "      <th>12546142</th>\n",
       "      <td>13786535</td>\n",
       "      <td>288809</td>\n",
       "      <td>NaN</td>\n",
       "      <td>9372638527</td>\n",
       "      <td>379000.0</td>\n",
       "      <td>1221000.0</td>\n",
       "      <td>1600000.0</td>\n",
       "      <td>202104</td>\n",
       "      <td>19:57:46.9566667</td>\n",
       "      <td>5</td>\n",
       "      <td>...</td>\n",
       "      <td>0.0</td>\n",
       "      <td>30.355400</td>\n",
       "      <td>48.295566</td>\n",
       "      <td>5.0</td>\n",
       "      <td>5</td>\n",
       "      <td>0</td>\n",
       "      <td>21:00 - 23:00</td>\n",
       "      <td>9</td>\n",
       "      <td>0</td>\n",
       "      <td>NaN</td>\n",
       "    </tr>\n",
       "    <tr>\n",
       "      <th>12546146</th>\n",
       "      <td>13786444</td>\n",
       "      <td>6153857</td>\n",
       "      <td>NaN</td>\n",
       "      <td>9168361698</td>\n",
       "      <td>130000.0</td>\n",
       "      <td>682300.0</td>\n",
       "      <td>812300.0</td>\n",
       "      <td>202104</td>\n",
       "      <td>19:56:04.8933333</td>\n",
       "      <td>5</td>\n",
       "      <td>...</td>\n",
       "      <td>0.0</td>\n",
       "      <td>31.836072</td>\n",
       "      <td>49.867988</td>\n",
       "      <td>13.0</td>\n",
       "      <td>5</td>\n",
       "      <td>0</td>\n",
       "      <td>21:00 - 23:00</td>\n",
       "      <td>2</td>\n",
       "      <td>1</td>\n",
       "      <td>NaN</td>\n",
       "    </tr>\n",
       "  </tbody>\n",
       "</table>\n",
       "<p>10612271 rows × 24 columns</p>\n",
       "</div>"
      ],
      "text/plain": [
       "           OrderId  CustomerId          DeviceId  MobilePhone  \\\n",
       "0          1645942      734675               NaN   9140535709   \n",
       "2          1646124      336835  aad251423ff31bf1   9203714141   \n",
       "3          1646126      160608  ec43dcfe8b2d9796   9166506750   \n",
       "4          1645908       46404  625553782473c822   9334208198   \n",
       "5          1645943      756139  bfc606e3f9e54d1c   9182259100   \n",
       "...            ...         ...               ...          ...   \n",
       "12546135  13786401     4232501               NaN   9155143529   \n",
       "12546139  13786467     1322025  4630e9772538de5c   9163974424   \n",
       "12546140  13786467     1322025  43875db5b1af07e0   9163974424   \n",
       "12546142  13786535      288809               NaN   9372638527   \n",
       "12546146  13786444     6153857               NaN   9168361698   \n",
       "\n",
       "          DiscountProduct  OrderTotal  BuyBacketPrice  YearMonth  \\\n",
       "0                210972.0   1505053.0       1716025.0     202003   \n",
       "2                534170.0   6527530.0       7061700.0     202003   \n",
       "3                430350.0   1997150.0       2427500.0     202003   \n",
       "4                107750.0   1009550.0       1117300.0     202003   \n",
       "5                132050.0   1489450.0       1621500.0     202003   \n",
       "...                   ...         ...             ...        ...   \n",
       "12546135         109300.0    535700.0        645000.0     202104   \n",
       "12546139         178050.0   1033450.0       1211500.0     202104   \n",
       "12546140         178050.0   1033450.0       1211500.0     202104   \n",
       "12546142         379000.0   1221000.0       1600000.0     202104   \n",
       "12546146         130000.0    682300.0        812300.0     202104   \n",
       "\n",
       "               CreatedTime  Day  ...  CouponDiscount        Lat        Lng  \\\n",
       "0         22:09:52.4500000   26  ...             0.0  30.275043  57.065349   \n",
       "2         00:03:53.8366667   27  ...        600000.0  35.749939  51.335777   \n",
       "3         00:03:58.4200000   27  ...             0.0  35.814766  50.931739   \n",
       "4         22:01:02.9266667   26  ...        160000.0  35.712904  51.498133   \n",
       "5         22:09:57.2533333   26  ...        250000.0  34.354157  47.071433   \n",
       "...                    ...  ...  ...             ...        ...        ...   \n",
       "12546135  19:55:14.2900000    5  ...             0.0  30.293869  57.043889   \n",
       "12546139  19:56:21.0900000    5  ...             0.0  33.505067  48.356565   \n",
       "12546140  19:56:21.0900000    5  ...             0.0  33.505067  48.356565   \n",
       "12546142  19:57:46.9566667    5  ...             0.0  30.355400  48.295566   \n",
       "12546146  19:56:04.8933333    5  ...             0.0  31.836072  49.867988   \n",
       "\n",
       "         BasketTime  StateCode  CreateToShippingDiffDay   ShippingTime  \\\n",
       "0            1274.0          5                        1  20:00 - 22:00   \n",
       "2           19135.0          5                        1  14:00 - 16:00   \n",
       "3            4998.0          5                        1  12:00 - 14:00   \n",
       "4            4161.0          5                        1  18:00 - 20:00   \n",
       "5            1667.0          5                        1  10:00 - 12:00   \n",
       "...             ...        ...                      ...            ...   \n",
       "12546135       14.0          5                        0  21:00 - 23:00   \n",
       "12546139      128.0          5                        0  21:00 - 23:00   \n",
       "12546140      128.0          5                        0  21:00 - 23:00   \n",
       "12546142        5.0          5                        0  21:00 - 23:00   \n",
       "12546146       13.0          5                        0  21:00 - 23:00   \n",
       "\n",
       "          CountOrders  CountDiscount  FirstOrder  \n",
       "0                   2              0         NaN  \n",
       "2                  39             15       False  \n",
       "3                  10              4         NaN  \n",
       "4                  22             17       False  \n",
       "5                  13             11        True  \n",
       "...               ...            ...         ...  \n",
       "12546135            9              4         NaN  \n",
       "12546139           29              6         NaN  \n",
       "12546140           29              6         NaN  \n",
       "12546142            9              0         NaN  \n",
       "12546146            2              1         NaN  \n",
       "\n",
       "[10612271 rows x 24 columns]"
      ]
     },
     "execution_count": 100,
     "metadata": {
      "tags": []
     },
     "output_type": "execute_result"
    }
   ],
   "source": [
    "temp[temp['StateCode']==5]"
   ]
  },
  {
   "cell_type": "code",
   "execution_count": null,
   "metadata": {
    "id": "aZoyUb_rCZuq"
   },
   "outputs": [],
   "source": [
    "FirstCoupon = temp.drop(columns = [ 'CustomerId', 'DeviceId', 'MobilePhone', 'DiscountProduct',\n",
    "       'OrderTotal', 'BuyBacketPrice', 'YearMonth', 'CreatedTime', 'Day',\n",
    "       'IsFraud', 'MinimumFactoreAmount', 'DiffToNextOrderMinute', 'ProductId',\n",
    "       'CouponDiscount', 'Lat', 'Lng', 'BasketTime', 'StateCode',\n",
    "       'CreateToShippingDiffDay', 'ShippingTime', 'CountOrders',\n",
    "       'CountDiscount'])\n",
    "FirstCoupon['FirstOrder'] = FirstCoupon['FirstOrder'].fillna(-1)\n",
    "FirstCoupon['FirstOrder'] = FirstCoupon['FirstOrder'].astype(int)"
   ]
  },
  {
   "cell_type": "code",
   "execution_count": null,
   "metadata": {
    "id": "slz9ZJ67CZuq",
    "outputId": "d5eea706-d6ac-42c5-c842-46ffc3991612"
   },
   "outputs": [
    {
     "data": {
      "text/plain": [
       "'[48665,15426,6286,14549,12539,2865,16338,17263]'"
      ]
     },
     "execution_count": 98,
     "metadata": {
      "tags": []
     },
     "output_type": "execute_result"
    }
   ],
   "source": [
    "temp.loc[0]['ProductId']"
   ]
  },
  {
   "cell_type": "code",
   "execution_count": null,
   "metadata": {
    "id": "E0IzHf84CZur",
    "outputId": "3c2a8f38-f668-4666-b987-95520240458d"
   },
   "outputs": [
    {
     "data": {
      "text/html": [
       "<div>\n",
       "<style scoped>\n",
       "    .dataframe tbody tr th:only-of-type {\n",
       "        vertical-align: middle;\n",
       "    }\n",
       "\n",
       "    .dataframe tbody tr th {\n",
       "        vertical-align: top;\n",
       "    }\n",
       "\n",
       "    .dataframe thead th {\n",
       "        text-align: right;\n",
       "    }\n",
       "</style>\n",
       "<table border=\"1\" class=\"dataframe\">\n",
       "  <thead>\n",
       "    <tr style=\"text-align: right;\">\n",
       "      <th></th>\n",
       "      <th>STD_DI</th>\n",
       "      <th>OrderId</th>\n",
       "      <th>FraudId</th>\n",
       "      <th>STD</th>\n",
       "      <th>DI</th>\n",
       "      <th>NumDis_NumPur</th>\n",
       "      <th>NumDis_DI</th>\n",
       "      <th>NumDis_STD</th>\n",
       "      <th>NumDis_STD_DI</th>\n",
       "      <th>FraudId_avg</th>\n",
       "      <th>DIsum</th>\n",
       "      <th>STD_avg</th>\n",
       "      <th>STD_DI_avg</th>\n",
       "      <th>CustomerId</th>\n",
       "      <th>TimeToShoppingCart</th>\n",
       "      <th>TimeToPreviousOrder</th>\n",
       "      <th>AvgBasketForming</th>\n",
       "      <th>AvgTimeBetweenOrders</th>\n",
       "    </tr>\n",
       "  </thead>\n",
       "  <tbody>\n",
       "    <tr>\n",
       "      <th>0</th>\n",
       "      <td>60.192635</td>\n",
       "      <td>10261118</td>\n",
       "      <td>0</td>\n",
       "      <td>0.957427</td>\n",
       "      <td>2.661840</td>\n",
       "      <td>1.000000</td>\n",
       "      <td>0.899219</td>\n",
       "      <td>29.750568</td>\n",
       "      <td>40.128423</td>\n",
       "      <td>0</td>\n",
       "      <td>2.661840</td>\n",
       "      <td>0.957427</td>\n",
       "      <td>60.192635</td>\n",
       "      <td>5608657</td>\n",
       "      <td>1335</td>\n",
       "      <td>0.0</td>\n",
       "      <td>729.500000</td>\n",
       "      <td>10560.500000</td>\n",
       "    </tr>\n",
       "    <tr>\n",
       "      <th>1</th>\n",
       "      <td>56.388985</td>\n",
       "      <td>10861839</td>\n",
       "      <td>0</td>\n",
       "      <td>1.366260</td>\n",
       "      <td>1.648847</td>\n",
       "      <td>0.800000</td>\n",
       "      <td>0.695645</td>\n",
       "      <td>56.291651</td>\n",
       "      <td>46.990821</td>\n",
       "      <td>0</td>\n",
       "      <td>1.648847</td>\n",
       "      <td>1.366260</td>\n",
       "      <td>56.388985</td>\n",
       "      <td>2839661</td>\n",
       "      <td>2</td>\n",
       "      <td>63.0</td>\n",
       "      <td>12.600000</td>\n",
       "      <td>26204.200000</td>\n",
       "    </tr>\n",
       "    <tr>\n",
       "      <th>2</th>\n",
       "      <td>55.056967</td>\n",
       "      <td>11216905</td>\n",
       "      <td>0</td>\n",
       "      <td>0.421637</td>\n",
       "      <td>2.274241</td>\n",
       "      <td>1.000000</td>\n",
       "      <td>1.766992</td>\n",
       "      <td>31.158581</td>\n",
       "      <td>55.056967</td>\n",
       "      <td>0</td>\n",
       "      <td>2.274241</td>\n",
       "      <td>0.421637</td>\n",
       "      <td>55.056967</td>\n",
       "      <td>4892643</td>\n",
       "      <td>1470</td>\n",
       "      <td>40138.0</td>\n",
       "      <td>1117.333333</td>\n",
       "      <td>13826.000000</td>\n",
       "    </tr>\n",
       "    <tr>\n",
       "      <th>3</th>\n",
       "      <td>53.779625</td>\n",
       "      <td>10508003</td>\n",
       "      <td>0</td>\n",
       "      <td>4.041452</td>\n",
       "      <td>1.041979</td>\n",
       "      <td>1.000000</td>\n",
       "      <td>1.107913</td>\n",
       "      <td>48.541391</td>\n",
       "      <td>53.779625</td>\n",
       "      <td>0</td>\n",
       "      <td>1.041979</td>\n",
       "      <td>4.041452</td>\n",
       "      <td>53.779625</td>\n",
       "      <td>5737379</td>\n",
       "      <td>30</td>\n",
       "      <td>0.0</td>\n",
       "      <td>2694.000000</td>\n",
       "      <td>15986.000000</td>\n",
       "    </tr>\n",
       "    <tr>\n",
       "      <th>4</th>\n",
       "      <td>53.076979</td>\n",
       "      <td>10714831</td>\n",
       "      <td>0</td>\n",
       "      <td>3.464102</td>\n",
       "      <td>1.069917</td>\n",
       "      <td>1.000000</td>\n",
       "      <td>1.107615</td>\n",
       "      <td>47.920072</td>\n",
       "      <td>53.076979</td>\n",
       "      <td>0</td>\n",
       "      <td>1.069917</td>\n",
       "      <td>3.464102</td>\n",
       "      <td>53.076979</td>\n",
       "      <td>4403184</td>\n",
       "      <td>16</td>\n",
       "      <td>53638.0</td>\n",
       "      <td>64.000000</td>\n",
       "      <td>23682.333333</td>\n",
       "    </tr>\n",
       "    <tr>\n",
       "      <th>...</th>\n",
       "      <td>...</td>\n",
       "      <td>...</td>\n",
       "      <td>...</td>\n",
       "      <td>...</td>\n",
       "      <td>...</td>\n",
       "      <td>...</td>\n",
       "      <td>...</td>\n",
       "      <td>...</td>\n",
       "      <td>...</td>\n",
       "      <td>...</td>\n",
       "      <td>...</td>\n",
       "      <td>...</td>\n",
       "      <td>...</td>\n",
       "      <td>...</td>\n",
       "      <td>...</td>\n",
       "      <td>...</td>\n",
       "      <td>...</td>\n",
       "      <td>...</td>\n",
       "    </tr>\n",
       "    <tr>\n",
       "      <th>546579</th>\n",
       "      <td>0.000000</td>\n",
       "      <td>10711987</td>\n",
       "      <td>1</td>\n",
       "      <td>0.534522</td>\n",
       "      <td>2.075304</td>\n",
       "      <td>1.000000</td>\n",
       "      <td>0.693147</td>\n",
       "      <td>0.000000</td>\n",
       "      <td>0.000000</td>\n",
       "      <td>1</td>\n",
       "      <td>2.075304</td>\n",
       "      <td>0.534522</td>\n",
       "      <td>0.000000</td>\n",
       "      <td>3303594</td>\n",
       "      <td>4</td>\n",
       "      <td>1422.0</td>\n",
       "      <td>416.903846</td>\n",
       "      <td>2765.673077</td>\n",
       "    </tr>\n",
       "    <tr>\n",
       "      <th>546580</th>\n",
       "      <td>0.000000</td>\n",
       "      <td>11143735</td>\n",
       "      <td>0</td>\n",
       "      <td>0.000000</td>\n",
       "      <td>1.791759</td>\n",
       "      <td>1.000000</td>\n",
       "      <td>0.693147</td>\n",
       "      <td>0.000000</td>\n",
       "      <td>0.000000</td>\n",
       "      <td>0</td>\n",
       "      <td>1.791759</td>\n",
       "      <td>0.000000</td>\n",
       "      <td>0.000000</td>\n",
       "      <td>2152513</td>\n",
       "      <td>12751</td>\n",
       "      <td>17568.0</td>\n",
       "      <td>7163.777778</td>\n",
       "      <td>28322.666667</td>\n",
       "    </tr>\n",
       "    <tr>\n",
       "      <th>546581</th>\n",
       "      <td>0.000000</td>\n",
       "      <td>11143737</td>\n",
       "      <td>0</td>\n",
       "      <td>0.000000</td>\n",
       "      <td>1.386294</td>\n",
       "      <td>1.000000</td>\n",
       "      <td>0.693147</td>\n",
       "      <td>0.000000</td>\n",
       "      <td>0.000000</td>\n",
       "      <td>0</td>\n",
       "      <td>1.386294</td>\n",
       "      <td>0.000000</td>\n",
       "      <td>0.000000</td>\n",
       "      <td>5912473</td>\n",
       "      <td>83</td>\n",
       "      <td>5306.0</td>\n",
       "      <td>254.000000</td>\n",
       "      <td>2976.000000</td>\n",
       "    </tr>\n",
       "    <tr>\n",
       "      <th>546582</th>\n",
       "      <td>0.000000</td>\n",
       "      <td>11143738</td>\n",
       "      <td>0</td>\n",
       "      <td>0.000000</td>\n",
       "      <td>0.693147</td>\n",
       "      <td>1.000000</td>\n",
       "      <td>1.791759</td>\n",
       "      <td>0.000000</td>\n",
       "      <td>0.000000</td>\n",
       "      <td>0</td>\n",
       "      <td>0.693147</td>\n",
       "      <td>0.000000</td>\n",
       "      <td>0.000000</td>\n",
       "      <td>4782758</td>\n",
       "      <td>215</td>\n",
       "      <td>20315.0</td>\n",
       "      <td>442.250000</td>\n",
       "      <td>14729.000000</td>\n",
       "    </tr>\n",
       "    <tr>\n",
       "      <th>546583</th>\n",
       "      <td>0.000000</td>\n",
       "      <td>11316959</td>\n",
       "      <td>0</td>\n",
       "      <td>0.000000</td>\n",
       "      <td>0.693147</td>\n",
       "      <td>0.965517</td>\n",
       "      <td>0.669246</td>\n",
       "      <td>0.000000</td>\n",
       "      <td>0.000000</td>\n",
       "      <td>0</td>\n",
       "      <td>0.693147</td>\n",
       "      <td>0.000000</td>\n",
       "      <td>0.000000</td>\n",
       "      <td>2303298</td>\n",
       "      <td>1</td>\n",
       "      <td>1084.0</td>\n",
       "      <td>1223.406250</td>\n",
       "      <td>7202.250000</td>\n",
       "    </tr>\n",
       "  </tbody>\n",
       "</table>\n",
       "<p>546584 rows × 18 columns</p>\n",
       "</div>"
      ],
      "text/plain": [
       "           STD_DI   OrderId  FraudId       STD        DI  NumDis_NumPur  \\\n",
       "0       60.192635  10261118        0  0.957427  2.661840       1.000000   \n",
       "1       56.388985  10861839        0  1.366260  1.648847       0.800000   \n",
       "2       55.056967  11216905        0  0.421637  2.274241       1.000000   \n",
       "3       53.779625  10508003        0  4.041452  1.041979       1.000000   \n",
       "4       53.076979  10714831        0  3.464102  1.069917       1.000000   \n",
       "...           ...       ...      ...       ...       ...            ...   \n",
       "546579   0.000000  10711987        1  0.534522  2.075304       1.000000   \n",
       "546580   0.000000  11143735        0  0.000000  1.791759       1.000000   \n",
       "546581   0.000000  11143737        0  0.000000  1.386294       1.000000   \n",
       "546582   0.000000  11143738        0  0.000000  0.693147       1.000000   \n",
       "546583   0.000000  11316959        0  0.000000  0.693147       0.965517   \n",
       "\n",
       "        NumDis_DI  NumDis_STD  NumDis_STD_DI  FraudId_avg     DIsum   STD_avg  \\\n",
       "0        0.899219   29.750568      40.128423            0  2.661840  0.957427   \n",
       "1        0.695645   56.291651      46.990821            0  1.648847  1.366260   \n",
       "2        1.766992   31.158581      55.056967            0  2.274241  0.421637   \n",
       "3        1.107913   48.541391      53.779625            0  1.041979  4.041452   \n",
       "4        1.107615   47.920072      53.076979            0  1.069917  3.464102   \n",
       "...           ...         ...            ...          ...       ...       ...   \n",
       "546579   0.693147    0.000000       0.000000            1  2.075304  0.534522   \n",
       "546580   0.693147    0.000000       0.000000            0  1.791759  0.000000   \n",
       "546581   0.693147    0.000000       0.000000            0  1.386294  0.000000   \n",
       "546582   1.791759    0.000000       0.000000            0  0.693147  0.000000   \n",
       "546583   0.669246    0.000000       0.000000            0  0.693147  0.000000   \n",
       "\n",
       "        STD_DI_avg  CustomerId  TimeToShoppingCart  TimeToPreviousOrder  \\\n",
       "0        60.192635     5608657                1335                  0.0   \n",
       "1        56.388985     2839661                   2                 63.0   \n",
       "2        55.056967     4892643                1470              40138.0   \n",
       "3        53.779625     5737379                  30                  0.0   \n",
       "4        53.076979     4403184                  16              53638.0   \n",
       "...            ...         ...                 ...                  ...   \n",
       "546579    0.000000     3303594                   4               1422.0   \n",
       "546580    0.000000     2152513               12751              17568.0   \n",
       "546581    0.000000     5912473                  83               5306.0   \n",
       "546582    0.000000     4782758                 215              20315.0   \n",
       "546583    0.000000     2303298                   1               1084.0   \n",
       "\n",
       "        AvgBasketForming  AvgTimeBetweenOrders  \n",
       "0             729.500000          10560.500000  \n",
       "1              12.600000          26204.200000  \n",
       "2            1117.333333          13826.000000  \n",
       "3            2694.000000          15986.000000  \n",
       "4              64.000000          23682.333333  \n",
       "...                  ...                   ...  \n",
       "546579        416.903846           2765.673077  \n",
       "546580       7163.777778          28322.666667  \n",
       "546581        254.000000           2976.000000  \n",
       "546582        442.250000          14729.000000  \n",
       "546583       1223.406250           7202.250000  \n",
       "\n",
       "[546584 rows x 18 columns]"
      ]
     },
     "execution_count": 99,
     "metadata": {
      "tags": []
     },
     "output_type": "execute_result"
    }
   ],
   "source": [
    "df"
   ]
  },
  {
   "cell_type": "code",
   "execution_count": null,
   "metadata": {
    "id": "9-c-ZsBhCZur"
   },
   "outputs": [],
   "source": []
  },
  {
   "cell_type": "code",
   "execution_count": null,
   "metadata": {
    "id": "SzpVB88mCZur"
   },
   "outputs": [],
   "source": []
  },
  {
   "cell_type": "code",
   "execution_count": null,
   "metadata": {
    "id": "reeSJYfzCZur"
   },
   "outputs": [],
   "source": []
  },
  {
   "cell_type": "code",
   "execution_count": null,
   "metadata": {
    "id": "1B83s3Q1CZus"
   },
   "outputs": [],
   "source": []
  },
  {
   "cell_type": "code",
   "execution_count": null,
   "metadata": {
    "id": "9VBTRZnhCZus"
   },
   "outputs": [],
   "source": []
  },
  {
   "cell_type": "code",
   "execution_count": null,
   "metadata": {
    "id": "7cY2GJVlCZuu"
   },
   "outputs": [],
   "source": []
  },
  {
   "cell_type": "code",
   "execution_count": null,
   "metadata": {
    "id": "vZfZ1aQTCZuu"
   },
   "outputs": [],
   "source": []
  },
  {
   "cell_type": "code",
   "execution_count": null,
   "metadata": {
    "id": "0tnjuAMBCZuv"
   },
   "outputs": [],
   "source": []
  },
  {
   "cell_type": "markdown",
   "metadata": {
    "id": "tXdiQ2J6CZuv"
   },
   "source": [
    "# BaseLine "
   ]
  },
  {
   "cell_type": "code",
   "execution_count": null,
   "metadata": {
    "id": "kfJE4LIMCZuv",
    "outputId": "2ce94207-1ee5-47e8-a5d0-e3e04e3651fb"
   },
   "outputs": [
    {
     "name": "stdout",
     "output_type": "stream",
     "text": [
      "546584 74114\n",
      "The BaseLine accuracy is: % 86.4405105162244\n"
     ]
    }
   ],
   "source": [
    "nFraud = df[df['FraudId']==0].shape[0]\n",
    "print(df.shape[0] , df.shape[0] - nFraud)\n",
    "BaseLine_acc = nFraud/df.shape[0]*100\n",
    "print('The BaseLine accuracy is: %', BaseLine_acc)"
   ]
  },
  {
   "cell_type": "markdown",
   "metadata": {
    "id": "0NFB4GvQCZuw"
   },
   "source": [
    "# The Data and Model"
   ]
  },
  {
   "cell_type": "code",
   "execution_count": null,
   "metadata": {
    "id": "siVmuDthCZuw",
    "outputId": "e5733889-fb86-43ab-88ce-2af1d138308d"
   },
   "outputs": [
    {
     "data": {
      "text/html": [
       "<div>\n",
       "<style scoped>\n",
       "    .dataframe tbody tr th:only-of-type {\n",
       "        vertical-align: middle;\n",
       "    }\n",
       "\n",
       "    .dataframe tbody tr th {\n",
       "        vertical-align: top;\n",
       "    }\n",
       "\n",
       "    .dataframe thead th {\n",
       "        text-align: right;\n",
       "    }\n",
       "</style>\n",
       "<table border=\"1\" class=\"dataframe\">\n",
       "  <thead>\n",
       "    <tr style=\"text-align: right;\">\n",
       "      <th></th>\n",
       "      <th>STD_DI</th>\n",
       "      <th>OrderId</th>\n",
       "      <th>FraudId</th>\n",
       "      <th>STD</th>\n",
       "      <th>DI</th>\n",
       "      <th>DIsum</th>\n",
       "      <th>STD_avg</th>\n",
       "      <th>STD_DI_avg</th>\n",
       "      <th>CustomerId</th>\n",
       "    </tr>\n",
       "  </thead>\n",
       "  <tbody>\n",
       "    <tr>\n",
       "      <th>0</th>\n",
       "      <td>60.192635</td>\n",
       "      <td>10261118</td>\n",
       "      <td>0</td>\n",
       "      <td>0.957427</td>\n",
       "      <td>2.661840</td>\n",
       "      <td>2.661840</td>\n",
       "      <td>0.957427</td>\n",
       "      <td>60.192635</td>\n",
       "      <td>5608657</td>\n",
       "    </tr>\n",
       "    <tr>\n",
       "      <th>1</th>\n",
       "      <td>56.388985</td>\n",
       "      <td>10861839</td>\n",
       "      <td>0</td>\n",
       "      <td>1.366260</td>\n",
       "      <td>1.648847</td>\n",
       "      <td>1.648847</td>\n",
       "      <td>1.366260</td>\n",
       "      <td>56.388985</td>\n",
       "      <td>2839661</td>\n",
       "    </tr>\n",
       "    <tr>\n",
       "      <th>2</th>\n",
       "      <td>55.056967</td>\n",
       "      <td>11216905</td>\n",
       "      <td>0</td>\n",
       "      <td>0.421637</td>\n",
       "      <td>2.274241</td>\n",
       "      <td>2.274241</td>\n",
       "      <td>0.421637</td>\n",
       "      <td>55.056967</td>\n",
       "      <td>4892643</td>\n",
       "    </tr>\n",
       "    <tr>\n",
       "      <th>3</th>\n",
       "      <td>53.779625</td>\n",
       "      <td>10508003</td>\n",
       "      <td>0</td>\n",
       "      <td>4.041452</td>\n",
       "      <td>1.041979</td>\n",
       "      <td>1.041979</td>\n",
       "      <td>4.041452</td>\n",
       "      <td>53.779625</td>\n",
       "      <td>5737379</td>\n",
       "    </tr>\n",
       "    <tr>\n",
       "      <th>4</th>\n",
       "      <td>53.076979</td>\n",
       "      <td>10714831</td>\n",
       "      <td>0</td>\n",
       "      <td>3.464102</td>\n",
       "      <td>1.069917</td>\n",
       "      <td>1.069917</td>\n",
       "      <td>3.464102</td>\n",
       "      <td>53.076979</td>\n",
       "      <td>4403184</td>\n",
       "    </tr>\n",
       "    <tr>\n",
       "      <th>...</th>\n",
       "      <td>...</td>\n",
       "      <td>...</td>\n",
       "      <td>...</td>\n",
       "      <td>...</td>\n",
       "      <td>...</td>\n",
       "      <td>...</td>\n",
       "      <td>...</td>\n",
       "      <td>...</td>\n",
       "      <td>...</td>\n",
       "    </tr>\n",
       "    <tr>\n",
       "      <th>546579</th>\n",
       "      <td>0.000000</td>\n",
       "      <td>10711987</td>\n",
       "      <td>1</td>\n",
       "      <td>0.534522</td>\n",
       "      <td>2.075304</td>\n",
       "      <td>2.075304</td>\n",
       "      <td>0.534522</td>\n",
       "      <td>0.000000</td>\n",
       "      <td>3303594</td>\n",
       "    </tr>\n",
       "    <tr>\n",
       "      <th>546580</th>\n",
       "      <td>0.000000</td>\n",
       "      <td>11143735</td>\n",
       "      <td>0</td>\n",
       "      <td>0.000000</td>\n",
       "      <td>1.791759</td>\n",
       "      <td>1.791759</td>\n",
       "      <td>0.000000</td>\n",
       "      <td>0.000000</td>\n",
       "      <td>2152513</td>\n",
       "    </tr>\n",
       "    <tr>\n",
       "      <th>546581</th>\n",
       "      <td>0.000000</td>\n",
       "      <td>11143737</td>\n",
       "      <td>0</td>\n",
       "      <td>0.000000</td>\n",
       "      <td>1.386294</td>\n",
       "      <td>1.386294</td>\n",
       "      <td>0.000000</td>\n",
       "      <td>0.000000</td>\n",
       "      <td>5912473</td>\n",
       "    </tr>\n",
       "    <tr>\n",
       "      <th>546582</th>\n",
       "      <td>0.000000</td>\n",
       "      <td>11143738</td>\n",
       "      <td>0</td>\n",
       "      <td>0.000000</td>\n",
       "      <td>0.693147</td>\n",
       "      <td>0.693147</td>\n",
       "      <td>0.000000</td>\n",
       "      <td>0.000000</td>\n",
       "      <td>4782758</td>\n",
       "    </tr>\n",
       "    <tr>\n",
       "      <th>546583</th>\n",
       "      <td>0.000000</td>\n",
       "      <td>11316959</td>\n",
       "      <td>0</td>\n",
       "      <td>0.000000</td>\n",
       "      <td>0.693147</td>\n",
       "      <td>0.693147</td>\n",
       "      <td>0.000000</td>\n",
       "      <td>0.000000</td>\n",
       "      <td>2303298</td>\n",
       "    </tr>\n",
       "  </tbody>\n",
       "</table>\n",
       "<p>546584 rows × 9 columns</p>\n",
       "</div>"
      ],
      "text/plain": [
       "           STD_DI   OrderId  FraudId       STD        DI     DIsum   STD_avg  \\\n",
       "0       60.192635  10261118        0  0.957427  2.661840  2.661840  0.957427   \n",
       "1       56.388985  10861839        0  1.366260  1.648847  1.648847  1.366260   \n",
       "2       55.056967  11216905        0  0.421637  2.274241  2.274241  0.421637   \n",
       "3       53.779625  10508003        0  4.041452  1.041979  1.041979  4.041452   \n",
       "4       53.076979  10714831        0  3.464102  1.069917  1.069917  3.464102   \n",
       "...           ...       ...      ...       ...       ...       ...       ...   \n",
       "546579   0.000000  10711987        1  0.534522  2.075304  2.075304  0.534522   \n",
       "546580   0.000000  11143735        0  0.000000  1.791759  1.791759  0.000000   \n",
       "546581   0.000000  11143737        0  0.000000  1.386294  1.386294  0.000000   \n",
       "546582   0.000000  11143738        0  0.000000  0.693147  0.693147  0.000000   \n",
       "546583   0.000000  11316959        0  0.000000  0.693147  0.693147  0.000000   \n",
       "\n",
       "        STD_DI_avg  CustomerId  \n",
       "0        60.192635     5608657  \n",
       "1        56.388985     2839661  \n",
       "2        55.056967     4892643  \n",
       "3        53.779625     5737379  \n",
       "4        53.076979     4403184  \n",
       "...            ...         ...  \n",
       "546579    0.000000     3303594  \n",
       "546580    0.000000     2152513  \n",
       "546581    0.000000     5912473  \n",
       "546582    0.000000     4782758  \n",
       "546583    0.000000     2303298  \n",
       "\n",
       "[546584 rows x 9 columns]"
      ]
     },
     "execution_count": 54,
     "metadata": {
      "tags": []
     },
     "output_type": "execute_result"
    }
   ],
   "source": [
    "MyData1"
   ]
  },
  {
   "cell_type": "code",
   "execution_count": null,
   "metadata": {
    "id": "5VsPl_V3CZuw",
    "outputId": "17d4118f-4265-4755-f3da-bd2dfed22d0d"
   },
   "outputs": [
    {
     "name": "stderr",
     "output_type": "stream",
     "text": [
      "[Parallel(n_jobs=1)]: Using backend SequentialBackend with 1 concurrent workers.\n",
      "[Parallel(n_jobs=1)]: Done 800 out of 800 | elapsed:  1.8min finished\n",
      "[Parallel(n_jobs=1)]: Using backend SequentialBackend with 1 concurrent workers.\n",
      "[Parallel(n_jobs=1)]: Done 800 out of 800 | elapsed:    9.9s finished\n",
      "[Parallel(n_jobs=1)]: Using backend SequentialBackend with 1 concurrent workers.\n",
      "[Parallel(n_jobs=1)]: Done 800 out of 800 | elapsed:   20.1s finished\n",
      "[Parallel(n_jobs=1)]: Using backend SequentialBackend with 1 concurrent workers.\n",
      "[Parallel(n_jobs=1)]: Done 800 out of 800 | elapsed:   20.2s finished\n",
      "[Parallel(n_jobs=1)]: Using backend SequentialBackend with 1 concurrent workers.\n",
      "[Parallel(n_jobs=1)]: Done 800 out of 800 | elapsed:  1.6min finished\n",
      "[Parallel(n_jobs=1)]: Using backend SequentialBackend with 1 concurrent workers.\n",
      "[Parallel(n_jobs=1)]: Done 800 out of 800 | elapsed:    1.6s finished\n",
      "[Parallel(n_jobs=1)]: Using backend SequentialBackend with 1 concurrent workers.\n",
      "[Parallel(n_jobs=1)]: Done 800 out of 800 | elapsed:  1.6min finished\n",
      "[Parallel(n_jobs=1)]: Using backend SequentialBackend with 1 concurrent workers.\n",
      "[Parallel(n_jobs=1)]: Done 800 out of 800 | elapsed:    1.6s finished\n",
      "[Parallel(n_jobs=1)]: Using backend SequentialBackend with 1 concurrent workers.\n",
      "[Parallel(n_jobs=1)]: Done 800 out of 800 | elapsed:  1.6min finished\n",
      "[Parallel(n_jobs=1)]: Using backend SequentialBackend with 1 concurrent workers.\n",
      "[Parallel(n_jobs=1)]: Done 800 out of 800 | elapsed:    1.6s finished\n",
      "[Parallel(n_jobs=1)]: Using backend SequentialBackend with 1 concurrent workers.\n",
      "[Parallel(n_jobs=1)]: Done 800 out of 800 | elapsed:  1.6min finished\n",
      "[Parallel(n_jobs=1)]: Using backend SequentialBackend with 1 concurrent workers.\n",
      "[Parallel(n_jobs=1)]: Done 800 out of 800 | elapsed:    1.6s finished\n",
      "[Parallel(n_jobs=1)]: Using backend SequentialBackend with 1 concurrent workers.\n",
      "[Parallel(n_jobs=1)]: Done 800 out of 800 | elapsed:  1.6min finished\n",
      "[Parallel(n_jobs=1)]: Using backend SequentialBackend with 1 concurrent workers.\n",
      "[Parallel(n_jobs=1)]: Done 800 out of 800 | elapsed:    1.6s finished\n",
      "[Parallel(n_jobs=1)]: Using backend SequentialBackend with 1 concurrent workers.\n",
      "[Parallel(n_jobs=1)]: Done 800 out of 800 | elapsed:  1.6min finished\n",
      "[Parallel(n_jobs=1)]: Using backend SequentialBackend with 1 concurrent workers.\n",
      "[Parallel(n_jobs=1)]: Done 800 out of 800 | elapsed:    1.6s finished\n",
      "[Parallel(n_jobs=1)]: Using backend SequentialBackend with 1 concurrent workers.\n",
      "[Parallel(n_jobs=1)]: Done 800 out of 800 | elapsed:  1.6min finished\n",
      "[Parallel(n_jobs=1)]: Using backend SequentialBackend with 1 concurrent workers.\n",
      "[Parallel(n_jobs=1)]: Done 800 out of 800 | elapsed:    1.6s finished\n",
      "[Parallel(n_jobs=1)]: Using backend SequentialBackend with 1 concurrent workers.\n",
      "[Parallel(n_jobs=1)]: Done 800 out of 800 | elapsed:  1.6min finished\n",
      "[Parallel(n_jobs=1)]: Using backend SequentialBackend with 1 concurrent workers.\n",
      "[Parallel(n_jobs=1)]: Done 800 out of 800 | elapsed:    1.7s finished\n",
      "[Parallel(n_jobs=1)]: Using backend SequentialBackend with 1 concurrent workers.\n",
      "[Parallel(n_jobs=1)]: Done 800 out of 800 | elapsed:  1.6min finished\n",
      "[Parallel(n_jobs=1)]: Using backend SequentialBackend with 1 concurrent workers.\n",
      "[Parallel(n_jobs=1)]: Done 800 out of 800 | elapsed:    1.7s finished\n",
      "[Parallel(n_jobs=1)]: Using backend SequentialBackend with 1 concurrent workers.\n",
      "[Parallel(n_jobs=1)]: Done 800 out of 800 | elapsed:  1.7min finished\n",
      "[Parallel(n_jobs=1)]: Using backend SequentialBackend with 1 concurrent workers.\n",
      "[Parallel(n_jobs=1)]: Done 800 out of 800 | elapsed:    1.7s finished\n",
      "C:\\Users\\Mahdieh.Fatemeh\\AppData\\Roaming\\Python\\Python38\\site-packages\\sklearn\\metrics\\_classification.py:1245: UndefinedMetricWarning: Precision is ill-defined and being set to 0.0 due to no predicted samples. Use `zero_division` parameter to control this behavior.\n",
      "  _warn_prf(average, modifier, msg_start, len(result))\n"
     ]
    },
    {
     "name": "stdout",
     "output_type": "stream",
     "text": [
      "M1 CV Precision: 0.000000 \n",
      "M1 CV Recall: 0.000000 \n",
      "M1 CV F1: 0.000000\n"
     ]
    },
    {
     "name": "stderr",
     "output_type": "stream",
     "text": [
      "[Parallel(n_jobs=1)]: Using backend SequentialBackend with 1 concurrent workers.\n",
      "[Parallel(n_jobs=1)]: Done 800 out of 800 | elapsed:   10.0s finished\n",
      "C:\\Users\\Mahdieh.Fatemeh\\AppData\\Roaming\\Python\\Python38\\site-packages\\sklearn\\metrics\\_classification.py:1245: UndefinedMetricWarning: Precision is ill-defined and being set to 0.0 due to no predicted samples. Use `zero_division` parameter to control this behavior.\n",
      "  _warn_prf(average, modifier, msg_start, len(result))\n"
     ]
    },
    {
     "name": "stdout",
     "output_type": "stream",
     "text": [
      "M1 Precision: 0.000000 \n",
      "M1 Recall: 0.000000 \n",
      "Let's see the confuision matrix:\n",
      " [[155961      0]\n",
      " [ 24412      0]]\n"
     ]
    },
    {
     "name": "stderr",
     "output_type": "stream",
     "text": [
      "[Parallel(n_jobs=1)]: Using backend SequentialBackend with 1 concurrent workers.\n",
      "[Parallel(n_jobs=1)]: Done 800 out of 800 | elapsed:   20.5s finished\n",
      "C:\\Users\\Mahdieh.Fatemeh\\AppData\\Roaming\\Python\\Python38\\site-packages\\sklearn\\metrics\\_classification.py:1245: UndefinedMetricWarning: Precision is ill-defined and being set to 0.0 due to no predicted samples. Use `zero_division` parameter to control this behavior.\n",
      "  _warn_prf(average, modifier, msg_start, len(result))\n",
      "<ipython-input-58-54a7158a5283>:48: RuntimeWarning: divide by zero encountered in double_scalars\n",
      "  TP1 = (1-A)*T/(1/P + 1/R + 2)\n",
      "<ipython-input-58-54a7158a5283>:49: RuntimeWarning: invalid value encountered in double_scalars\n",
      "  FP1 = (TP1/P) - TP1\n",
      "<ipython-input-58-54a7158a5283>:50: RuntimeWarning: invalid value encountered in double_scalars\n",
      "  FN1 = (TP1/R) - TP1\n"
     ]
    },
    {
     "name": "stdout",
     "output_type": "stream",
     "text": [
      "M2 Accuracy: 86.43 ,\n",
      " M2 AUC:  0.5 ,\n",
      " M2 True Positive: 0.0 ,\n",
      " M2 False Positive: nan ,\n",
      " M2 True Negative: nan ,\n",
      " M2 False Negative: nan ,\n",
      " M2 Features: \n",
      " Index(['STD', 'DI', 'DIsum', 'STD_avg'], dtype='object') ,\n",
      " M2 Feature Importance: \n",
      " [0.04177642 0.45790583 0.46128365 0.0390341 ] ,\n",
      " M2 f_0.5: 0.444357133658441\n"
     ]
    }
   ],
   "source": [
    "########### The test-train data #################\n",
    "\n",
    "dfT1 = MyData1.drop(columns = ['CustomerId','OrderId','STD_DI','STD_DI_avg']).dropna()\n",
    "\n",
    "shuffled1=dfT1.sample(frac=1).reset_index(drop=True)\n",
    "DF1= shuffled1.iloc[:,:]\n",
    "\n",
    "y1 = DF1['FraudId']\n",
    "DF1_T = DF1.drop(columns={'FraudId'})\n",
    "\n",
    "X1_train, X1_test, y1_train, y1_test = train_test_split(DF1_T, y1, test_size=0.33,random_state = 0)\n",
    "\n",
    "#################### THe Model #####################\n",
    "\n",
    "rf1 = RandomForestClassifier(n_estimators=800, verbose=1 , max_depth = 5)\n",
    "rf1.fit(X1_train, y1_train)\n",
    "\n",
    "y1_prediction = rf1.predict(X1_test)\n",
    "\n",
    "rf1.score(X1_train, y1_train)\n",
    "acc_rf1 = round(rf1.score(X1_train, y1_train) * 100, 2)\n",
    "\n",
    "acc_rf1\n",
    "\n",
    "\n",
    "y1_train_pred =cross_val_predict(rf1, X1_train, y1_train, cv=10)\n",
    "print(\"M1 CV Precision: %f \"%precision_score(y1_train, y1_train_pred))\n",
    "print(\"M1 CV Recall: %f \"%recall_score(y1_train, y1_train_pred))\n",
    "print(\"M1 CV F1: %f\"% f1_score(y1_train, y1_train_pred))\n",
    "\n",
    "############################################# X_test_scaled=preprocessing_pipe.fit_transform(X_test)\n",
    "y1_test_pred=rf1.predict(X1_test)\n",
    "# _scaled)\n",
    "\n",
    "print(\"M1 Precision: %f \"%precision_score(y1_test, y1_test_pred))\n",
    "print(\"M1 Recall: %f \"%recall_score(y1_test, y1_test_pred))\n",
    "# print(\"F1: %f\"% f1_score(y_train, y_prediction))\n",
    "print(\"Let's see the confuision matrix:\\n\",confusion_matrix(y1_test, y1_test_pred))\n",
    "\n",
    "\n",
    "auc1 = roc_auc_score(y1_test, y1_test_pred)\n",
    "\n",
    "T = y1.shape[0]\n",
    "A = rf1.score(X1_train, y1_train)\n",
    "P = precision_score(y1_test, y1_test_pred)\n",
    "R = recall_score(y1_test, y1_test_pred)\n",
    "\n",
    "TP1 = (1-A)*T/(1/P + 1/R + 2)\n",
    "FP1 = (TP1/P) - TP1\n",
    "FN1 = (TP1/R) - TP1\n",
    "TN1 = T - FN1 -FP1 - TP1\n",
    "\n",
    "M1_FI = rf1.feature_importances_\n",
    "M1_f_beta = fbeta_score(y1_test, y1_test_pred, average='macro', beta=0.5)\n",
    "\n",
    "print('M2 Accuracy:', acc_rf1, \n",
    "      ',\\n M2 AUC: ',auc1 ,\n",
    "      ',\\n M2 True Positive:' , TP1 , \n",
    "      ',\\n M2 False Positive:' , FP1 , \n",
    "      ',\\n M2 True Negative:', TN1 ,\n",
    "      ',\\n M2 False Negative:', FN1,\n",
    "     ',\\n M2 Features: \\n', X1_train.columns, \n",
    "     ',\\n M2 Feature Importance: \\n' , M1_FI,\n",
    "     ',\\n M2 f_0.5:', M1_f_beta)"
   ]
  },
  {
   "cell_type": "code",
   "execution_count": null,
   "metadata": {
    "id": "qNSgiV2bCZux",
    "outputId": "980fa896-fdc1-48b5-d648-cf58105bdaca"
   },
   "outputs": [
    {
     "name": "stderr",
     "output_type": "stream",
     "text": [
      "[Parallel(n_jobs=1)]: Using backend SequentialBackend with 1 concurrent workers.\n",
      "[Parallel(n_jobs=1)]: Done 400 out of 400 | elapsed:  1.4min finished\n",
      "[Parallel(n_jobs=1)]: Using backend SequentialBackend with 1 concurrent workers.\n",
      "[Parallel(n_jobs=1)]: Done 400 out of 400 | elapsed:    5.6s finished\n",
      "[Parallel(n_jobs=1)]: Using backend SequentialBackend with 1 concurrent workers.\n",
      "[Parallel(n_jobs=1)]: Done 400 out of 400 | elapsed:   11.4s finished\n",
      "[Parallel(n_jobs=1)]: Using backend SequentialBackend with 1 concurrent workers.\n",
      "[Parallel(n_jobs=1)]: Done 400 out of 400 | elapsed:   11.4s finished\n",
      "[Parallel(n_jobs=1)]: Using backend SequentialBackend with 1 concurrent workers.\n",
      "[Parallel(n_jobs=1)]: Done 400 out of 400 | elapsed:  1.2min finished\n",
      "[Parallel(n_jobs=1)]: Using backend SequentialBackend with 1 concurrent workers.\n",
      "[Parallel(n_jobs=1)]: Done 400 out of 400 | elapsed:    0.9s finished\n",
      "[Parallel(n_jobs=1)]: Using backend SequentialBackend with 1 concurrent workers.\n",
      "[Parallel(n_jobs=1)]: Done 400 out of 400 | elapsed:  1.2min finished\n",
      "[Parallel(n_jobs=1)]: Using backend SequentialBackend with 1 concurrent workers.\n",
      "[Parallel(n_jobs=1)]: Done 400 out of 400 | elapsed:    0.9s finished\n",
      "[Parallel(n_jobs=1)]: Using backend SequentialBackend with 1 concurrent workers.\n",
      "[Parallel(n_jobs=1)]: Done 400 out of 400 | elapsed:  1.2min finished\n",
      "[Parallel(n_jobs=1)]: Using backend SequentialBackend with 1 concurrent workers.\n",
      "[Parallel(n_jobs=1)]: Done 400 out of 400 | elapsed:    0.9s finished\n",
      "[Parallel(n_jobs=1)]: Using backend SequentialBackend with 1 concurrent workers.\n",
      "[Parallel(n_jobs=1)]: Done 400 out of 400 | elapsed:  1.3min finished\n",
      "[Parallel(n_jobs=1)]: Using backend SequentialBackend with 1 concurrent workers.\n",
      "[Parallel(n_jobs=1)]: Done 400 out of 400 | elapsed:    0.9s finished\n",
      "[Parallel(n_jobs=1)]: Using backend SequentialBackend with 1 concurrent workers.\n",
      "[Parallel(n_jobs=1)]: Done 400 out of 400 | elapsed:  1.2min finished\n",
      "[Parallel(n_jobs=1)]: Using backend SequentialBackend with 1 concurrent workers.\n",
      "[Parallel(n_jobs=1)]: Done 400 out of 400 | elapsed:    0.9s finished\n",
      "[Parallel(n_jobs=1)]: Using backend SequentialBackend with 1 concurrent workers.\n",
      "[Parallel(n_jobs=1)]: Done 400 out of 400 | elapsed:  1.2min finished\n",
      "[Parallel(n_jobs=1)]: Using backend SequentialBackend with 1 concurrent workers.\n",
      "[Parallel(n_jobs=1)]: Done 400 out of 400 | elapsed:    0.9s finished\n",
      "[Parallel(n_jobs=1)]: Using backend SequentialBackend with 1 concurrent workers.\n",
      "[Parallel(n_jobs=1)]: Done 400 out of 400 | elapsed:  1.2min finished\n",
      "[Parallel(n_jobs=1)]: Using backend SequentialBackend with 1 concurrent workers.\n",
      "[Parallel(n_jobs=1)]: Done 400 out of 400 | elapsed:    0.9s finished\n",
      "[Parallel(n_jobs=1)]: Using backend SequentialBackend with 1 concurrent workers.\n",
      "[Parallel(n_jobs=1)]: Done 400 out of 400 | elapsed:  1.2min finished\n",
      "[Parallel(n_jobs=1)]: Using backend SequentialBackend with 1 concurrent workers.\n",
      "[Parallel(n_jobs=1)]: Done 400 out of 400 | elapsed:    1.0s finished\n",
      "[Parallel(n_jobs=1)]: Using backend SequentialBackend with 1 concurrent workers.\n",
      "[Parallel(n_jobs=1)]: Done 400 out of 400 | elapsed:  1.2min finished\n",
      "[Parallel(n_jobs=1)]: Using backend SequentialBackend with 1 concurrent workers.\n",
      "[Parallel(n_jobs=1)]: Done 400 out of 400 | elapsed:    0.9s finished\n",
      "[Parallel(n_jobs=1)]: Using backend SequentialBackend with 1 concurrent workers.\n",
      "[Parallel(n_jobs=1)]: Done 400 out of 400 | elapsed:  1.2min finished\n",
      "[Parallel(n_jobs=1)]: Using backend SequentialBackend with 1 concurrent workers.\n",
      "[Parallel(n_jobs=1)]: Done 400 out of 400 | elapsed:    0.9s finished\n",
      "C:\\Users\\Mahdieh.Fatemeh\\AppData\\Roaming\\Python\\Python38\\site-packages\\sklearn\\metrics\\_classification.py:1245: UndefinedMetricWarning: Precision is ill-defined and being set to 0.0 due to no predicted samples. Use `zero_division` parameter to control this behavior.\n",
      "  _warn_prf(average, modifier, msg_start, len(result))\n"
     ]
    },
    {
     "name": "stdout",
     "output_type": "stream",
     "text": [
      "M2 CV Precision: 0.000000 \n",
      "M2 CVRecall: 0.000000 \n",
      "M2 CV F1: 0.000000\n"
     ]
    },
    {
     "name": "stderr",
     "output_type": "stream",
     "text": [
      "[Parallel(n_jobs=1)]: Using backend SequentialBackend with 1 concurrent workers.\n",
      "[Parallel(n_jobs=1)]: Done 400 out of 400 | elapsed:    5.5s finished\n",
      "C:\\Users\\Mahdieh.Fatemeh\\AppData\\Roaming\\Python\\Python38\\site-packages\\sklearn\\metrics\\_classification.py:1245: UndefinedMetricWarning: Precision is ill-defined and being set to 0.0 due to no predicted samples. Use `zero_division` parameter to control this behavior.\n",
      "  _warn_prf(average, modifier, msg_start, len(result))\n"
     ]
    },
    {
     "name": "stdout",
     "output_type": "stream",
     "text": [
      "M2 Precision: 0.000000 \n",
      "M2 Recall: 0.000000 \n",
      "Let's see the confuision matrix:\n",
      " [[155825      0]\n",
      " [ 24548      0]]\n"
     ]
    },
    {
     "name": "stderr",
     "output_type": "stream",
     "text": [
      "[Parallel(n_jobs=1)]: Using backend SequentialBackend with 1 concurrent workers.\n",
      "[Parallel(n_jobs=1)]: Done 400 out of 400 | elapsed:   11.1s finished\n",
      "C:\\Users\\Mahdieh.Fatemeh\\AppData\\Roaming\\Python\\Python38\\site-packages\\sklearn\\metrics\\_classification.py:1245: UndefinedMetricWarning: Precision is ill-defined and being set to 0.0 due to no predicted samples. Use `zero_division` parameter to control this behavior.\n",
      "  _warn_prf(average, modifier, msg_start, len(result))\n",
      "<ipython-input-13-f9475609c2cb>:50: RuntimeWarning: divide by zero encountered in double_scalars\n",
      "  TP2 = (1-A)*T/(1/P + 1/R + 2)\n",
      "<ipython-input-13-f9475609c2cb>:51: RuntimeWarning: invalid value encountered in double_scalars\n",
      "  FP2 = (TP2/P) - TP2\n",
      "<ipython-input-13-f9475609c2cb>:52: RuntimeWarning: invalid value encountered in double_scalars\n",
      "  FN2 = (TP2/R) - TP2\n"
     ]
    },
    {
     "name": "stdout",
     "output_type": "stream",
     "text": [
      "M2 Accuracy: 86.47 ,\n",
      " M2 AUC:  0.5 ,\n",
      " M2 True Positive: 0.0 ,\n",
      " M2 False Positive: nan ,\n",
      " M2 True Negative: nan ,\n",
      " M2 False Negative: nan ,\n",
      " M2 Features: \n",
      " Index(['STD_DI', 'STD', 'DI', 'DIsum', 'STD_avg', 'STD_DI_avg', 'ToMinPrice',\n",
      "       'DisProfit'],\n",
      "      dtype='object') ,\n",
      " M2 Feature Importance: \n",
      " [0.00169015 0.02627805 0.2511935  0.24188462 0.02666959 0.00179234\n",
      " 0.18203423 0.26845752] ,\n",
      " M2 f_0.5: 0.44403847184085116\n"
     ]
    }
   ],
   "source": [
    "########### The test-train data #################\n",
    "\n",
    "dfT2 = MyData2.drop(columns = ['CustomerId','OrderId']).dropna()\n",
    "\n",
    "shuffled2=dfT2.sample(frac=1).reset_index(drop=True)\n",
    "DF2= shuffled2.iloc[:,:]\n",
    "\n",
    "y2 = DF2['FraudId']\n",
    "DF2_T = DF2.drop(columns={'FraudId'})\n",
    "\n",
    "X2_train, X2_test, y2_train, y2_test = train_test_split(DF2_T, y2, test_size=0.33,random_state = 0)\n",
    "\n",
    "#################### THe Model #####################\n",
    "\n",
    "rf2 = RandomForestClassifier(n_estimators=400, verbose=1 , max_depth = 6)\n",
    "rf2.fit(X2_train, y2_train)\n",
    "\n",
    "y2_prediction = rf2.predict(X2_test)\n",
    "\n",
    "rf2.score(X2_train, y2_train)\n",
    "acc_rf2 = round(rf2.score(X2_train, y2_train) * 100, 2)\n",
    "\n",
    "\n",
    "####################################################\n",
    "####################################################\n",
    "\n",
    "\n",
    "y2_train_pred =cross_val_predict(rf2, X2_train, y2_train, cv=10)\n",
    "print(\"M2 CV Precision: %f \"%precision_score(y2_train, y2_train_pred))\n",
    "print(\"M2 CVRecall: %f \"%recall_score(y2_train, y2_train_pred))\n",
    "print(\"M2 CV F1: %f\"% f1_score(y2_train, y2_train_pred))\n",
    "\n",
    "############################################# \n",
    "# X_test_scaled=preprocessing_pipe.fit_transform(X_test)\n",
    "y2_test_pred=rf2.predict(X2_test)\n",
    "\n",
    "print(\"M2 Precision: %f \"%precision_score(y2_test, y2_test_pred))\n",
    "print(\"M2 Recall: %f \"%recall_score(y2_test, y2_test_pred))\n",
    "# print(\"F1: %f\"% f1_score(y_train, y_prediction))\n",
    "print(\"Let's see the confuision matrix:\\n\",confusion_matrix(y2_test, y2_test_pred))\n",
    "\n",
    "\n",
    "auc2 = roc_auc_score(y2_test, y2_test_pred)\n",
    "\n",
    "T = y2.shape[0]\n",
    "A = rf2.score(X2_train, y2_train)\n",
    "P = precision_score(y2_test, y2_test_pred)\n",
    "R = recall_score(y2_test, y2_test_pred)\n",
    "\n",
    "TP2 = (1-A)*T/(1/P + 1/R + 2)\n",
    "FP2 = (TP2/P) - TP2\n",
    "FN2 = (TP2/R) - TP2\n",
    "TN2 = T - FN2 -FP2 - TP2\n",
    "\n",
    "M2_FI = rf2.feature_importances_\n",
    "M2_f_beta = fbeta_score(y2_test, y2_test_pred, average='macro', beta=0.5)\n",
    "\n",
    "print('M2 Accuracy:', acc_rf2, \n",
    "      ',\\n M2 AUC: ',auc2 ,\n",
    "      ',\\n M2 True Positive:' , TP2 , \n",
    "      ',\\n M2 False Positive:' , FP2 , \n",
    "      ',\\n M2 True Negative:', TN2 ,\n",
    "      ',\\n M2 False Negative:', FN2,\n",
    "     ',\\n M2 Features: \\n', X2_train.columns, \n",
    "     ',\\n M2 Feature Importance: \\n' , M2_FI,\n",
    "     ',\\n M2 f_0.5:', M2_f_beta)"
   ]
  },
  {
   "cell_type": "code",
   "execution_count": null,
   "metadata": {
    "id": "4msHIkuaCZuy"
   },
   "outputs": [],
   "source": [
    "########### The test-train data #################\n",
    "\n",
    "dfT2 = MyData2.drop(columns = ['CustomerId','OrderId']).dropna()\n",
    "\n",
    "shuffled2=dfT2.sample(frac=1).reset_index(drop=True)\n",
    "DF2= shuffled2.iloc[:,:]\n",
    "\n",
    "y2 = DF2['FraudId']\n",
    "DF2_T = DF2.drop(columns={'FraudId'})\n",
    "\n",
    "X2_train, X2_test, y2_train, y2_test = train_test_split(DF2_T, y2, test_size=0.33,random_state = 0)\n",
    "\n",
    "#################### THe Model #####################\n",
    "\n",
    "rf2 = RandomForestClassifier(n_estimators=400, verbose=1 , max_depth = 6)\n",
    "rf2.fit(X2_train, y2_train)\n",
    "\n",
    "y2_prediction = rf2.predict(X2_test)\n",
    "\n",
    "rf2.score(X2_train, y2_train)\n",
    "acc_rf2 = round(rf2.score(X2_train, y2_train) * 100, 2)\n",
    "\n",
    "\n",
    "####################################################\n",
    "####################################################\n",
    "\n",
    "\n",
    "y2_train_pred =cross_val_predict(rf2, X2_train, y2_train, cv=10)\n",
    "print(\"M2 CV Precision: %f \"%precision_score(y2_train, y2_train_pred))\n",
    "print(\"M2 CVRecall: %f \"%recall_score(y2_train, y2_train_pred))\n",
    "print(\"M2 CV F1: %f\"% f1_score(y2_train, y2_train_pred))\n",
    "\n",
    "############################################# \n",
    "# X_test_scaled=preprocessing_pipe.fit_transform(X_test)\n",
    "y2_test_pred=rf2.predict(X2_test)\n",
    "\n",
    "print(\"M2 Precision: %f \"%precision_score(y2_test, y2_test_pred))\n",
    "print(\"M2 Recall: %f \"%recall_score(y2_test, y2_test_pred))\n",
    "# print(\"F1: %f\"% f1_score(y_train, y_prediction))\n",
    "print(\"Let's see the confuision matrix:\\n\",confusion_matrix(y2_test, y2_test_pred))\n",
    "\n",
    "\n",
    "auc2 = roc_auc_score(y2_test, y2_test_pred)\n",
    "\n",
    "T = y2.shape[0]\n",
    "A = rf2.score(X2_train, y2_train)\n",
    "P = precision_score(y2_test, y2_test_pred)\n",
    "R = recall_score(y2_test, y2_test_pred)\n",
    "\n",
    "TP2 = (1-A)*T/(1/P + 1/R + 2)\n",
    "FP2 = (TP2/P) - TP2\n",
    "FN2 = (TP2/R) - TP2\n",
    "TN2 = T - FN2 -FP2 - TP2\n",
    "\n",
    "M2_FI = rf2.feature_importances_\n",
    "M2_f_beta = fbeta_score(y2_test, y2_test_pred, average='macro', beta=0.5)\n",
    "\n",
    "print('M2 Accuracy:', acc_rf2, \n",
    "      ',\\n M2 AUC: ',auc2 ,\n",
    "      ',\\n M2 True Positive:' , TP2 , \n",
    "      ',\\n M2 False Positive:' , FP2 , \n",
    "      ',\\n M2 True Negative:', TN2 ,\n",
    "      ',\\n M2 False Negative:', FN2,\n",
    "     ',\\n M2 Features: \\n', X2_train.columns, \n",
    "     ',\\n M2 Feature Importance: \\n' , M2_FI,\n",
    "     ',\\n M2 f_0.5:', M2_f_beta)"
   ]
  },
  {
   "cell_type": "code",
   "execution_count": null,
   "metadata": {
    "id": "AknpduZqCZuz"
   },
   "outputs": [],
   "source": [
    "# counter = Counter(y1_train)\n",
    "# label,_ = counter.items()\n",
    "# counter"
   ]
  },
  {
   "cell_type": "code",
   "execution_count": null,
   "metadata": {
    "id": "JfsQAwxwCZuz"
   },
   "outputs": [],
   "source": [
    "# counter = \n",
    "# # scatter plot of examples by class label\n",
    "# for label in counter.items():\n",
    "#     row_ix = where(y == label)[0]\n",
    "#     pyplot.scatter(X1_train[row_ix, 0], X1_train[row_ix, 1])\n",
    "# pyplot.legend()\n",
    "# pyplot.show()"
   ]
  },
  {
   "cell_type": "code",
   "execution_count": null,
   "metadata": {
    "id": "0f5QClOJCZuz",
    "outputId": "ca23ef15-2ed4-4968-b13d-9269c3e56e67"
   },
   "outputs": [
    {
     "data": {
      "text/plain": [
       "(0, 316509)"
      ]
     },
     "execution_count": 90,
     "metadata": {
      "tags": []
     },
     "output_type": "execute_result"
    }
   ],
   "source": [
    "label"
   ]
  },
  {
   "cell_type": "code",
   "execution_count": null,
   "metadata": {
    "id": "-33KsmVfCZuz",
    "outputId": "e32cc32b-b72b-413e-9142-cadd346ee976",
    "scrolled": false
   },
   "outputs": [
    {
     "name": "stderr",
     "output_type": "stream",
     "text": [
      "[Parallel(n_jobs=1)]: Using backend SequentialBackend with 1 concurrent workers.\n",
      "[Parallel(n_jobs=1)]: Done 400 out of 400 | elapsed:  1.8min finished\n",
      "[Parallel(n_jobs=1)]: Using backend SequentialBackend with 1 concurrent workers.\n",
      "[Parallel(n_jobs=1)]: Done 400 out of 400 | elapsed:    5.5s finished\n",
      "[Parallel(n_jobs=1)]: Using backend SequentialBackend with 1 concurrent workers.\n",
      "[Parallel(n_jobs=1)]: Done 400 out of 400 | elapsed:   11.2s finished\n",
      "[Parallel(n_jobs=1)]: Using backend SequentialBackend with 1 concurrent workers.\n",
      "[Parallel(n_jobs=1)]: Done 400 out of 400 | elapsed:   11.1s finished\n"
     ]
    },
    {
     "name": "stdout",
     "output_type": "stream",
     "text": [
      "M3 accuracy is: 86.46\n"
     ]
    },
    {
     "name": "stderr",
     "output_type": "stream",
     "text": [
      "[Parallel(n_jobs=1)]: Using backend SequentialBackend with 1 concurrent workers.\n",
      "[Parallel(n_jobs=1)]: Done 400 out of 400 | elapsed:  1.5min finished\n",
      "[Parallel(n_jobs=1)]: Using backend SequentialBackend with 1 concurrent workers.\n",
      "[Parallel(n_jobs=1)]: Done 400 out of 400 | elapsed:    0.9s finished\n",
      "[Parallel(n_jobs=1)]: Using backend SequentialBackend with 1 concurrent workers.\n",
      "[Parallel(n_jobs=1)]: Done 400 out of 400 | elapsed:  1.5min finished\n",
      "[Parallel(n_jobs=1)]: Using backend SequentialBackend with 1 concurrent workers.\n",
      "[Parallel(n_jobs=1)]: Done 400 out of 400 | elapsed:    0.9s finished\n",
      "[Parallel(n_jobs=1)]: Using backend SequentialBackend with 1 concurrent workers.\n",
      "[Parallel(n_jobs=1)]: Done 400 out of 400 | elapsed:  1.5min finished\n",
      "[Parallel(n_jobs=1)]: Using backend SequentialBackend with 1 concurrent workers.\n",
      "[Parallel(n_jobs=1)]: Done 400 out of 400 | elapsed:    0.9s finished\n",
      "[Parallel(n_jobs=1)]: Using backend SequentialBackend with 1 concurrent workers.\n",
      "[Parallel(n_jobs=1)]: Done 400 out of 400 | elapsed:  1.5min finished\n",
      "[Parallel(n_jobs=1)]: Using backend SequentialBackend with 1 concurrent workers.\n",
      "[Parallel(n_jobs=1)]: Done 400 out of 400 | elapsed:    0.9s finished\n",
      "[Parallel(n_jobs=1)]: Using backend SequentialBackend with 1 concurrent workers.\n",
      "[Parallel(n_jobs=1)]: Done 400 out of 400 | elapsed:  1.5min finished\n",
      "[Parallel(n_jobs=1)]: Using backend SequentialBackend with 1 concurrent workers.\n",
      "[Parallel(n_jobs=1)]: Done 400 out of 400 | elapsed:    0.9s finished\n",
      "[Parallel(n_jobs=1)]: Using backend SequentialBackend with 1 concurrent workers.\n",
      "[Parallel(n_jobs=1)]: Done 400 out of 400 | elapsed:  1.5min finished\n",
      "[Parallel(n_jobs=1)]: Using backend SequentialBackend with 1 concurrent workers.\n",
      "[Parallel(n_jobs=1)]: Done 400 out of 400 | elapsed:    0.9s finished\n",
      "[Parallel(n_jobs=1)]: Using backend SequentialBackend with 1 concurrent workers.\n",
      "[Parallel(n_jobs=1)]: Done 400 out of 400 | elapsed:  1.5min finished\n",
      "[Parallel(n_jobs=1)]: Using backend SequentialBackend with 1 concurrent workers.\n",
      "[Parallel(n_jobs=1)]: Done 400 out of 400 | elapsed:    1.0s finished\n",
      "[Parallel(n_jobs=1)]: Using backend SequentialBackend with 1 concurrent workers.\n",
      "[Parallel(n_jobs=1)]: Done 400 out of 400 | elapsed:  1.5min finished\n",
      "[Parallel(n_jobs=1)]: Using backend SequentialBackend with 1 concurrent workers.\n",
      "[Parallel(n_jobs=1)]: Done 400 out of 400 | elapsed:    0.9s finished\n",
      "[Parallel(n_jobs=1)]: Using backend SequentialBackend with 1 concurrent workers.\n",
      "[Parallel(n_jobs=1)]: Done 400 out of 400 | elapsed:  1.6min finished\n",
      "[Parallel(n_jobs=1)]: Using backend SequentialBackend with 1 concurrent workers.\n",
      "[Parallel(n_jobs=1)]: Done 400 out of 400 | elapsed:    1.0s finished\n",
      "[Parallel(n_jobs=1)]: Using backend SequentialBackend with 1 concurrent workers.\n",
      "[Parallel(n_jobs=1)]: Done 400 out of 400 | elapsed:  1.5min finished\n",
      "[Parallel(n_jobs=1)]: Using backend SequentialBackend with 1 concurrent workers.\n",
      "[Parallel(n_jobs=1)]: Done 400 out of 400 | elapsed:    0.9s finished\n"
     ]
    },
    {
     "name": "stdout",
     "output_type": "stream",
     "text": [
      "M3 CV Precision: 0.790698 \n",
      "M3 CVRecall: 0.002737 \n",
      "M3 CV F1: 0.005456\n"
     ]
    },
    {
     "name": "stderr",
     "output_type": "stream",
     "text": [
      "[Parallel(n_jobs=1)]: Using backend SequentialBackend with 1 concurrent workers.\n",
      "[Parallel(n_jobs=1)]: Done 400 out of 400 | elapsed:    5.6s finished\n"
     ]
    },
    {
     "name": "stdout",
     "output_type": "stream",
     "text": [
      "M3 Precision: 0.671429 \n",
      "M3 Recall: 0.001924 \n",
      "Let's see the confuision matrix:\n",
      " [[155918     23]\n",
      " [ 24385     47]]\n"
     ]
    },
    {
     "name": "stderr",
     "output_type": "stream",
     "text": [
      "[Parallel(n_jobs=1)]: Using backend SequentialBackend with 1 concurrent workers.\n",
      "[Parallel(n_jobs=1)]: Done 400 out of 400 | elapsed:   11.3s finished\n"
     ]
    },
    {
     "name": "stdout",
     "output_type": "stream",
     "text": [
      "M2 Accuracy: 86.46 ,\n",
      " M2 AUC:  0.5008881074673655 ,\n",
      " M2 True Positive: 141.393806391385 ,\n",
      " M2 False Positive: 69.19271376599693 ,\n",
      " M2 True Negative: 473014.0949935889 ,\n",
      " M2 False Negative: 73359.31848625369 ,\n",
      " M2 Features: \n",
      " Index(['STD_DI', 'STD', 'DI', 'DIsum', 'STD_avg', 'STD_DI_avg', 'ToMinPrice',\n",
      "       'DisProfit', 'NumDis_NumPur', 'NumDis_DI', 'NumDis_STD',\n",
      "       'NumDis_STD_DI'],\n",
      "      dtype='object') ,\n",
      " M2 Feature Importance: \n",
      " [0.00065102 0.01274079 0.19359125 0.19488241 0.01464275 0.00066388\n",
      " 0.13201578 0.18623278 0.2619586  0.00112713 0.0007547  0.0007389 ] ,\n",
      " M2 f_0.5: 0.4491413301472765\n"
     ]
    }
   ],
   "source": [
    "########### The test-train data #################\n",
    "\n",
    "dfT3 = MyData3.drop(columns = ['CustomerId','OrderId','STD_DI',\n",
    "                                'STD_DI_avg', 'NumDis_DI', 'NumDis_STD','NumDis_STD_DI'])\n",
    "\n",
    "shuffled3=dfT3.sample(frac=1).reset_index(drop=True)\n",
    "DF3= shuffled3.iloc[:,:]\n",
    "\n",
    "y3 = DF3['FraudId']\n",
    "DF3_T = DF3.drop(columns={'FraudId'})\n",
    "\n",
    "X3_train, X3_test, y3_train, y3_test = train_test_split(DF3_T, y3, test_size=0.33,random_state = 0)\n",
    "\n",
    "#################### THe Model #####################\n",
    "\n",
    "rf3 = RandomForestClassifier(n_estimators=400, verbose=1 , max_depth = 6)\n",
    "rf3.fit(X3_train, y3_train)\n",
    "\n",
    "y3_prediction = rf3.predict(X3_test)\n",
    "\n",
    "rf3.score(X3_train, y3_train)\n",
    "acc_rf3 = round(rf3.score(X3_train, y3_train) * 100, 2)\n",
    "print('M3 accuracy is:' , acc_rf3)\n",
    "\n",
    "y3_train_pred =cross_val_predict(rf3, X3_train, y3_train, cv=10)\n",
    "print(\"M3 CV Precision: %f \"%precision_score(y3_train, y3_train_pred))\n",
    "print(\"M3 CVRecall: %f \"%recall_score(y3_train, y3_train_pred))\n",
    "print(\"M3 CV F1: %f\"% f1_score(y3_train, y3_train_pred))\n",
    "\n",
    "############################################ X_test_scaled=preprocessing_pipe.fit_transform(X_test)\n",
    "y3_test_pred=rf3.predict(X3_test)\n",
    "\n",
    "print(\"M3 Precision: %f \"%precision_score(y3_test, y3_test_pred))\n",
    "print(\"M3 Recall: %f \"%recall_score(y3_test, y3_test_pred))\n",
    "# print(\"F1: %f\"% f1_score(y_train, y_prediction))\n",
    "print(\"Let's see the confuision matrix:\\n\",confusion_matrix(y3_test, y3_test_pred))\n",
    "\n",
    "\n",
    "auc3 = roc_auc_score(y3_test, y3_test_pred)\n",
    "\n",
    "T = y3.shape[0]\n",
    "A = rf3.score(X3_train, y3_train)\n",
    "P = precision_score(y3_test, y3_test_pred)\n",
    "R = recall_score(y3_test, y3_test_pred)\n",
    "\n",
    "TP3 = (1-A)*T/(1/P + 1/R + 2)\n",
    "FP3 = (TP3/P) - TP3\n",
    "FN3 = (TP3/R) - TP3\n",
    "TN3 = T - FN3 -FP3 - TP3\n",
    "\n",
    "M3_FI = rf3.feature_importances_\n",
    "M3_f_beta = fbeta_score(y3_test, y3_test_pred, average='macro', beta=0.5)\n",
    "\n",
    "print('M2 Accuracy:', acc_rf3, \n",
    "      ',\\n M2 AUC: ',auc3 ,\n",
    "      ',\\n M2 True Positive:' , TP3 , \n",
    "      ',\\n M2 False Positive:' , FP3 , \n",
    "      ',\\n M2 True Negative:', TN3 ,\n",
    "      ',\\n M2 False Negative:', FN3,\n",
    "     ',\\n M2 Features: \\n', X3_train.columns, \n",
    "     ',\\n M2 Feature Importance: \\n' , M3_FI,\n",
    "     ',\\n M2 f_0.5:', M3_f_beta)"
   ]
  },
  {
   "cell_type": "code",
   "execution_count": null,
   "metadata": {
    "id": "HGqArcWkCZu0"
   },
   "outputs": [],
   "source": [
    "MyData4['DI_TimeToShoppingCard'] = MyData4['DI']*MyData4['TimeToShoppingCart']"
   ]
  },
  {
   "cell_type": "code",
   "execution_count": null,
   "metadata": {
    "id": "h0NxwnLSCZu0",
    "outputId": "61c095d9-fcf9-4138-b5db-16fe35078c22",
    "scrolled": false
   },
   "outputs": [
    {
     "name": "stderr",
     "output_type": "stream",
     "text": [
      "[Parallel(n_jobs=1)]: Using backend SequentialBackend with 1 concurrent workers.\n",
      "[Parallel(n_jobs=1)]: Done 600 out of 600 | elapsed:  3.3min finished\n",
      "[Parallel(n_jobs=1)]: Using backend SequentialBackend with 1 concurrent workers.\n",
      "[Parallel(n_jobs=1)]: Done 600 out of 600 | elapsed:    8.9s finished\n",
      "[Parallel(n_jobs=1)]: Using backend SequentialBackend with 1 concurrent workers.\n",
      "[Parallel(n_jobs=1)]: Done 600 out of 600 | elapsed:   17.9s finished\n",
      "[Parallel(n_jobs=1)]: Using backend SequentialBackend with 1 concurrent workers.\n",
      "[Parallel(n_jobs=1)]: Done 600 out of 600 | elapsed:   17.9s finished\n"
     ]
    },
    {
     "name": "stdout",
     "output_type": "stream",
     "text": [
      "M4 accuracy: 86.72\n"
     ]
    },
    {
     "name": "stderr",
     "output_type": "stream",
     "text": [
      "[Parallel(n_jobs=1)]: Using backend SequentialBackend with 1 concurrent workers.\n",
      "[Parallel(n_jobs=1)]: Done 600 out of 600 | elapsed:  2.9min finished\n",
      "[Parallel(n_jobs=1)]: Using backend SequentialBackend with 1 concurrent workers.\n",
      "[Parallel(n_jobs=1)]: Done 600 out of 600 | elapsed:    1.5s finished\n",
      "[Parallel(n_jobs=1)]: Using backend SequentialBackend with 1 concurrent workers.\n",
      "[Parallel(n_jobs=1)]: Done 600 out of 600 | elapsed:  2.7min finished\n",
      "[Parallel(n_jobs=1)]: Using backend SequentialBackend with 1 concurrent workers.\n",
      "[Parallel(n_jobs=1)]: Done 600 out of 600 | elapsed:    1.4s finished\n",
      "[Parallel(n_jobs=1)]: Using backend SequentialBackend with 1 concurrent workers.\n",
      "[Parallel(n_jobs=1)]: Done 600 out of 600 | elapsed:  2.6min finished\n",
      "[Parallel(n_jobs=1)]: Using backend SequentialBackend with 1 concurrent workers.\n",
      "[Parallel(n_jobs=1)]: Done 600 out of 600 | elapsed:    1.4s finished\n",
      "[Parallel(n_jobs=1)]: Using backend SequentialBackend with 1 concurrent workers.\n",
      "[Parallel(n_jobs=1)]: Done 600 out of 600 | elapsed:  2.7min finished\n",
      "[Parallel(n_jobs=1)]: Using backend SequentialBackend with 1 concurrent workers.\n",
      "[Parallel(n_jobs=1)]: Done 600 out of 600 | elapsed:    1.4s finished\n",
      "[Parallel(n_jobs=1)]: Using backend SequentialBackend with 1 concurrent workers.\n",
      "[Parallel(n_jobs=1)]: Done 600 out of 600 | elapsed:  2.6min finished\n",
      "[Parallel(n_jobs=1)]: Using backend SequentialBackend with 1 concurrent workers.\n",
      "[Parallel(n_jobs=1)]: Done 600 out of 600 | elapsed:    1.4s finished\n",
      "[Parallel(n_jobs=1)]: Using backend SequentialBackend with 1 concurrent workers.\n",
      "[Parallel(n_jobs=1)]: Done 600 out of 600 | elapsed:  2.6min finished\n",
      "[Parallel(n_jobs=1)]: Using backend SequentialBackend with 1 concurrent workers.\n",
      "[Parallel(n_jobs=1)]: Done 600 out of 600 | elapsed:    1.4s finished\n",
      "[Parallel(n_jobs=1)]: Using backend SequentialBackend with 1 concurrent workers.\n",
      "[Parallel(n_jobs=1)]: Done 600 out of 600 | elapsed:  2.7min finished\n",
      "[Parallel(n_jobs=1)]: Using backend SequentialBackend with 1 concurrent workers.\n",
      "[Parallel(n_jobs=1)]: Done 600 out of 600 | elapsed:    1.5s finished\n",
      "[Parallel(n_jobs=1)]: Using backend SequentialBackend with 1 concurrent workers.\n",
      "[Parallel(n_jobs=1)]: Done 600 out of 600 | elapsed:  2.7min finished\n",
      "[Parallel(n_jobs=1)]: Using backend SequentialBackend with 1 concurrent workers.\n",
      "[Parallel(n_jobs=1)]: Done 600 out of 600 | elapsed:    1.5s finished\n",
      "[Parallel(n_jobs=1)]: Using backend SequentialBackend with 1 concurrent workers.\n",
      "[Parallel(n_jobs=1)]: Done 600 out of 600 | elapsed:  2.9min finished\n",
      "[Parallel(n_jobs=1)]: Using backend SequentialBackend with 1 concurrent workers.\n",
      "[Parallel(n_jobs=1)]: Done 600 out of 600 | elapsed:    1.4s finished\n",
      "[Parallel(n_jobs=1)]: Using backend SequentialBackend with 1 concurrent workers.\n",
      "[Parallel(n_jobs=1)]: Done 600 out of 600 | elapsed:  2.7min finished\n",
      "[Parallel(n_jobs=1)]: Using backend SequentialBackend with 1 concurrent workers.\n",
      "[Parallel(n_jobs=1)]: Done 600 out of 600 | elapsed:    1.4s finished\n"
     ]
    },
    {
     "name": "stdout",
     "output_type": "stream",
     "text": [
      "M4 CV Precision: 0.662617 \n",
      "M4 CVRecall: 0.042781 \n",
      "M4 CV F1: 0.080373\n"
     ]
    },
    {
     "name": "stderr",
     "output_type": "stream",
     "text": [
      "[Parallel(n_jobs=1)]: Using backend SequentialBackend with 1 concurrent workers.\n",
      "[Parallel(n_jobs=1)]: Done 600 out of 600 | elapsed:    8.8s finished\n"
     ]
    },
    {
     "name": "stdout",
     "output_type": "stream",
     "text": [
      "M4 Precision: 0.668136 \n",
      "M4 Recall: 0.043491 \n",
      "Let's see the confuision matrix:\n",
      " [[155450    527]\n",
      " [ 23335   1061]]\n"
     ]
    },
    {
     "name": "stderr",
     "output_type": "stream",
     "text": [
      "[Parallel(n_jobs=1)]: Using backend SequentialBackend with 1 concurrent workers.\n",
      "[Parallel(n_jobs=1)]: Done 600 out of 600 | elapsed:   17.5s finished\n"
     ]
    },
    {
     "name": "stdout",
     "output_type": "stream",
     "text": [
      "f_0.3: 0.5921958294010407\n",
      "M2 Accuracy: 86.72 \n",
      " M2 AUC:  0.520056016457953 \n",
      " M2 True Positive: 2739.859415385531 ,\n",
      " M2 False Positive: 1360.8915286599195 ,\n",
      " M2 True Negative: 482224.4182755386 ,\n",
      " M2 False Negative: 60258.83078041599 \n",
      " M2 Features: \n",
      " Index(['STD', 'DI', 'DIsum', 'STD_avg', 'ToMinPrice', 'DisProfit',\n",
      "       'NumDis_NumPur', 'TimeToShoppingCart', 'TimeToPreviousOrder',\n",
      "       'DI_TimeToShoppingCard'],\n",
      "      dtype='object') \n",
      " M2 Feature Importance: \n",
      " [0.00426559 0.06992168 0.08439206 0.0041635  0.08089335 0.11220345\n",
      " 0.16511887 0.12478773 0.2672197  0.08703406]\n"
     ]
    }
   ],
   "source": [
    "########### The test-train data #################\n",
    "\n",
    "dfT4 = MyData4.drop(columns = ['CustomerId','OrderId','STD_DI',\n",
    "                                'STD_DI_avg', 'NumDis_DI', 'NumDis_STD','NumDis_STD_DI']).dropna()\n",
    "\n",
    "shuffled4=dfT4.sample(frac=1).reset_index(drop=True)\n",
    "DF4= shuffled4.iloc[:,:]\n",
    "\n",
    "y4 = DF4['FraudId']\n",
    "DF4_T = DF4.drop(columns={'FraudId'})\n",
    "\n",
    "X4_train, X4_test, y4_train, y4_test = train_test_split(DF4_T, y4, test_size=0.33,random_state = 0)\n",
    "\n",
    "#################### THe Model #####################\n",
    "\n",
    "rf4 = RandomForestClassifier(n_estimators=600, verbose=1 , max_depth = 6)\n",
    "rf4.fit(X4_train, y4_train)\n",
    "\n",
    "y4_prediction = rf4.predict(X4_test)\n",
    "\n",
    "rf4.score(X4_train, y4_train)\n",
    "acc_rf4 = round(rf4.score(X4_train, y4_train) * 100, 2)\n",
    "\n",
    "print('M4 accuracy:' , acc_rf4)\n",
    "\n",
    "y4_train_pred =cross_val_predict(rf4, X4_train, y4_train, cv=10)\n",
    "print(\"M4 CV Precision: %f \"%precision_score(y4_train, y4_train_pred))\n",
    "print(\"M4 CVRecall: %f \"%recall_score(y4_train, y4_train_pred))\n",
    "print(\"M4 CV F1: %f\"% f1_score(y4_train, y4_train_pred))\n",
    "\n",
    "############################################# X_test_scaled=preprocessing_pipe.fit_transform(X_test)\n",
    "y4_test_pred=rf4.predict(X4_test)\n",
    "\n",
    "\n",
    "print(\"M4 Precision: %f \"%precision_score(y4_test, y4_test_pred))\n",
    "print(\"M4 Recall: %f \"%recall_score(y4_test, y4_test_pred))\n",
    "# print(\"F1: %f\"% f1_score(y_train, y_prediction))\n",
    "print(\"Let's see the confuision matrix:\\n\",confusion_matrix(y4_test, y4_test_pred))\n",
    "\n",
    "\n",
    "auc4 = roc_auc_score(y4_test, y4_test_pred)\n",
    "\n",
    "T = y4.shape[0]\n",
    "A = rf4.score(X4_train, y4_train)\n",
    "P = precision_score(y4_test, y4_test_pred)\n",
    "R = recall_score(y4_test, y4_test_pred)\n",
    "\n",
    "TP4 = (1-A)*T/(1/P + 1/R + 2)\n",
    "FP4 = (TP4/P) - TP4\n",
    "FN4 = (TP4/R) - TP4\n",
    "TN4 = T - FN4 -FP4 - TP4\n",
    "\n",
    "M4_FI = rf4.feature_importances_\n",
    "M4_f1_beta = fbeta_score(y4_test, y4_test_pred, average='macro', beta=0.3)\n",
    "print('f_0.3:', M4_f1_beta)\n",
    "\n",
    "print('M2 Accuracy:', acc_rf4, \n",
    "      '\\n M2 AUC: ',auc4 ,\n",
    "      '\\n M2 True Positive:' , TP4 , \n",
    "      ',\\n M2 False Positive:' , FP4 , \n",
    "      ',\\n M2 True Negative:', TN4 ,\n",
    "      ',\\n M2 False Negative:', FN4,\n",
    "     '\\n M2 Features: \\n', X4_train.columns, \n",
    "     '\\n M2 Feature Importance: \\n' , M4_FI)\n",
    "\n"
   ]
  },
  {
   "cell_type": "code",
   "execution_count": null,
   "metadata": {
    "id": "3LspDyjVCZu1",
    "scrolled": true
   },
   "outputs": [],
   "source": [
    "########### The test-train data #################\n",
    "\n",
    "dfT4 = MyData4.drop(columns = ['CustomerId','OrderId','STD_DI_avg', 'NumDis_DI', 'NumDis_STD','NumDis_STD_DI','STD','STD_avg'])\n",
    "shuffled4=dfT4.sample(frac=1).reset_index(drop=True)\n",
    "DF4= shuffled4.iloc[:,:]\n",
    "\n",
    "y4 = DF4['FraudId']\n",
    "DF4_T = DF4.drop(columns={'FraudId'})\n",
    "\n",
    "X4_train, X4_test, y4_train, y4_test = train_test_split(DF4_T, y4, test_size=0.33,random_state = 0)\n",
    "\n",
    "#################### THe Model #####################\n",
    "\n",
    "rf4 = RandomForestClassifier(n_estimators=600, verbose=1 , max_depth = 5)\n",
    "rf4.fit(X4_train, y4_train)\n",
    "\n",
    "y4_prediction = rf4.predict(X4_test)\n",
    "\n",
    "rf4.score(X4_train, y4_train)\n",
    "acc_rf4 = round(rf4.score(X4_train, y4_train) * 100, 2)\n",
    "\n",
    "print('M4 accuracy:' , acc_rf4)\n",
    "\n",
    "y4_train_pred =cross_val_predict(rf4, X4_train, y4_train, cv=10)\n",
    "print(\"M4 CV Precision: %f \"%precision_score(y4_train, y4_train_pred))\n",
    "print(\"M4 CVRecall: %f \"%recall_score(y4_train, y4_train_pred))\n",
    "print(\"M4 CV F1: %f\"% f1_score(y4_train, y4_train_pred))\n",
    "\n",
    "############################################# X_test_scaled=preprocessing_pipe.fit_transform(X_test)\n",
    "y4_test_pred=rf4.predict(X4_test)\n",
    "\n",
    "\n",
    "print(\"M4 Precision: %f \"%precision_score(y4_test, y4_test_pred))\n",
    "print(\"M4 Recall: %f \"%recall_score(y4_test, y4_test_pred))\n",
    "# print(\"F1: %f\"% f1_score(y_train, y_prediction))\n",
    "print(\"Let's see the confuision matrix:\\n\",confusion_matrix(y4_test, y4_test_pred))\n",
    "\n",
    "\n",
    "auc4 = roc_auc_score(y4_test, y4_test_pred)\n",
    "\n",
    "T = y4.shape[0]\n",
    "A = rf4.score(X4_train, y4_train)\n",
    "P = precision_score(y4_test, y4_test_pred)\n",
    "R = recall_score(y4_test, y4_test_pred)\n",
    "\n",
    "TP4 = (1-A)*T/(1/P + 1/R + 2)\n",
    "FP4 = (TP4/P) - TP4\n",
    "FN4 = (TP4/R) - TP4\n",
    "TN4 = T - FN4 -FP4 - TP4\n",
    "\n",
    "M4_FI = rf4.feature_importances_\n",
    "M4_f1_beta = fbeta_score(y4_test, y4_test_pred, average='macro', beta=0.3)\n",
    "print('f_0.3:', M4_f1_beta)\n",
    "\n",
    "print('M2 Accuracy:', acc_rf4, \n",
    "      '\\n M2 AUC: ',auc4 ,\n",
    "      '\\n M2 True Positive:' , TP4 , \n",
    "      ',\\n M2 False Positive:' , FP4 , \n",
    "      ',\\n M2 True Negative:', TN4 ,\n",
    "      ',\\n M2 False Negative:', FN4,\n",
    "     '\\n M2 Features: \\n', X4_train.columns, \n",
    "     '\\n M2 Feature Importance: \\n' , M4_FI)\n",
    "\n"
   ]
  },
  {
   "cell_type": "code",
   "execution_count": null,
   "metadata": {
    "id": "0TEcsY9QCZu2"
   },
   "outputs": [],
   "source": [
    "rfc_balanced = RandomForestClassifier(random_state = 42, n_jobs = -1, class_weight = \"balanced\")"
   ]
  },
  {
   "cell_type": "markdown",
   "metadata": {
    "id": "wZ5HY8KCCZu2"
   },
   "source": [
    "# Handling imbalanced data"
   ]
  },
  {
   "cell_type": "code",
   "execution_count": null,
   "metadata": {
    "id": "MSSAp1JWCZu2",
    "scrolled": true
   },
   "outputs": [],
   "source": [
    "########### The test-train data #################\n",
    "\n",
    "dfT4 = MyData4.drop(columns = ['CustomerId','OrderId','STD_DI_avg', 'NumDis_DI', 'NumDis_STD','NumDis_STD_DI','STD','STD_avg'])\n",
    "\n",
    "shuffled4=dfT4.sample(frac=1).reset_index(drop=True)\n",
    "DF4= shuffled4.iloc[:,:]\n",
    "\n",
    "y4 = DF4['FraudId']\n",
    "DF4_T = DF4.drop(columns={'FraudId'})\n",
    "\n",
    "X4_train, X4_test, y4_train, y4_test = train_test_split(DF4_T, y4, test_size=0.33,random_state = 0)\n",
    "\n",
    "#################### THe Model #####################\n",
    "\n",
    "rf4 = RandomForestClassifier(n_estimators=800, verbose=1 , max_depth = 5, class_weight = \"balanced\")\n",
    "rf4.fit(X4_train, y4_train)\n",
    "\n",
    "y4_prediction = rf4.predict(X4_test)\n",
    "\n",
    "rf4.score(X4_train, y4_train)\n",
    "acc_rf4 = round(rf4.score(X4_train, y4_train) * 100, 2)\n",
    "\n",
    "print('M4 accuracy:' , acc_rf4)\n",
    "\n",
    "y4_train_pred =cross_val_predict(rf4, X4_train, y4_train, cv=10)\n",
    "print(\"M4 CV Precision: %f \"%precision_score(y4_train, y4_train_pred))\n",
    "print(\"M4 CVRecall: %f \"%recall_score(y4_train, y4_train_pred))\n",
    "print(\"M4 CV F1: %f\"% f1_score(y4_train, y4_train_pred))\n",
    "\n",
    "############################################# X_test_scaled=preprocessing_pipe.fit_transform(X_test)\n",
    "y4_test_pred=rf4.predict(X4_test)\n",
    "\n",
    "\n",
    "print(\"M4 Precision: %f \"%precision_score(y4_test, y4_test_pred))\n",
    "print(\"M4 Recall: %f \"%recall_score(y4_test, y4_test_pred))\n",
    "# print(\"F1: %f\"% f1_score(y_train, y_prediction))\n",
    "print(\"Let's see the confuision matrix:\\n\",confusion_matrix(y4_test, y4_test_pred))\n",
    "\n",
    "\n",
    "auc4 = roc_auc_score(y4_test, y4_test_pred)\n",
    "\n",
    "T = y4.shape[0]\n",
    "A = rf4.score(X4_train, y4_train)\n",
    "P = precision_score(y4_test, y4_test_pred)\n",
    "R = recall_score(y4_test, y4_test_pred)\n",
    "\n",
    "TP4 = (1-A)*T/(1/P + 1/R + 2)\n",
    "FP4 = (TP4/P) - TP4\n",
    "FN4 = (TP4/R) - TP4\n",
    "TN4 = T - FN4 -FP4 - TP4\n",
    "\n",
    "M4_FI = rf4.feature_importances_\n",
    "M4_f1_beta = fbeta_score(y4_test, y4_test_pred, average='macro', beta=0.3)\n",
    "print('f_0.3:', M4_f1_beta)\n",
    "\n",
    "print('M2 Accuracy:', acc_rf4, \n",
    "      '\\n M2 AUC: ',auc4 ,\n",
    "      '\\n M2 True Positive:' , TP4 , \n",
    "      ',\\n M2 False Positive:' , FP4 , \n",
    "      ',\\n M2 True Negative:', TN4 ,\n",
    "      ',\\n M2 False Negative:', FN4,\n",
    "     '\\n M2 Features: \\n', X4_train.columns, \n",
    "     '\\n M2 Feature Importance: \\n' , M4_FI)\n",
    "\n"
   ]
  },
  {
   "cell_type": "code",
   "execution_count": null,
   "metadata": {
    "id": "cECUMUHDCZu3"
   },
   "outputs": [],
   "source": [
    "def rus(X_train: pd.DataFrame, y_train: pd.DataFrame, sampling_strategy: float):\n",
    "    \n",
    "    \"\"\" Simple implementation of RandomUnderSampling \"\"\"\n",
    "    \n",
    "    train=pd.concat([X_train,y_train],axis=1)\n",
    "    \n",
    "    train_maj=train[train.FraudId==0]\n",
    "    train_min=train[train.FraudId==1]\n",
    "    \n",
    "    train_maj_rus=train_maj.sample(int(1/sampling_strategy*len(train_min)),random_state=randint(1,100000))\n",
    "    \n",
    "    train_rus=pd.concat([train_maj_rus,train_min])\n",
    "    \n",
    "    X_train_rus= train_rus.drop('FraudId',axis=1)\n",
    "    y_train_rus= train_rus.FraudId\n",
    "    \n",
    "    return X_train_rus,y_train_rus"
   ]
  },
  {
   "cell_type": "code",
   "execution_count": null,
   "metadata": {
    "id": "qsLDQI17CZu4",
    "outputId": "61e47721-edd1-441b-c1fc-21d7d6ea5dda",
    "scrolled": false
   },
   "outputs": [
    {
     "name": "stderr",
     "output_type": "stream",
     "text": [
      "[Parallel(n_jobs=1)]: Using backend SequentialBackend with 1 concurrent workers.\n",
      "[Parallel(n_jobs=1)]: Done 800 out of 800 | elapsed:  2.8min finished\n",
      "[Parallel(n_jobs=1)]: Using backend SequentialBackend with 1 concurrent workers.\n",
      "[Parallel(n_jobs=1)]: Done 800 out of 800 | elapsed:    9.8s finished\n",
      "[Parallel(n_jobs=1)]: Using backend SequentialBackend with 1 concurrent workers.\n",
      "[Parallel(n_jobs=1)]: Done 800 out of 800 | elapsed:   15.8s finished\n",
      "[Parallel(n_jobs=1)]: Using backend SequentialBackend with 1 concurrent workers.\n",
      "[Parallel(n_jobs=1)]: Done 800 out of 800 | elapsed:   16.1s finished\n"
     ]
    },
    {
     "name": "stdout",
     "output_type": "stream",
     "text": [
      "M4 accuracy: 83.88\n"
     ]
    },
    {
     "name": "stderr",
     "output_type": "stream",
     "text": [
      "[Parallel(n_jobs=1)]: Using backend SequentialBackend with 1 concurrent workers.\n",
      "[Parallel(n_jobs=1)]: Done 800 out of 800 | elapsed:  2.5min finished\n",
      "[Parallel(n_jobs=1)]: Using backend SequentialBackend with 1 concurrent workers.\n",
      "[Parallel(n_jobs=1)]: Done 800 out of 800 | elapsed:    1.3s finished\n",
      "[Parallel(n_jobs=1)]: Using backend SequentialBackend with 1 concurrent workers.\n",
      "[Parallel(n_jobs=1)]: Done 800 out of 800 | elapsed:  2.5min finished\n",
      "[Parallel(n_jobs=1)]: Using backend SequentialBackend with 1 concurrent workers.\n",
      "[Parallel(n_jobs=1)]: Done 800 out of 800 | elapsed:    1.3s finished\n",
      "[Parallel(n_jobs=1)]: Using backend SequentialBackend with 1 concurrent workers.\n",
      "[Parallel(n_jobs=1)]: Done 800 out of 800 | elapsed:  2.5min finished\n",
      "[Parallel(n_jobs=1)]: Using backend SequentialBackend with 1 concurrent workers.\n",
      "[Parallel(n_jobs=1)]: Done 800 out of 800 | elapsed:    1.3s finished\n",
      "[Parallel(n_jobs=1)]: Using backend SequentialBackend with 1 concurrent workers.\n",
      "[Parallel(n_jobs=1)]: Done 800 out of 800 | elapsed:  2.6min finished\n",
      "[Parallel(n_jobs=1)]: Using backend SequentialBackend with 1 concurrent workers.\n",
      "[Parallel(n_jobs=1)]: Done 800 out of 800 | elapsed:    1.3s finished\n",
      "[Parallel(n_jobs=1)]: Using backend SequentialBackend with 1 concurrent workers.\n",
      "[Parallel(n_jobs=1)]: Done 800 out of 800 | elapsed:  2.6min finished\n",
      "[Parallel(n_jobs=1)]: Using backend SequentialBackend with 1 concurrent workers.\n",
      "[Parallel(n_jobs=1)]: Done 800 out of 800 | elapsed:    1.4s finished\n",
      "[Parallel(n_jobs=1)]: Using backend SequentialBackend with 1 concurrent workers.\n",
      "[Parallel(n_jobs=1)]: Done 800 out of 800 | elapsed:  2.8min finished\n",
      "[Parallel(n_jobs=1)]: Using backend SequentialBackend with 1 concurrent workers.\n",
      "[Parallel(n_jobs=1)]: Done 800 out of 800 | elapsed:    1.4s finished\n",
      "[Parallel(n_jobs=1)]: Using backend SequentialBackend with 1 concurrent workers.\n",
      "[Parallel(n_jobs=1)]: Done 800 out of 800 | elapsed:  2.8min finished\n",
      "[Parallel(n_jobs=1)]: Using backend SequentialBackend with 1 concurrent workers.\n",
      "[Parallel(n_jobs=1)]: Done 800 out of 800 | elapsed:    1.4s finished\n",
      "[Parallel(n_jobs=1)]: Using backend SequentialBackend with 1 concurrent workers.\n",
      "[Parallel(n_jobs=1)]: Done 800 out of 800 | elapsed:  2.9min finished\n",
      "[Parallel(n_jobs=1)]: Using backend SequentialBackend with 1 concurrent workers.\n",
      "[Parallel(n_jobs=1)]: Done 800 out of 800 | elapsed:    1.4s finished\n",
      "[Parallel(n_jobs=1)]: Using backend SequentialBackend with 1 concurrent workers.\n",
      "[Parallel(n_jobs=1)]: Done 800 out of 800 | elapsed:  2.8min finished\n",
      "[Parallel(n_jobs=1)]: Using backend SequentialBackend with 1 concurrent workers.\n",
      "[Parallel(n_jobs=1)]: Done 800 out of 800 | elapsed:    1.3s finished\n",
      "[Parallel(n_jobs=1)]: Using backend SequentialBackend with 1 concurrent workers.\n",
      "[Parallel(n_jobs=1)]: Done 800 out of 800 | elapsed:  2.8min finished\n",
      "[Parallel(n_jobs=1)]: Using backend SequentialBackend with 1 concurrent workers.\n",
      "[Parallel(n_jobs=1)]: Done 800 out of 800 | elapsed:    1.3s finished\n"
     ]
    },
    {
     "name": "stdout",
     "output_type": "stream",
     "text": [
      "M4 CV Precision: 0.681146 \n",
      "M4 CVRecall: 0.060518 \n",
      "M4 CV F1: 0.111161\n"
     ]
    },
    {
     "name": "stderr",
     "output_type": "stream",
     "text": [
      "[Parallel(n_jobs=1)]: Using backend SequentialBackend with 1 concurrent workers.\n",
      "[Parallel(n_jobs=1)]: Done 800 out of 800 | elapsed:   10.3s finished\n"
     ]
    },
    {
     "name": "stdout",
     "output_type": "stream",
     "text": [
      "M4 Precision: 0.641986 \n",
      "M4 Recall: 0.061970 \n",
      "Let's see the confuision matrix:\n",
      " [[154897    851]\n",
      " [ 23099   1526]]\n"
     ]
    },
    {
     "name": "stderr",
     "output_type": "stream",
     "text": [
      "[Parallel(n_jobs=1)]: Using backend SequentialBackend with 1 concurrent workers.\n",
      "[Parallel(n_jobs=1)]: Done 800 out of 800 | elapsed:   16.7s finished\n"
     ]
    },
    {
     "name": "stdout",
     "output_type": "stream",
     "text": [
      "f_0.3: 0.6207146048649637\n",
      "M2 Accuracy: 83.88 \n",
      " M2 AUC:  0.5282527942769453 \n",
      " M2 True Positive: 4473.050308931578 ,\n",
      " M2 False Positive: 2494.473009764595 ,\n",
      " M2 True Negative: 471908.0958909955 ,\n",
      " M2 False Negative: 67708.38079030834 \n",
      " M2 Features: \n",
      " Index(['DI', 'DIsum', 'ToMinPrice', 'DisProfit', 'NumDis_NumPur', 'NumDis_DI',\n",
      "       'TimeToShoppingCart', 'TimeToPreviousOrder', 'DI_TimeToShoppingCard'],\n",
      "      dtype='object') \n",
      " M2 Feature Importance: \n",
      " [8.12896263e-02 8.17609180e-02 7.42991764e-02 1.03077972e-01\n",
      " 1.46837835e-01 1.00710851e-04 1.32495973e-01 2.74442178e-01\n",
      " 1.05695610e-01]\n"
     ]
    }
   ],
   "source": [
    "########### The test-train data #################\n",
    "\n",
    "dfT4 = MyData4.drop(columns = ['CustomerId','OrderId','STD_DI', 'STD', 'NumDis_STD','STD_avg', 'STD_DI_avg',\n",
    "       'NumDis_STD_DI'])\n",
    "\n",
    "shuffled4=dfT4.sample(frac=1).reset_index(drop=True)\n",
    "DF4= shuffled4.iloc[:,:]\n",
    "\n",
    "y4 = DF4['FraudId']\n",
    "DF4_T = DF4.drop(columns={'FraudId'})\n",
    "\n",
    "X4_train, X4_test, y4_train, y4_test = train_test_split(DF4_T, y4, test_size=0.33,random_state = 0)\n",
    "\n",
    "X4_train_bl,y4_train_bl= rus(X4_train,y4_train,sampling_strategy=0.2)\n",
    "\n",
    "#################### THe Model #####################\n",
    "\n",
    "rf4 = RandomForestClassifier(n_estimators=800, verbose=1 , max_depth = 5)\n",
    "rf4.fit(X4_train_bl, y4_train_bl)\n",
    "\n",
    "y4_prediction = rf4.predict(X4_test)\n",
    "\n",
    "rf4.score(X4_train_bl, y4_train_bl)\n",
    "acc_rf4 = round(rf4.score(X4_train_bl, y4_train_bl) * 100, 2)\n",
    "\n",
    "print('M4 accuracy:' , acc_rf4)\n",
    "\n",
    "y4_train_pred =cross_val_predict(rf4, X4_train_bl, y4_train_bl, cv=10)\n",
    "print(\"M4 CV Precision: %f \"%precision_score(y4_train_bl, y4_train_pred))\n",
    "print(\"M4 CVRecall: %f \"%recall_score(y4_train_bl, y4_train_pred))\n",
    "print(\"M4 CV F1: %f\"% f1_score(y4_train_bl, y4_train_pred))\n",
    "\n",
    "############################################# X_test_scaled=preprocessing_pipe.fit_transform(X_test)\n",
    "y4_test_pred=rf4.predict(X4_test)\n",
    "\n",
    "\n",
    "print(\"M4 Precision: %f \"%precision_score(y4_test, y4_test_pred))\n",
    "print(\"M4 Recall: %f \"%recall_score(y4_test, y4_test_pred))\n",
    "# print(\"F1: %f\"% f1_score(y_train, y_prediction))\n",
    "print(\"Let's see the confuision matrix:\\n\",confusion_matrix(y4_test, y4_test_pred))\n",
    "\n",
    "\n",
    "auc4 = roc_auc_score(y4_test, y4_test_pred)\n",
    "\n",
    "T = y4.shape[0]\n",
    "A = rf4.score(X4_train_bl, y4_train_bl)\n",
    "P = precision_score(y4_test, y4_test_pred)\n",
    "R = recall_score(y4_test, y4_test_pred)\n",
    "\n",
    "TP4 = (1-A)*T/(1/P + 1/R + 2)\n",
    "FP4 = (TP4/P) - TP4\n",
    "FN4 = (TP4/R) - TP4\n",
    "TN4 = T - FN4 -FP4 - TP4\n",
    "\n",
    "M4_FI = rf4.feature_importances_\n",
    "M4_f1_beta = fbeta_score(y4_test, y4_test_pred, average='macro', beta=0.3)\n",
    "print('f_0.3:', M4_f1_beta)\n",
    "\n",
    "print('M2 Accuracy:', acc_rf4, \n",
    "      '\\n M2 AUC: ',auc4,\n",
    "      '\\n M2 True Positive:' ,TP4, \n",
    "      ',\\n M2 False Positive:' ,FP4, \n",
    "      ',\\n M2 True Negative:',TN4,\n",
    "      ',\\n M2 False Negative:',FN4,\n",
    "     '\\n M2 Features: \\n',X4_train_bl.columns, \n",
    "     '\\n M2 Feature Importance: \\n' ,M4_FI)"
   ]
  },
  {
   "cell_type": "code",
   "execution_count": null,
   "metadata": {
    "id": "FnJVNqsCCZu5",
    "outputId": "39713e2a-2508-4196-fcb7-f09db6f5e190"
   },
   "outputs": [
    {
     "name": "stdout",
     "output_type": "stream",
     "text": [
      "Collecting imblearn\n",
      "  Using cached imblearn-0.0-py2.py3-none-any.whl (1.9 kB)\n",
      "Collecting imbalanced-learn\n",
      "  Using cached imbalanced_learn-0.8.0-py3-none-any.whl (206 kB)\n",
      "Requirement already satisfied: scipy>=0.19.1 in c:\\programdata\\anaconda3\\lib\\site-packages (from imbalanced-learn->imblearn) (1.5.2)\n",
      "Collecting scikit-learn>=0.24\n",
      "  Using cached scikit_learn-0.24.1-cp38-cp38-win_amd64.whl (6.9 MB)\n",
      "Requirement already satisfied: numpy>=1.13.3 in c:\\programdata\\anaconda3\\lib\\site-packages (from imbalanced-learn->imblearn) (1.19.2)\n",
      "Requirement already satisfied: joblib>=0.11 in c:\\programdata\\anaconda3\\lib\\site-packages (from imbalanced-learn->imblearn) (0.17.0)\n",
      "Requirement already satisfied: threadpoolctl>=2.0.0 in c:\\programdata\\anaconda3\\lib\\site-packages (from scikit-learn>=0.24->imbalanced-learn->imblearn) (2.1.0)\n",
      "Installing collected packages: scikit-learn, imbalanced-learn, imblearn\n",
      "Successfully installed imbalanced-learn-0.8.0 imblearn-0.0 scikit-learn-0.24.1\n"
     ]
    }
   ],
   "source": [
    "# !pip3 install imblearn --user"
   ]
  },
  {
   "cell_type": "code",
   "execution_count": null,
   "metadata": {
    "id": "UxG3am4rCZu7",
    "outputId": "310aafb0-75e6-4676-9b21-da989fec4c56"
   },
   "outputs": [
    {
     "name": "stdout",
     "output_type": "stream",
     "text": [
      "Requirement already satisfied: imbalanced-learn in c:\\users\\mahdieh.fatemeh\\appdata\\roaming\\python\\python38\\site-packages (0.8.0)\n",
      "Requirement already satisfied: scipy>=0.19.1 in c:\\programdata\\anaconda3\\lib\\site-packages (from imbalanced-learn) (1.5.2)\n",
      "Requirement already satisfied: joblib>=0.11 in c:\\programdata\\anaconda3\\lib\\site-packages (from imbalanced-learn) (0.17.0)\n",
      "Requirement already satisfied: numpy>=1.13.3 in c:\\programdata\\anaconda3\\lib\\site-packages (from imbalanced-learn) (1.19.2)\n",
      "Requirement already satisfied: scikit-learn>=0.24 in c:\\users\\mahdieh.fatemeh\\appdata\\roaming\\python\\python38\\site-packages (from imbalanced-learn) (0.24.1)\n",
      "Requirement already satisfied: threadpoolctl>=2.0.0 in c:\\programdata\\anaconda3\\lib\\site-packages (from scikit-learn>=0.24->imbalanced-learn) (2.1.0)\n"
     ]
    }
   ],
   "source": [
    "!pip3 install imbalanced-learn --user"
   ]
  },
  {
   "cell_type": "code",
   "execution_count": null,
   "metadata": {
    "id": "SnxB73ktCZu7"
   },
   "outputs": [],
   "source": [
    "from imblearn.over_sampling import RandomOverSampler"
   ]
  },
  {
   "cell_type": "code",
   "execution_count": null,
   "metadata": {
    "id": "5vs6fZAhCZu8"
   },
   "outputs": [],
   "source": [
    "# from imblearn.over_sampling import RandomOverSampler\n",
    "from collections import Counter\n",
    "ros = RandomOverSampler(random_state=42)\n"
   ]
  },
  {
   "cell_type": "code",
   "execution_count": null,
   "metadata": {
    "id": "mBgh0oxuCZu8",
    "outputId": "6c97623a-e97e-4580-887c-6eee7803b533",
    "scrolled": true
   },
   "outputs": [
    {
     "name": "stdout",
     "output_type": "stream",
     "text": [
      "Original dataset shape Counter({0: 472470, 1: 74114})\n",
      "Resample dataset shape Counter({0: 472470, 1: 472470})\n"
     ]
    },
    {
     "name": "stderr",
     "output_type": "stream",
     "text": [
      "[Parallel(n_jobs=1)]: Using backend SequentialBackend with 1 concurrent workers.\n"
     ]
    },
    {
     "ename": "KeyboardInterrupt",
     "evalue": "",
     "output_type": "error",
     "traceback": [
      "\u001b[1;31m---------------------------------------------------------------------------\u001b[0m",
      "\u001b[1;31mKeyboardInterrupt\u001b[0m                         Traceback (most recent call last)",
      "\u001b[1;32m<ipython-input-35-220605877bb6>\u001b[0m in \u001b[0;36m<module>\u001b[1;34m\u001b[0m\n\u001b[0;32m     21\u001b[0m \u001b[1;33m\u001b[0m\u001b[0m\n\u001b[0;32m     22\u001b[0m \u001b[0mrf4\u001b[0m \u001b[1;33m=\u001b[0m \u001b[0mRandomForestClassifier\u001b[0m\u001b[1;33m(\u001b[0m\u001b[0mn_estimators\u001b[0m\u001b[1;33m=\u001b[0m\u001b[1;36m800\u001b[0m\u001b[1;33m,\u001b[0m \u001b[0mverbose\u001b[0m\u001b[1;33m=\u001b[0m\u001b[1;36m1\u001b[0m \u001b[1;33m,\u001b[0m \u001b[0mmax_depth\u001b[0m \u001b[1;33m=\u001b[0m \u001b[1;36m5\u001b[0m\u001b[1;33m)\u001b[0m\u001b[1;33m\u001b[0m\u001b[1;33m\u001b[0m\u001b[0m\n\u001b[1;32m---> 23\u001b[1;33m \u001b[0mrf4\u001b[0m\u001b[1;33m.\u001b[0m\u001b[0mfit\u001b[0m\u001b[1;33m(\u001b[0m\u001b[0mX4_train\u001b[0m\u001b[1;33m,\u001b[0m \u001b[0my4_train\u001b[0m\u001b[1;33m)\u001b[0m\u001b[1;33m\u001b[0m\u001b[1;33m\u001b[0m\u001b[0m\n\u001b[0m\u001b[0;32m     24\u001b[0m \u001b[1;33m\u001b[0m\u001b[0m\n\u001b[0;32m     25\u001b[0m \u001b[0my4_prediction\u001b[0m \u001b[1;33m=\u001b[0m \u001b[0mrf4\u001b[0m\u001b[1;33m.\u001b[0m\u001b[0mpredict\u001b[0m\u001b[1;33m(\u001b[0m\u001b[0mX4_test\u001b[0m\u001b[1;33m)\u001b[0m\u001b[1;33m\u001b[0m\u001b[1;33m\u001b[0m\u001b[0m\n",
      "\u001b[1;32m~\\AppData\\Roaming\\Python\\Python38\\site-packages\\sklearn\\ensemble\\_forest.py\u001b[0m in \u001b[0;36mfit\u001b[1;34m(self, X, y, sample_weight)\u001b[0m\n\u001b[0;32m    385\u001b[0m             \u001b[1;31m# parallel_backend contexts set at a higher level,\u001b[0m\u001b[1;33m\u001b[0m\u001b[1;33m\u001b[0m\u001b[1;33m\u001b[0m\u001b[0m\n\u001b[0;32m    386\u001b[0m             \u001b[1;31m# since correctness does not rely on using threads.\u001b[0m\u001b[1;33m\u001b[0m\u001b[1;33m\u001b[0m\u001b[1;33m\u001b[0m\u001b[0m\n\u001b[1;32m--> 387\u001b[1;33m             trees = Parallel(n_jobs=self.n_jobs, verbose=self.verbose,\n\u001b[0m\u001b[0;32m    388\u001b[0m                              \u001b[1;33m**\u001b[0m\u001b[0m_joblib_parallel_args\u001b[0m\u001b[1;33m(\u001b[0m\u001b[0mprefer\u001b[0m\u001b[1;33m=\u001b[0m\u001b[1;34m'threads'\u001b[0m\u001b[1;33m)\u001b[0m\u001b[1;33m)\u001b[0m\u001b[1;33m(\u001b[0m\u001b[1;33m\u001b[0m\u001b[1;33m\u001b[0m\u001b[0m\n\u001b[0;32m    389\u001b[0m                 delayed(_parallel_build_trees)(\n",
      "\u001b[1;32mC:\\ProgramData\\Anaconda3\\lib\\site-packages\\joblib\\parallel.py\u001b[0m in \u001b[0;36m__call__\u001b[1;34m(self, iterable)\u001b[0m\n\u001b[0;32m   1049\u001b[0m                 \u001b[0mself\u001b[0m\u001b[1;33m.\u001b[0m\u001b[0m_iterating\u001b[0m \u001b[1;33m=\u001b[0m \u001b[0mself\u001b[0m\u001b[1;33m.\u001b[0m\u001b[0m_original_iterator\u001b[0m \u001b[1;32mis\u001b[0m \u001b[1;32mnot\u001b[0m \u001b[1;32mNone\u001b[0m\u001b[1;33m\u001b[0m\u001b[1;33m\u001b[0m\u001b[0m\n\u001b[0;32m   1050\u001b[0m \u001b[1;33m\u001b[0m\u001b[0m\n\u001b[1;32m-> 1051\u001b[1;33m             \u001b[1;32mwhile\u001b[0m \u001b[0mself\u001b[0m\u001b[1;33m.\u001b[0m\u001b[0mdispatch_one_batch\u001b[0m\u001b[1;33m(\u001b[0m\u001b[0miterator\u001b[0m\u001b[1;33m)\u001b[0m\u001b[1;33m:\u001b[0m\u001b[1;33m\u001b[0m\u001b[1;33m\u001b[0m\u001b[0m\n\u001b[0m\u001b[0;32m   1052\u001b[0m                 \u001b[1;32mpass\u001b[0m\u001b[1;33m\u001b[0m\u001b[1;33m\u001b[0m\u001b[0m\n\u001b[0;32m   1053\u001b[0m \u001b[1;33m\u001b[0m\u001b[0m\n",
      "\u001b[1;32mC:\\ProgramData\\Anaconda3\\lib\\site-packages\\joblib\\parallel.py\u001b[0m in \u001b[0;36mdispatch_one_batch\u001b[1;34m(self, iterator)\u001b[0m\n\u001b[0;32m    864\u001b[0m                 \u001b[1;32mreturn\u001b[0m \u001b[1;32mFalse\u001b[0m\u001b[1;33m\u001b[0m\u001b[1;33m\u001b[0m\u001b[0m\n\u001b[0;32m    865\u001b[0m             \u001b[1;32melse\u001b[0m\u001b[1;33m:\u001b[0m\u001b[1;33m\u001b[0m\u001b[1;33m\u001b[0m\u001b[0m\n\u001b[1;32m--> 866\u001b[1;33m                 \u001b[0mself\u001b[0m\u001b[1;33m.\u001b[0m\u001b[0m_dispatch\u001b[0m\u001b[1;33m(\u001b[0m\u001b[0mtasks\u001b[0m\u001b[1;33m)\u001b[0m\u001b[1;33m\u001b[0m\u001b[1;33m\u001b[0m\u001b[0m\n\u001b[0m\u001b[0;32m    867\u001b[0m                 \u001b[1;32mreturn\u001b[0m \u001b[1;32mTrue\u001b[0m\u001b[1;33m\u001b[0m\u001b[1;33m\u001b[0m\u001b[0m\n\u001b[0;32m    868\u001b[0m \u001b[1;33m\u001b[0m\u001b[0m\n",
      "\u001b[1;32mC:\\ProgramData\\Anaconda3\\lib\\site-packages\\joblib\\parallel.py\u001b[0m in \u001b[0;36m_dispatch\u001b[1;34m(self, batch)\u001b[0m\n\u001b[0;32m    782\u001b[0m         \u001b[1;32mwith\u001b[0m \u001b[0mself\u001b[0m\u001b[1;33m.\u001b[0m\u001b[0m_lock\u001b[0m\u001b[1;33m:\u001b[0m\u001b[1;33m\u001b[0m\u001b[1;33m\u001b[0m\u001b[0m\n\u001b[0;32m    783\u001b[0m             \u001b[0mjob_idx\u001b[0m \u001b[1;33m=\u001b[0m \u001b[0mlen\u001b[0m\u001b[1;33m(\u001b[0m\u001b[0mself\u001b[0m\u001b[1;33m.\u001b[0m\u001b[0m_jobs\u001b[0m\u001b[1;33m)\u001b[0m\u001b[1;33m\u001b[0m\u001b[1;33m\u001b[0m\u001b[0m\n\u001b[1;32m--> 784\u001b[1;33m             \u001b[0mjob\u001b[0m \u001b[1;33m=\u001b[0m \u001b[0mself\u001b[0m\u001b[1;33m.\u001b[0m\u001b[0m_backend\u001b[0m\u001b[1;33m.\u001b[0m\u001b[0mapply_async\u001b[0m\u001b[1;33m(\u001b[0m\u001b[0mbatch\u001b[0m\u001b[1;33m,\u001b[0m \u001b[0mcallback\u001b[0m\u001b[1;33m=\u001b[0m\u001b[0mcb\u001b[0m\u001b[1;33m)\u001b[0m\u001b[1;33m\u001b[0m\u001b[1;33m\u001b[0m\u001b[0m\n\u001b[0m\u001b[0;32m    785\u001b[0m             \u001b[1;31m# A job can complete so quickly than its callback is\u001b[0m\u001b[1;33m\u001b[0m\u001b[1;33m\u001b[0m\u001b[1;33m\u001b[0m\u001b[0m\n\u001b[0;32m    786\u001b[0m             \u001b[1;31m# called before we get here, causing self._jobs to\u001b[0m\u001b[1;33m\u001b[0m\u001b[1;33m\u001b[0m\u001b[1;33m\u001b[0m\u001b[0m\n",
      "\u001b[1;32mC:\\ProgramData\\Anaconda3\\lib\\site-packages\\joblib\\_parallel_backends.py\u001b[0m in \u001b[0;36mapply_async\u001b[1;34m(self, func, callback)\u001b[0m\n\u001b[0;32m    206\u001b[0m     \u001b[1;32mdef\u001b[0m \u001b[0mapply_async\u001b[0m\u001b[1;33m(\u001b[0m\u001b[0mself\u001b[0m\u001b[1;33m,\u001b[0m \u001b[0mfunc\u001b[0m\u001b[1;33m,\u001b[0m \u001b[0mcallback\u001b[0m\u001b[1;33m=\u001b[0m\u001b[1;32mNone\u001b[0m\u001b[1;33m)\u001b[0m\u001b[1;33m:\u001b[0m\u001b[1;33m\u001b[0m\u001b[1;33m\u001b[0m\u001b[0m\n\u001b[0;32m    207\u001b[0m         \u001b[1;34m\"\"\"Schedule a func to be run\"\"\"\u001b[0m\u001b[1;33m\u001b[0m\u001b[1;33m\u001b[0m\u001b[0m\n\u001b[1;32m--> 208\u001b[1;33m         \u001b[0mresult\u001b[0m \u001b[1;33m=\u001b[0m \u001b[0mImmediateResult\u001b[0m\u001b[1;33m(\u001b[0m\u001b[0mfunc\u001b[0m\u001b[1;33m)\u001b[0m\u001b[1;33m\u001b[0m\u001b[1;33m\u001b[0m\u001b[0m\n\u001b[0m\u001b[0;32m    209\u001b[0m         \u001b[1;32mif\u001b[0m \u001b[0mcallback\u001b[0m\u001b[1;33m:\u001b[0m\u001b[1;33m\u001b[0m\u001b[1;33m\u001b[0m\u001b[0m\n\u001b[0;32m    210\u001b[0m             \u001b[0mcallback\u001b[0m\u001b[1;33m(\u001b[0m\u001b[0mresult\u001b[0m\u001b[1;33m)\u001b[0m\u001b[1;33m\u001b[0m\u001b[1;33m\u001b[0m\u001b[0m\n",
      "\u001b[1;32mC:\\ProgramData\\Anaconda3\\lib\\site-packages\\joblib\\_parallel_backends.py\u001b[0m in \u001b[0;36m__init__\u001b[1;34m(self, batch)\u001b[0m\n\u001b[0;32m    570\u001b[0m         \u001b[1;31m# Don't delay the application, to avoid keeping the input\u001b[0m\u001b[1;33m\u001b[0m\u001b[1;33m\u001b[0m\u001b[1;33m\u001b[0m\u001b[0m\n\u001b[0;32m    571\u001b[0m         \u001b[1;31m# arguments in memory\u001b[0m\u001b[1;33m\u001b[0m\u001b[1;33m\u001b[0m\u001b[1;33m\u001b[0m\u001b[0m\n\u001b[1;32m--> 572\u001b[1;33m         \u001b[0mself\u001b[0m\u001b[1;33m.\u001b[0m\u001b[0mresults\u001b[0m \u001b[1;33m=\u001b[0m \u001b[0mbatch\u001b[0m\u001b[1;33m(\u001b[0m\u001b[1;33m)\u001b[0m\u001b[1;33m\u001b[0m\u001b[1;33m\u001b[0m\u001b[0m\n\u001b[0m\u001b[0;32m    573\u001b[0m \u001b[1;33m\u001b[0m\u001b[0m\n\u001b[0;32m    574\u001b[0m     \u001b[1;32mdef\u001b[0m \u001b[0mget\u001b[0m\u001b[1;33m(\u001b[0m\u001b[0mself\u001b[0m\u001b[1;33m)\u001b[0m\u001b[1;33m:\u001b[0m\u001b[1;33m\u001b[0m\u001b[1;33m\u001b[0m\u001b[0m\n",
      "\u001b[1;32mC:\\ProgramData\\Anaconda3\\lib\\site-packages\\joblib\\parallel.py\u001b[0m in \u001b[0;36m__call__\u001b[1;34m(self)\u001b[0m\n\u001b[0;32m    260\u001b[0m         \u001b[1;31m# change the default number of processes to -1\u001b[0m\u001b[1;33m\u001b[0m\u001b[1;33m\u001b[0m\u001b[1;33m\u001b[0m\u001b[0m\n\u001b[0;32m    261\u001b[0m         \u001b[1;32mwith\u001b[0m \u001b[0mparallel_backend\u001b[0m\u001b[1;33m(\u001b[0m\u001b[0mself\u001b[0m\u001b[1;33m.\u001b[0m\u001b[0m_backend\u001b[0m\u001b[1;33m,\u001b[0m \u001b[0mn_jobs\u001b[0m\u001b[1;33m=\u001b[0m\u001b[0mself\u001b[0m\u001b[1;33m.\u001b[0m\u001b[0m_n_jobs\u001b[0m\u001b[1;33m)\u001b[0m\u001b[1;33m:\u001b[0m\u001b[1;33m\u001b[0m\u001b[1;33m\u001b[0m\u001b[0m\n\u001b[1;32m--> 262\u001b[1;33m             return [func(*args, **kwargs)\n\u001b[0m\u001b[0;32m    263\u001b[0m                     for func, args, kwargs in self.items]\n\u001b[0;32m    264\u001b[0m \u001b[1;33m\u001b[0m\u001b[0m\n",
      "\u001b[1;32mC:\\ProgramData\\Anaconda3\\lib\\site-packages\\joblib\\parallel.py\u001b[0m in \u001b[0;36m<listcomp>\u001b[1;34m(.0)\u001b[0m\n\u001b[0;32m    260\u001b[0m         \u001b[1;31m# change the default number of processes to -1\u001b[0m\u001b[1;33m\u001b[0m\u001b[1;33m\u001b[0m\u001b[1;33m\u001b[0m\u001b[0m\n\u001b[0;32m    261\u001b[0m         \u001b[1;32mwith\u001b[0m \u001b[0mparallel_backend\u001b[0m\u001b[1;33m(\u001b[0m\u001b[0mself\u001b[0m\u001b[1;33m.\u001b[0m\u001b[0m_backend\u001b[0m\u001b[1;33m,\u001b[0m \u001b[0mn_jobs\u001b[0m\u001b[1;33m=\u001b[0m\u001b[0mself\u001b[0m\u001b[1;33m.\u001b[0m\u001b[0m_n_jobs\u001b[0m\u001b[1;33m)\u001b[0m\u001b[1;33m:\u001b[0m\u001b[1;33m\u001b[0m\u001b[1;33m\u001b[0m\u001b[0m\n\u001b[1;32m--> 262\u001b[1;33m             return [func(*args, **kwargs)\n\u001b[0m\u001b[0;32m    263\u001b[0m                     for func, args, kwargs in self.items]\n\u001b[0;32m    264\u001b[0m \u001b[1;33m\u001b[0m\u001b[0m\n",
      "\u001b[1;32m~\\AppData\\Roaming\\Python\\Python38\\site-packages\\sklearn\\utils\\fixes.py\u001b[0m in \u001b[0;36m__call__\u001b[1;34m(self, *args, **kwargs)\u001b[0m\n\u001b[0;32m    220\u001b[0m     \u001b[1;32mdef\u001b[0m \u001b[0m__call__\u001b[0m\u001b[1;33m(\u001b[0m\u001b[0mself\u001b[0m\u001b[1;33m,\u001b[0m \u001b[1;33m*\u001b[0m\u001b[0margs\u001b[0m\u001b[1;33m,\u001b[0m \u001b[1;33m**\u001b[0m\u001b[0mkwargs\u001b[0m\u001b[1;33m)\u001b[0m\u001b[1;33m:\u001b[0m\u001b[1;33m\u001b[0m\u001b[1;33m\u001b[0m\u001b[0m\n\u001b[0;32m    221\u001b[0m         \u001b[1;32mwith\u001b[0m \u001b[0mconfig_context\u001b[0m\u001b[1;33m(\u001b[0m\u001b[1;33m**\u001b[0m\u001b[0mself\u001b[0m\u001b[1;33m.\u001b[0m\u001b[0mconfig\u001b[0m\u001b[1;33m)\u001b[0m\u001b[1;33m:\u001b[0m\u001b[1;33m\u001b[0m\u001b[1;33m\u001b[0m\u001b[0m\n\u001b[1;32m--> 222\u001b[1;33m             \u001b[1;32mreturn\u001b[0m \u001b[0mself\u001b[0m\u001b[1;33m.\u001b[0m\u001b[0mfunction\u001b[0m\u001b[1;33m(\u001b[0m\u001b[1;33m*\u001b[0m\u001b[0margs\u001b[0m\u001b[1;33m,\u001b[0m \u001b[1;33m**\u001b[0m\u001b[0mkwargs\u001b[0m\u001b[1;33m)\u001b[0m\u001b[1;33m\u001b[0m\u001b[1;33m\u001b[0m\u001b[0m\n\u001b[0m",
      "\u001b[1;32m~\\AppData\\Roaming\\Python\\Python38\\site-packages\\sklearn\\ensemble\\_forest.py\u001b[0m in \u001b[0;36m_parallel_build_trees\u001b[1;34m(tree, forest, X, y, sample_weight, tree_idx, n_trees, verbose, class_weight, n_samples_bootstrap)\u001b[0m\n\u001b[0;32m    167\u001b[0m                                                         indices=indices)\n\u001b[0;32m    168\u001b[0m \u001b[1;33m\u001b[0m\u001b[0m\n\u001b[1;32m--> 169\u001b[1;33m         \u001b[0mtree\u001b[0m\u001b[1;33m.\u001b[0m\u001b[0mfit\u001b[0m\u001b[1;33m(\u001b[0m\u001b[0mX\u001b[0m\u001b[1;33m,\u001b[0m \u001b[0my\u001b[0m\u001b[1;33m,\u001b[0m \u001b[0msample_weight\u001b[0m\u001b[1;33m=\u001b[0m\u001b[0mcurr_sample_weight\u001b[0m\u001b[1;33m,\u001b[0m \u001b[0mcheck_input\u001b[0m\u001b[1;33m=\u001b[0m\u001b[1;32mFalse\u001b[0m\u001b[1;33m)\u001b[0m\u001b[1;33m\u001b[0m\u001b[1;33m\u001b[0m\u001b[0m\n\u001b[0m\u001b[0;32m    170\u001b[0m     \u001b[1;32melse\u001b[0m\u001b[1;33m:\u001b[0m\u001b[1;33m\u001b[0m\u001b[1;33m\u001b[0m\u001b[0m\n\u001b[0;32m    171\u001b[0m         \u001b[0mtree\u001b[0m\u001b[1;33m.\u001b[0m\u001b[0mfit\u001b[0m\u001b[1;33m(\u001b[0m\u001b[0mX\u001b[0m\u001b[1;33m,\u001b[0m \u001b[0my\u001b[0m\u001b[1;33m,\u001b[0m \u001b[0msample_weight\u001b[0m\u001b[1;33m=\u001b[0m\u001b[0msample_weight\u001b[0m\u001b[1;33m,\u001b[0m \u001b[0mcheck_input\u001b[0m\u001b[1;33m=\u001b[0m\u001b[1;32mFalse\u001b[0m\u001b[1;33m)\u001b[0m\u001b[1;33m\u001b[0m\u001b[1;33m\u001b[0m\u001b[0m\n",
      "\u001b[1;32m~\\AppData\\Roaming\\Python\\Python38\\site-packages\\sklearn\\tree\\_classes.py\u001b[0m in \u001b[0;36mfit\u001b[1;34m(self, X, y, sample_weight, check_input, X_idx_sorted)\u001b[0m\n\u001b[0;32m    896\u001b[0m         \"\"\"\n\u001b[0;32m    897\u001b[0m \u001b[1;33m\u001b[0m\u001b[0m\n\u001b[1;32m--> 898\u001b[1;33m         super().fit(\n\u001b[0m\u001b[0;32m    899\u001b[0m             \u001b[0mX\u001b[0m\u001b[1;33m,\u001b[0m \u001b[0my\u001b[0m\u001b[1;33m,\u001b[0m\u001b[1;33m\u001b[0m\u001b[1;33m\u001b[0m\u001b[0m\n\u001b[0;32m    900\u001b[0m             \u001b[0msample_weight\u001b[0m\u001b[1;33m=\u001b[0m\u001b[0msample_weight\u001b[0m\u001b[1;33m,\u001b[0m\u001b[1;33m\u001b[0m\u001b[1;33m\u001b[0m\u001b[0m\n",
      "\u001b[1;32m~\\AppData\\Roaming\\Python\\Python38\\site-packages\\sklearn\\tree\\_classes.py\u001b[0m in \u001b[0;36mfit\u001b[1;34m(self, X, y, sample_weight, check_input, X_idx_sorted)\u001b[0m\n\u001b[0;32m    387\u001b[0m                                            min_impurity_split)\n\u001b[0;32m    388\u001b[0m \u001b[1;33m\u001b[0m\u001b[0m\n\u001b[1;32m--> 389\u001b[1;33m         \u001b[0mbuilder\u001b[0m\u001b[1;33m.\u001b[0m\u001b[0mbuild\u001b[0m\u001b[1;33m(\u001b[0m\u001b[0mself\u001b[0m\u001b[1;33m.\u001b[0m\u001b[0mtree_\u001b[0m\u001b[1;33m,\u001b[0m \u001b[0mX\u001b[0m\u001b[1;33m,\u001b[0m \u001b[0my\u001b[0m\u001b[1;33m,\u001b[0m \u001b[0msample_weight\u001b[0m\u001b[1;33m)\u001b[0m\u001b[1;33m\u001b[0m\u001b[1;33m\u001b[0m\u001b[0m\n\u001b[0m\u001b[0;32m    390\u001b[0m \u001b[1;33m\u001b[0m\u001b[0m\n\u001b[0;32m    391\u001b[0m         \u001b[1;32mif\u001b[0m \u001b[0mself\u001b[0m\u001b[1;33m.\u001b[0m\u001b[0mn_outputs_\u001b[0m \u001b[1;33m==\u001b[0m \u001b[1;36m1\u001b[0m \u001b[1;32mand\u001b[0m \u001b[0mis_classifier\u001b[0m\u001b[1;33m(\u001b[0m\u001b[0mself\u001b[0m\u001b[1;33m)\u001b[0m\u001b[1;33m:\u001b[0m\u001b[1;33m\u001b[0m\u001b[1;33m\u001b[0m\u001b[0m\n",
      "\u001b[1;31mKeyboardInterrupt\u001b[0m: "
     ]
    }
   ],
   "source": [
    "########### The test-train data #################\n",
    "\n",
    "dfT4 = MyData4.drop(columns = ['CustomerId','OrderId','STD_DI', 'STD', 'NumDis_STD','STD_avg', 'STD_DI_avg',\n",
    "       'NumDis_STD_DI'])\n",
    "\n",
    "shuffled4=dfT4.sample(frac=1).reset_index(drop=True)\n",
    "DF4= shuffled4.iloc[:,:]\n",
    "\n",
    "y4 = DF4['FraudId']\n",
    "DF4_T = DF4.drop(columns={'FraudId'})\n",
    "\n",
    "#######################################\n",
    "DF4_T_bl, y4_bl = ros.fit_resample(DF4_T, y4)\n",
    "print('Original dataset shape', Counter(y4))\n",
    "print('Resample dataset shape', Counter(y4_bl))\n",
    "#######################################\n",
    "\n",
    "X4_train, X4_test, y4_train, y4_test = train_test_split(DF4_T_bl, y4_bl, test_size=0.33,random_state = 0)\n",
    "\n",
    "#################### THe Model #####################\n",
    "\n",
    "rf4 = RandomForestClassifier(n_estimators=800, verbose=1 , max_depth = 5)\n",
    "rf4.fit(X4_train, y4_train)\n",
    "\n",
    "y4_prediction = rf4.predict(X4_test)\n",
    "\n",
    "rf4.score(X4_train, y4_train)\n",
    "acc_rf4 = round(rf4.score(X4_train, y4_train) * 100, 2)\n",
    "\n",
    "print('M4 accuracy:' , acc_rf4)\n",
    "\n",
    "y4_train_pred =cross_val_predict(rf4, X4_train, y4_train, cv=10)\n",
    "print(\"M4 CV Precision: %f \"%precision_score(y4_train, y4_train_pred))\n",
    "print(\"M4 CVRecall: %f \"%recall_score(y4_train, y4_train_pred))\n",
    "print(\"M4 CV F1: %f\"% f1_score(y4_train, y4_train_pred))\n",
    "\n",
    "############################################# X_test_scaled=preprocessing_pipe.fit_transform(X_test)\n",
    "y4_test_pred=rf4.predict(X4_test)\n",
    "\n",
    "\n",
    "print(\"M4 Precision: %f \"%precision_score(y4_test, y4_test_pred))\n",
    "print(\"M4 Recall: %f \"%recall_score(y4_test, y4_test_pred))\n",
    "# print(\"F1: %f\"% f1_score(y_train, y_prediction))\n",
    "print(\"Let's see the confuision matrix:\\n\",confusion_matrix(y4_test, y4_test_pred))\n",
    "\n",
    "\n",
    "auc4 = roc_auc_score(y4_test, y4_test_pred)\n",
    "\n",
    "T = y4.shape[0]\n",
    "A = rf4.score(X4_train, y4_train)\n",
    "P = precision_score(y4_test, y4_test_pred)\n",
    "R = recall_score(y4_test, y4_test_pred)\n",
    "\n",
    "TP4 = (1-A)*T/(1/P + 1/R + 2)\n",
    "FP4 = (TP4/P) - TP4\n",
    "FN4 = (TP4/R) - TP4\n",
    "TN4 = T - FN4 -FP4 - TP4\n",
    "\n",
    "M4_FI = rf4.feature_importances_\n",
    "M4_f1_beta = fbeta_score(y4_test, y4_test_pred, average='macro', beta=0.3)\n",
    "print('f_0.3:', M4_f1_beta)\n",
    "\n",
    "print('M2 Accuracy:', acc_rf4, \n",
    "      '\\n M2 AUC: ',auc4 ,\n",
    "      '\\n M2 True Positive:' , TP4 , \n",
    "      ',\\n M2 False Positive:' , FP4 , \n",
    "      ',\\n M2 True Negative:', TN4 ,\n",
    "      ',\\n M2 False Negative:', FN4,\n",
    "     '\\n M2 Features: \\n', X4_train.columns, \n",
    "     '\\n M2 Feature Importance: \\n' , M4_FI)\n",
    "\n"
   ]
  },
  {
   "cell_type": "code",
   "execution_count": null,
   "metadata": {
    "id": "NluZqO1nCZu9"
   },
   "outputs": [],
   "source": [
    "X = MyData4.drop(columns=['FraudId'])\n",
    "y = MyData4['FraudId']"
   ]
  },
  {
   "cell_type": "code",
   "execution_count": null,
   "metadata": {
    "id": "PHQRe4pmCZu9",
    "outputId": "ad0e7b94-14b6-42a4-807d-dd242229fcc9"
   },
   "outputs": [
    {
     "data": {
      "text/plain": [
       "dict_items([(0, 472470), (1, 74114)])"
      ]
     },
     "execution_count": 43,
     "metadata": {
      "tags": []
     },
     "output_type": "execute_result"
    }
   ],
   "source": [
    "a = counter.items()\n"
   ]
  },
  {
   "cell_type": "code",
   "execution_count": null,
   "metadata": {
    "id": "-_OHRFuwCZvC"
   },
   "outputs": [],
   "source": [
    "from imblearn.over_sampling import SMOTE, ADASYN\n",
    "oversample = SMOTE()\n",
    "# Xb, yb = oversample.fit_resample(X, y)"
   ]
  },
  {
   "cell_type": "code",
   "execution_count": null,
   "metadata": {
    "id": "D3OOpuH6CZvD",
    "outputId": "b048b675-b71d-491f-88bd-89baf65f2770"
   },
   "outputs": [
    {
     "data": {
      "text/plain": [
       "Index(['STD_DI', 'OrderId', 'FraudId', 'STD', 'DI', 'DIsum', 'STD_avg',\n",
       "       'STD_DI_avg', 'CustomerId', 'ToMinPrice', 'DisProfit', 'NumDis_NumPur',\n",
       "       'NumDis_DI', 'NumDis_STD', 'NumDis_STD_DI', 'TimeToShoppingCart',\n",
       "       'TimeToPreviousOrder', 'DI_TimeToShoppingCard'],\n",
       "      dtype='object')"
      ]
     },
     "execution_count": 74,
     "metadata": {
      "tags": []
     },
     "output_type": "execute_result"
    }
   ],
   "source": [
    "MyData4.columns"
   ]
  },
  {
   "cell_type": "code",
   "execution_count": null,
   "metadata": {
    "id": "9KgrvNUzCZvD"
   },
   "outputs": [],
   "source": [
    "Avgs4 = MyData4.groupby('CustomerId').agg({'DI':'mean', 'ToMinPrice':'mean', \n",
    "                                           'DisProfit':'mean', 'TimeToShoppingCart':'mean',\n",
    "                                           'TimeToPreviousOrder':'mean'\n",
    "}).drop_duplicates().reset_index().rename(columns = {'DI':'DI_avg', 'ToMinPrice':'ToMinPrice_avg', \n",
    "                                           'DisProfit':'DisProfit_avg', 'TimeToShoppingCart':'TimeToShoppingCart_avg',\n",
    "                                           'TimeToPreviousOrder':'TimeToPreviousOrder_avg'\n",
    "})"
   ]
  },
  {
   "cell_type": "code",
   "execution_count": null,
   "metadata": {
    "id": "ulFmjeNCCZvD"
   },
   "outputs": [],
   "source": [
    "MyData4_avg = MyData4.merge(Avgs4 , left_on = 'CustomerId' , right_on='CustomerId').drop_duplicates().reset_index(drop=True)"
   ]
  },
  {
   "cell_type": "code",
   "execution_count": null,
   "metadata": {
    "id": "5wFkfFVTCZvE",
    "outputId": "fd69f0bf-0917-4b9d-a1de-617408d9dcb5"
   },
   "outputs": [
    {
     "data": {
      "text/plain": [
       "Index(['STD_DI', 'OrderId', 'FraudId', 'STD', 'DI', 'DIsum', 'STD_avg',\n",
       "       'STD_DI_avg', 'CustomerId', 'ToMinPrice', 'DisProfit', 'NumDis_NumPur',\n",
       "       'NumDis_DI', 'NumDis_STD', 'NumDis_STD_DI', 'TimeToShoppingCart',\n",
       "       'TimeToPreviousOrder', 'DI_TimeToShoppingCard', 'DI_avg',\n",
       "       'ToMinPrice_avg', 'DisProfit_avg', 'TimeToShoppingCart_avg',\n",
       "       'TimeToPreviousOrder_avg'],\n",
       "      dtype='object')"
      ]
     },
     "execution_count": 89,
     "metadata": {
      "tags": []
     },
     "output_type": "execute_result"
    }
   ],
   "source": [
    "MyData4_avg.columns"
   ]
  },
  {
   "cell_type": "code",
   "execution_count": null,
   "metadata": {
    "id": "rRJovnAjCZvE",
    "outputId": "412a1887-f7b9-4bce-d88b-db606fe6f0d4",
    "scrolled": true
   },
   "outputs": [
    {
     "name": "stderr",
     "output_type": "stream",
     "text": [
      "[Parallel(n_jobs=1)]: Using backend SequentialBackend with 1 concurrent workers.\n",
      "[Parallel(n_jobs=1)]: Done 800 out of 800 | elapsed:  9.1min finished\n",
      "[Parallel(n_jobs=1)]: Using backend SequentialBackend with 1 concurrent workers.\n",
      "[Parallel(n_jobs=1)]: Done 800 out of 800 | elapsed:    9.6s finished\n",
      "[Parallel(n_jobs=1)]: Using backend SequentialBackend with 1 concurrent workers.\n",
      "[Parallel(n_jobs=1)]: Done 800 out of 800 | elapsed:   33.1s finished\n",
      "[Parallel(n_jobs=1)]: Using backend SequentialBackend with 1 concurrent workers.\n",
      "[Parallel(n_jobs=1)]: Done 800 out of 800 | elapsed:   33.0s finished\n"
     ]
    },
    {
     "name": "stdout",
     "output_type": "stream",
     "text": [
      "M4 accuracy: 76.81\n"
     ]
    },
    {
     "name": "stderr",
     "output_type": "stream",
     "text": [
      "[Parallel(n_jobs=1)]: Using backend SequentialBackend with 1 concurrent workers.\n",
      "[Parallel(n_jobs=1)]: Done 800 out of 800 | elapsed:  7.9min finished\n",
      "[Parallel(n_jobs=1)]: Using backend SequentialBackend with 1 concurrent workers.\n",
      "[Parallel(n_jobs=1)]: Done 800 out of 800 | elapsed:    2.8s finished\n",
      "[Parallel(n_jobs=1)]: Using backend SequentialBackend with 1 concurrent workers.\n",
      "[Parallel(n_jobs=1)]: Done 800 out of 800 | elapsed:  7.8min finished\n",
      "[Parallel(n_jobs=1)]: Using backend SequentialBackend with 1 concurrent workers.\n",
      "[Parallel(n_jobs=1)]: Done 800 out of 800 | elapsed:    2.7s finished\n",
      "[Parallel(n_jobs=1)]: Using backend SequentialBackend with 1 concurrent workers.\n",
      "[Parallel(n_jobs=1)]: Done 800 out of 800 | elapsed:  7.7min finished\n",
      "[Parallel(n_jobs=1)]: Using backend SequentialBackend with 1 concurrent workers.\n",
      "[Parallel(n_jobs=1)]: Done 800 out of 800 | elapsed:    2.7s finished\n",
      "[Parallel(n_jobs=1)]: Using backend SequentialBackend with 1 concurrent workers.\n",
      "[Parallel(n_jobs=1)]: Done 800 out of 800 | elapsed:  7.7min finished\n",
      "[Parallel(n_jobs=1)]: Using backend SequentialBackend with 1 concurrent workers.\n",
      "[Parallel(n_jobs=1)]: Done 800 out of 800 | elapsed:    2.7s finished\n",
      "[Parallel(n_jobs=1)]: Using backend SequentialBackend with 1 concurrent workers.\n",
      "[Parallel(n_jobs=1)]: Done 800 out of 800 | elapsed:  7.7min finished\n",
      "[Parallel(n_jobs=1)]: Using backend SequentialBackend with 1 concurrent workers.\n",
      "[Parallel(n_jobs=1)]: Done 800 out of 800 | elapsed:    2.6s finished\n",
      "[Parallel(n_jobs=1)]: Using backend SequentialBackend with 1 concurrent workers.\n",
      "[Parallel(n_jobs=1)]: Done 800 out of 800 | elapsed:  7.8min finished\n",
      "[Parallel(n_jobs=1)]: Using backend SequentialBackend with 1 concurrent workers.\n",
      "[Parallel(n_jobs=1)]: Done 800 out of 800 | elapsed:    2.7s finished\n",
      "[Parallel(n_jobs=1)]: Using backend SequentialBackend with 1 concurrent workers.\n",
      "[Parallel(n_jobs=1)]: Done 800 out of 800 | elapsed:  7.9min finished\n",
      "[Parallel(n_jobs=1)]: Using backend SequentialBackend with 1 concurrent workers.\n",
      "[Parallel(n_jobs=1)]: Done 800 out of 800 | elapsed:    2.6s finished\n",
      "[Parallel(n_jobs=1)]: Using backend SequentialBackend with 1 concurrent workers.\n",
      "[Parallel(n_jobs=1)]: Done 800 out of 800 | elapsed:  7.8min finished\n",
      "[Parallel(n_jobs=1)]: Using backend SequentialBackend with 1 concurrent workers.\n",
      "[Parallel(n_jobs=1)]: Done 800 out of 800 | elapsed:    2.7s finished\n",
      "[Parallel(n_jobs=1)]: Using backend SequentialBackend with 1 concurrent workers.\n",
      "[Parallel(n_jobs=1)]: Done 800 out of 800 | elapsed:  7.9min finished\n",
      "[Parallel(n_jobs=1)]: Using backend SequentialBackend with 1 concurrent workers.\n",
      "[Parallel(n_jobs=1)]: Done 800 out of 800 | elapsed:    2.6s finished\n",
      "[Parallel(n_jobs=1)]: Using backend SequentialBackend with 1 concurrent workers.\n",
      "[Parallel(n_jobs=1)]: Done 800 out of 800 | elapsed:  7.8min finished\n",
      "[Parallel(n_jobs=1)]: Using backend SequentialBackend with 1 concurrent workers.\n",
      "[Parallel(n_jobs=1)]: Done 800 out of 800 | elapsed:    2.7s finished\n"
     ]
    },
    {
     "name": "stdout",
     "output_type": "stream",
     "text": [
      "M4 CV Precision: 0.781336 \n",
      "M4 CVRecall: 0.736474 \n",
      "M4 CV F1: 0.758242\n"
     ]
    },
    {
     "name": "stderr",
     "output_type": "stream",
     "text": [
      "[Parallel(n_jobs=1)]: Using backend SequentialBackend with 1 concurrent workers.\n",
      "[Parallel(n_jobs=1)]: Done 800 out of 800 | elapsed:    9.7s finished\n"
     ]
    },
    {
     "name": "stdout",
     "output_type": "stream",
     "text": [
      "M4 Precision: 0.302014 \n",
      "M4 Recall: 0.581167 \n",
      "Let's see the confuision matrix:\n",
      " [[123416  32649]\n",
      " [ 10181  14127]]\n"
     ]
    },
    {
     "name": "stderr",
     "output_type": "stream",
     "text": [
      "[Parallel(n_jobs=1)]: Using backend SequentialBackend with 1 concurrent workers.\n",
      "[Parallel(n_jobs=1)]: Done 800 out of 800 | elapsed:   33.4s finished\n"
     ]
    },
    {
     "name": "stdout",
     "output_type": "stream",
     "text": [
      "f_0.3: 0.6128137135445942\n",
      "M2 Accuracy: 76.81 \n",
      " M2 AUC:  0.6859826998799952 \n",
      " M2 True Positive: 18029.18607861777 ,\n",
      " M2 False Positive: 41667.36718912661 ,\n",
      " M2 True Negative: 473894.23207476235 ,\n",
      " M2 False Negative: 12993.214657493274 \n",
      " M2 Features: \n",
      " Index(['DI', 'DIsum', 'ToMinPrice', 'DisProfit', 'NumDis_NumPur', 'NumDis_DI',\n",
      "       'TimeToShoppingCart', 'TimeToPreviousOrder', 'DI_TimeToShoppingCard'],\n",
      "      dtype='object') \n",
      " M2 Feature Importance: \n",
      " [0.14023901 0.13576953 0.02677074 0.04533347 0.3969552  0.01787995\n",
      " 0.05213755 0.1635685  0.02134605]\n"
     ]
    }
   ],
   "source": [
    "########### The test-train data #################\n",
    "\n",
    "dfT4 = MyData4.drop(columns = ['CustomerId','OrderId','STD_DI', 'STD', 'NumDis_STD','STD_avg', 'STD_DI_avg',\n",
    "       'NumDis_STD_DI'])\n",
    "\n",
    "shuffled4=dfT4.sample(frac=1).reset_index(drop=True)\n",
    "DF4= shuffled4.iloc[:,:]\n",
    "\n",
    "y4 = DF4['FraudId']\n",
    "DF4_T = DF4.drop(columns={'FraudId'})\n",
    "\n",
    "X4_train, X4_test, y4_train, y4_test = train_test_split(DF4_T, y4, test_size=0.33,random_state = 0)\n",
    "\n",
    "X4_train_bl,y4_train_bl= oversample.fit_resample(X4_train,y4_train)\n",
    "\n",
    "#################### THe Model #####################\n",
    "\n",
    "rf4 = RandomForestClassifier(n_estimators=800, verbose=1 , max_depth = 5)\n",
    "rf4.fit(X4_train_bl, y4_train_bl)\n",
    "\n",
    "y4_prediction = rf4.predict(X4_test)\n",
    "\n",
    "rf4.score(X4_train_bl, y4_train_bl)\n",
    "acc_rf4 = round(rf4.score(X4_train_bl, y4_train_bl) * 100, 2)\n",
    "\n",
    "print('M4 accuracy:' , acc_rf4)\n",
    "\n",
    "y4_train_pred =cross_val_predict(rf4, X4_train_bl, y4_train_bl, cv=10)\n",
    "print(\"M4 CV Precision: %f \"%precision_score(y4_train_bl, y4_train_pred))\n",
    "print(\"M4 CVRecall: %f \"%recall_score(y4_train_bl, y4_train_pred))\n",
    "print(\"M4 CV F1: %f\"% f1_score(y4_train_bl, y4_train_pred))\n",
    "\n",
    "############################################# X_test_scaled=preprocessing_pipe.fit_transform(X_test)\n",
    "y4_test_pred=rf4.predict(X4_test)\n",
    "\n",
    "\n",
    "print(\"M4 Precision: %f \"%precision_score(y4_test, y4_test_pred))\n",
    "print(\"M4 Recall: %f \"%recall_score(y4_test, y4_test_pred))\n",
    "# print(\"F1: %f\"% f1_score(y_train, y_prediction))\n",
    "print(\"Let's see the confuision matrix:\\n\",confusion_matrix(y4_test, y4_test_pred))\n",
    "\n",
    "\n",
    "auc4 = roc_auc_score(y4_test, y4_test_pred)\n",
    "\n",
    "T = y4.shape[0]\n",
    "A = rf4.score(X4_train_bl, y4_train_bl)\n",
    "P = precision_score(y4_test, y4_test_pred)\n",
    "R = recall_score(y4_test, y4_test_pred)\n",
    "\n",
    "TP4 = (1-A)*T/(1/P + 1/R + 2)\n",
    "FP4 = (TP4/P) - TP4\n",
    "FN4 = (TP4/R) - TP4\n",
    "TN4 = T - FN4 -FP4 - TP4\n",
    "\n",
    "M4_FI = rf4.feature_importances_\n",
    "M4_f1_beta = fbeta_score(y4_test, y4_test_pred, average='macro', beta=0.3)\n",
    "print('f_0.3:', M4_f1_beta)\n",
    "\n",
    "print('M2 Accuracy:', acc_rf4, \n",
    "      '\\n M2 AUC: ',auc4,\n",
    "      '\\n M2 True Positive:' ,TP4, \n",
    "      ',\\n M2 False Positive:' ,FP4, \n",
    "      ',\\n M2 True Negative:',TN4,\n",
    "      ',\\n M2 False Negative:',FN4,\n",
    "     '\\n M2 Features: \\n',X4_train_bl.columns, \n",
    "     '\\n M2 Feature Importance: \\n' ,M4_FI)"
   ]
  },
  {
   "cell_type": "code",
   "execution_count": null,
   "metadata": {
    "id": "GROnMcB2CZvF",
    "outputId": "a6b8a433-6e87-492f-aaff-47d3fb97d5da"
   },
   "outputs": [
    {
     "name": "stderr",
     "output_type": "stream",
     "text": [
      "[Parallel(n_jobs=1)]: Using backend SequentialBackend with 1 concurrent workers.\n",
      "[Parallel(n_jobs=1)]: Done 800 out of 800 | elapsed:   19.7s finished\n",
      "[Parallel(n_jobs=1)]: Using backend SequentialBackend with 1 concurrent workers.\n"
     ]
    },
    {
     "name": "stdout",
     "output_type": "stream",
     "text": [
      "test accuracy: 0.8643312660733575\n"
     ]
    },
    {
     "name": "stderr",
     "output_type": "stream",
     "text": [
      "[Parallel(n_jobs=1)]: Done 800 out of 800 | elapsed:   19.7s finished\n"
     ]
    },
    {
     "name": "stdout",
     "output_type": "stream",
     "text": [
      "M4 accuracy: 86.43\n"
     ]
    },
    {
     "name": "stderr",
     "output_type": "stream",
     "text": [
      "[Parallel(n_jobs=1)]: Using backend SequentialBackend with 1 concurrent workers.\n",
      "[Parallel(n_jobs=1)]: Done 800 out of 800 | elapsed:  3.6min finished\n",
      "[Parallel(n_jobs=1)]: Using backend SequentialBackend with 1 concurrent workers.\n",
      "[Parallel(n_jobs=1)]: Done 800 out of 800 | elapsed:    1.6s finished\n",
      "[Parallel(n_jobs=1)]: Using backend SequentialBackend with 1 concurrent workers.\n",
      "[Parallel(n_jobs=1)]: Done 800 out of 800 | elapsed:  3.5min finished\n",
      "[Parallel(n_jobs=1)]: Using backend SequentialBackend with 1 concurrent workers.\n",
      "[Parallel(n_jobs=1)]: Done 800 out of 800 | elapsed:    1.6s finished\n",
      "[Parallel(n_jobs=1)]: Using backend SequentialBackend with 1 concurrent workers.\n",
      "[Parallel(n_jobs=1)]: Done 800 out of 800 | elapsed:  3.5min finished\n",
      "[Parallel(n_jobs=1)]: Using backend SequentialBackend with 1 concurrent workers.\n",
      "[Parallel(n_jobs=1)]: Done 800 out of 800 | elapsed:    1.6s finished\n",
      "[Parallel(n_jobs=1)]: Using backend SequentialBackend with 1 concurrent workers.\n",
      "[Parallel(n_jobs=1)]: Done 800 out of 800 | elapsed:  3.5min finished\n",
      "[Parallel(n_jobs=1)]: Using backend SequentialBackend with 1 concurrent workers.\n",
      "[Parallel(n_jobs=1)]: Done 800 out of 800 | elapsed:    1.6s finished\n",
      "[Parallel(n_jobs=1)]: Using backend SequentialBackend with 1 concurrent workers.\n",
      "[Parallel(n_jobs=1)]: Done 800 out of 800 | elapsed:  3.5min finished\n",
      "[Parallel(n_jobs=1)]: Using backend SequentialBackend with 1 concurrent workers.\n",
      "[Parallel(n_jobs=1)]: Done 800 out of 800 | elapsed:    1.6s finished\n",
      "[Parallel(n_jobs=1)]: Using backend SequentialBackend with 1 concurrent workers.\n",
      "[Parallel(n_jobs=1)]: Done 800 out of 800 | elapsed:  3.5min finished\n",
      "[Parallel(n_jobs=1)]: Using backend SequentialBackend with 1 concurrent workers.\n",
      "[Parallel(n_jobs=1)]: Done 800 out of 800 | elapsed:    1.6s finished\n",
      "[Parallel(n_jobs=1)]: Using backend SequentialBackend with 1 concurrent workers.\n",
      "[Parallel(n_jobs=1)]: Done 800 out of 800 | elapsed:  3.5min finished\n",
      "[Parallel(n_jobs=1)]: Using backend SequentialBackend with 1 concurrent workers.\n",
      "[Parallel(n_jobs=1)]: Done 800 out of 800 | elapsed:    1.6s finished\n",
      "[Parallel(n_jobs=1)]: Using backend SequentialBackend with 1 concurrent workers.\n",
      "[Parallel(n_jobs=1)]: Done 800 out of 800 | elapsed:  3.5min finished\n",
      "[Parallel(n_jobs=1)]: Using backend SequentialBackend with 1 concurrent workers.\n",
      "[Parallel(n_jobs=1)]: Done 800 out of 800 | elapsed:    1.6s finished\n",
      "[Parallel(n_jobs=1)]: Using backend SequentialBackend with 1 concurrent workers.\n",
      "[Parallel(n_jobs=1)]: Done 800 out of 800 | elapsed:  3.5min finished\n",
      "[Parallel(n_jobs=1)]: Using backend SequentialBackend with 1 concurrent workers.\n",
      "[Parallel(n_jobs=1)]: Done 800 out of 800 | elapsed:    1.6s finished\n",
      "[Parallel(n_jobs=1)]: Using backend SequentialBackend with 1 concurrent workers.\n",
      "[Parallel(n_jobs=1)]: Done 800 out of 800 | elapsed:  3.6min finished\n",
      "[Parallel(n_jobs=1)]: Using backend SequentialBackend with 1 concurrent workers.\n",
      "[Parallel(n_jobs=1)]: Done 800 out of 800 | elapsed:    1.6s finished\n"
     ]
    },
    {
     "name": "stdout",
     "output_type": "stream",
     "text": [
      "M4 CV Precision: 0.826087 \n",
      "M4 CVRecall: 0.003448 \n",
      "M4 CV F1: 0.006868\n"
     ]
    },
    {
     "name": "stderr",
     "output_type": "stream",
     "text": [
      "[Parallel(n_jobs=1)]: Using backend SequentialBackend with 1 concurrent workers.\n",
      "[Parallel(n_jobs=1)]: Done 800 out of 800 | elapsed:    9.5s finished\n"
     ]
    },
    {
     "name": "stdout",
     "output_type": "stream",
     "text": [
      "M4 Precision: 0.837838 \n",
      "M4 Recall: 0.002528 \n",
      "Let's see the confuision matrix:\n",
      " [[155112     12]\n",
      " [ 24460     62]]\n"
     ]
    },
    {
     "name": "stderr",
     "output_type": "stream",
     "text": [
      "[Parallel(n_jobs=1)]: Using backend SequentialBackend with 1 concurrent workers.\n",
      "[Parallel(n_jobs=1)]: Done 800 out of 800 | elapsed:   19.6s finished\n"
     ]
    },
    {
     "name": "stdout",
     "output_type": "stream",
     "text": [
      "f_0.3: 0.4516177129192324\n",
      "M2 Accuracy: 86.43 \n",
      " M2 AUC:  0.5012254922141042 \n",
      " M2 True Positive: 185.2358985942196 ,\n",
      " M2 False Positive: 35.85210940533284 ,\n",
      " M2 True Negative: 471080.36232079705 ,\n",
      " M2 False Negative: 73078.54967120341 \n",
      " M2 Features: \n",
      " Index(['DI', 'DIsum', 'ToMinPrice', 'DisProfit', 'NumDis_NumPur', 'NumDis_DI',\n",
      "       'TimeToShoppingCart', 'TimeToPreviousOrder', 'DI_TimeToShoppingCard',\n",
      "       'DI_avg', 'ToMinPrice_avg', 'DisProfit_avg', 'TimeToShoppingCart_avg',\n",
      "       'TimeToPreviousOrder_avg'],\n",
      "      dtype='object') \n",
      " M2 Feature Importance: \n",
      " [4.54825801e-02 4.47011012e-02 3.94281814e-02 5.94642106e-02\n",
      " 8.51545268e-02 4.39891379e-05 8.49523333e-02 1.44498101e-01\n",
      " 7.53202496e-02 1.63922572e-01 2.61794458e-02 4.55177632e-02\n",
      " 1.15167127e-02 1.73818233e-01]\n"
     ]
    }
   ],
   "source": [
    "# ########### The test-train data #################\n",
    "\n",
    "# dfT4 = MyData4_avg.drop(columns = ['CustomerId','OrderId','STD_DI', 'STD', 'NumDis_STD','STD_avg', 'STD_DI_avg',\n",
    "#        'NumDis_STD_DI'])\n",
    "\n",
    "# shuffled4=dfT4.sample(frac=1).reset_index(drop=True)\n",
    "# DF4= shuffled4.iloc[:,:]\n",
    "\n",
    "# y4 = DF4['FraudId']\n",
    "# DF4_T = DF4.drop(columns={'FraudId'})\n",
    "\n",
    "# X4_train, X4_test, y4_train, y4_test = train_test_split(DF4_T, y4, test_size=0.33,random_state = 0)\n",
    "\n",
    "# # X4_train_bl,y4_train_bl= oversample.fit_resample(X4_train,y4_train)\n",
    "\n",
    "# #################### THe Model #####################\n",
    "\n",
    "# rf4 = RandomForestClassifier(n_estimators=800, verbose=1 , max_depth = 5)\n",
    "# rf4.fit(X4_train, y4_train)\n",
    "\n",
    "# y4_prediction = rf4.predict(X4_test)\n",
    "\n",
    "print('test accuracy:' ,rf4.score(X4_train, y4_train))\n",
    "acc_rf4 = round(rf4.score(X4_train, y4_train) * 100, 2)\n",
    "\n",
    "print('M4 accuracy:' , acc_rf4)\n",
    "\n",
    "y4_train_pred =cross_val_predict(rf4, X4_train, y4_train, cv=10)\n",
    "print(\"M4 CV Precision: %f \"%precision_score(y4_train, y4_train_pred))\n",
    "print(\"M4 CVRecall: %f \"%recall_score(y4_train, y4_train_pred))\n",
    "print(\"M4 CV F1: %f\"% f1_score(y4_train, y4_train_pred))\n",
    "\n",
    "############################################# X_test_scaled=preprocessing_pipe.fit_transform(X_test)\n",
    "y4_test_pred=rf4.predict(X4_test)\n",
    "\n",
    "\n",
    "print(\"M4 Precision: %f \"%precision_score(y4_test, y4_test_pred))\n",
    "print(\"M4 Recall: %f \"%recall_score(y4_test, y4_test_pred))\n",
    "# print(\"F1: %f\"% f1_score(y_train, y_prediction))\n",
    "print(\"Let's see the confuision matrix:\\n\",confusion_matrix(y4_test, y4_test_pred))\n",
    "\n",
    "\n",
    "auc4 = roc_auc_score(y4_test, y4_test_pred)\n",
    "\n",
    "T = y4.shape[0]\n",
    "A = rf4.score(X4_train, y4_train)\n",
    "P = precision_score(y4_test, y4_test_pred)\n",
    "R = recall_score(y4_test, y4_test_pred)\n",
    "\n",
    "TP4 = (1-A)*T/(1/P + 1/R + 2)\n",
    "FP4 = (TP4/P) - TP4\n",
    "FN4 = (TP4/R) - TP4\n",
    "TN4 = T - FN4 -FP4 - TP4\n",
    "\n",
    "M4_FI = rf4.feature_importances_\n",
    "M4_f1_beta = fbeta_score(y4_test, y4_test_pred, average='macro', beta=0.3)\n",
    "print('f_0.3:', M4_f1_beta)\n",
    "\n",
    "print('M2 Accuracy:', acc_rf4, \n",
    "      '\\n M2 AUC: ',auc4,\n",
    "      '\\n M2 True Positive:' ,TP4, \n",
    "      ',\\n M2 False Positive:' ,FP4, \n",
    "      ',\\n M2 True Negative:',TN4,\n",
    "      ',\\n M2 False Negative:',FN4,\n",
    "     '\\n M2 Features: \\n',X4_train_bl.columns, \n",
    "     '\\n M2 Feature Importance: \\n' ,M4_FI)"
   ]
  },
  {
   "cell_type": "code",
   "execution_count": null,
   "metadata": {
    "id": "CgRA2dOQCZvF",
    "outputId": "2bda9838-b902-4747-e89a-fcf1b79791c4"
   },
   "outputs": [
    {
     "data": {
      "text/plain": [
       "Index(['DI', 'DIsum', 'ToMinPrice', 'DisProfit', 'NumDis_NumPur', 'NumDis_DI',\n",
       "       'TimeToShoppingCart', 'TimeToPreviousOrder', 'DI_TimeToShoppingCard',\n",
       "       'DI_avg', 'ToMinPrice_avg', 'DisProfit_avg', 'TimeToShoppingCart_avg',\n",
       "       'TimeToPreviousOrder_avg'],\n",
       "      dtype='object')"
      ]
     },
     "execution_count": 97,
     "metadata": {
      "tags": []
     },
     "output_type": "execute_result"
    }
   ],
   "source": [
    "X4_train.columns"
   ]
  },
  {
   "cell_type": "code",
   "execution_count": null,
   "metadata": {
    "id": "dxhzkpBNCZvF",
    "outputId": "db8605ee-689a-41b8-c6e3-68b2fa404665"
   },
   "outputs": [
    {
     "name": "stderr",
     "output_type": "stream",
     "text": [
      "[Parallel(n_jobs=1)]: Using backend SequentialBackend with 1 concurrent workers.\n",
      "[Parallel(n_jobs=1)]: Done 600 out of 600 | elapsed:  2.8min finished\n",
      "[Parallel(n_jobs=1)]: Using backend SequentialBackend with 1 concurrent workers.\n",
      "[Parallel(n_jobs=1)]: Done 600 out of 600 | elapsed:    7.4s finished\n",
      "[Parallel(n_jobs=1)]: Using backend SequentialBackend with 1 concurrent workers.\n",
      "[Parallel(n_jobs=1)]: Done 600 out of 600 | elapsed:   15.0s finished\n",
      "[Parallel(n_jobs=1)]: Using backend SequentialBackend with 1 concurrent workers.\n",
      "[Parallel(n_jobs=1)]: Done 600 out of 600 | elapsed:   15.0s finished\n"
     ]
    },
    {
     "name": "stdout",
     "output_type": "stream",
     "text": [
      "M4 accuracy: 86.64\n"
     ]
    },
    {
     "name": "stderr",
     "output_type": "stream",
     "text": [
      "[Parallel(n_jobs=1)]: Using backend SequentialBackend with 1 concurrent workers.\n",
      "[Parallel(n_jobs=1)]: Done 600 out of 600 | elapsed:  2.4min finished\n",
      "[Parallel(n_jobs=1)]: Using backend SequentialBackend with 1 concurrent workers.\n",
      "[Parallel(n_jobs=1)]: Done 600 out of 600 | elapsed:    1.2s finished\n",
      "[Parallel(n_jobs=1)]: Using backend SequentialBackend with 1 concurrent workers.\n",
      "[Parallel(n_jobs=1)]: Done 600 out of 600 | elapsed:  2.4min finished\n",
      "[Parallel(n_jobs=1)]: Using backend SequentialBackend with 1 concurrent workers.\n",
      "[Parallel(n_jobs=1)]: Done 600 out of 600 | elapsed:    1.2s finished\n",
      "[Parallel(n_jobs=1)]: Using backend SequentialBackend with 1 concurrent workers.\n",
      "[Parallel(n_jobs=1)]: Done 600 out of 600 | elapsed:  2.4min finished\n",
      "[Parallel(n_jobs=1)]: Using backend SequentialBackend with 1 concurrent workers.\n",
      "[Parallel(n_jobs=1)]: Done 600 out of 600 | elapsed:    1.2s finished\n",
      "[Parallel(n_jobs=1)]: Using backend SequentialBackend with 1 concurrent workers.\n",
      "[Parallel(n_jobs=1)]: Done 600 out of 600 | elapsed:  2.4min finished\n",
      "[Parallel(n_jobs=1)]: Using backend SequentialBackend with 1 concurrent workers.\n",
      "[Parallel(n_jobs=1)]: Done 600 out of 600 | elapsed:    1.2s finished\n",
      "[Parallel(n_jobs=1)]: Using backend SequentialBackend with 1 concurrent workers.\n",
      "[Parallel(n_jobs=1)]: Done 600 out of 600 | elapsed:  2.4min finished\n",
      "[Parallel(n_jobs=1)]: Using backend SequentialBackend with 1 concurrent workers.\n",
      "[Parallel(n_jobs=1)]: Done 600 out of 600 | elapsed:    1.2s finished\n",
      "[Parallel(n_jobs=1)]: Using backend SequentialBackend with 1 concurrent workers.\n",
      "[Parallel(n_jobs=1)]: Done 600 out of 600 | elapsed:  2.4min finished\n",
      "[Parallel(n_jobs=1)]: Using backend SequentialBackend with 1 concurrent workers.\n",
      "[Parallel(n_jobs=1)]: Done 600 out of 600 | elapsed:    1.2s finished\n",
      "[Parallel(n_jobs=1)]: Using backend SequentialBackend with 1 concurrent workers.\n",
      "[Parallel(n_jobs=1)]: Done 600 out of 600 | elapsed:  2.4min finished\n",
      "[Parallel(n_jobs=1)]: Using backend SequentialBackend with 1 concurrent workers.\n",
      "[Parallel(n_jobs=1)]: Done 600 out of 600 | elapsed:    1.2s finished\n",
      "[Parallel(n_jobs=1)]: Using backend SequentialBackend with 1 concurrent workers.\n",
      "[Parallel(n_jobs=1)]: Done 600 out of 600 | elapsed:  2.4min finished\n",
      "[Parallel(n_jobs=1)]: Using backend SequentialBackend with 1 concurrent workers.\n",
      "[Parallel(n_jobs=1)]: Done 600 out of 600 | elapsed:    1.2s finished\n",
      "[Parallel(n_jobs=1)]: Using backend SequentialBackend with 1 concurrent workers.\n",
      "[Parallel(n_jobs=1)]: Done 600 out of 600 | elapsed:  2.4min finished\n",
      "[Parallel(n_jobs=1)]: Using backend SequentialBackend with 1 concurrent workers.\n",
      "[Parallel(n_jobs=1)]: Done 600 out of 600 | elapsed:    1.2s finished\n",
      "[Parallel(n_jobs=1)]: Using backend SequentialBackend with 1 concurrent workers.\n",
      "[Parallel(n_jobs=1)]: Done 600 out of 600 | elapsed:  2.4min finished\n",
      "[Parallel(n_jobs=1)]: Using backend SequentialBackend with 1 concurrent workers.\n",
      "[Parallel(n_jobs=1)]: Done 600 out of 600 | elapsed:    1.2s finished\n"
     ]
    },
    {
     "name": "stdout",
     "output_type": "stream",
     "text": [
      "M4 CV Precision: 0.679253 \n",
      "M4 CVRecall: 0.032868 \n",
      "M4 CV F1: 0.062702\n"
     ]
    },
    {
     "name": "stderr",
     "output_type": "stream",
     "text": [
      "[Parallel(n_jobs=1)]: Using backend SequentialBackend with 1 concurrent workers.\n",
      "[Parallel(n_jobs=1)]: Done 600 out of 600 | elapsed:    7.4s finished\n"
     ]
    },
    {
     "name": "stdout",
     "output_type": "stream",
     "text": [
      "M4 Precision: 0.667278 \n",
      "M4 Recall: 0.029948 \n",
      "Let's see the confuision matrix:\n",
      " [[155701    363]\n",
      " [ 23581    728]]\n"
     ]
    },
    {
     "name": "stderr",
     "output_type": "stream",
     "text": [
      "[Parallel(n_jobs=1)]: Using backend SequentialBackend with 1 concurrent workers.\n",
      "[Parallel(n_jobs=1)]: Done 600 out of 600 | elapsed:   14.9s finished\n"
     ]
    },
    {
     "name": "stdout",
     "output_type": "stream",
     "text": [
      "f_0.3: 0.5599357199253003\n",
      "M2 Accuracy: 86.64 \n",
      " M2 AUC:  0.513810893570927 \n",
      " M2 True Positive: 1979.8226938138878 ,\n",
      " M2 False Positive: 987.1918102396171 ,\n",
      " M2 True Negative: 479487.5913437139 ,\n",
      " M2 False Negative: 64129.39415223254 \n",
      " M2 Features: \n",
      " Index(['STD_DI', 'DI', 'DIsum', 'ToMinPrice', 'DisProfit', 'NumDis_NumPur',\n",
      "       'TimeToShoppingCart', 'TimeToPreviousOrder', 'DI_TimeToShoppingCard'],\n",
      "      dtype='object') \n",
      " M2 Feature Importance: \n",
      " [5.92708089e-05 7.89183793e-02 7.73002709e-02 7.62241738e-02\n",
      " 9.92362345e-02 1.55242107e-01 1.41483162e-01 2.70376145e-01\n",
      " 1.01160256e-01]\n"
     ]
    }
   ],
   "source": [
    "########### The test-train data #################\n",
    "\n",
    "dfT4 = MyData4.drop(columns = ['CustomerId','OrderId','STD_DI_avg', 'NumDis_DI', 'NumDis_STD','NumDis_STD_DI','STD','STD_avg'])\n",
    "shuffled4=dfT4.sample(frac=1).reset_index(drop=True)\n",
    "DF4= shuffled4.iloc[:,:]\n",
    "\n",
    "y4 = DF4['FraudId']\n",
    "DF4_T = DF4.drop(columns={'FraudId'})\n",
    "\n",
    "X4_train, X4_test, y4_train, y4_test = train_test_split(DF4_T, y4, test_size=0.33,random_state = 0)\n",
    "\n",
    "#################### THe Model #####################\n",
    "\n",
    "rf4 = RandomForestClassifier(n_estimators=600, verbose=1 , max_depth = 5)\n",
    "rf4.fit(X4_train, y4_train)\n",
    "\n",
    "y4_prediction = rf4.predict(X4_test)\n",
    "\n",
    "rf4.score(X4_train, y4_train)\n",
    "acc_rf4 = round(rf4.score(X4_train, y4_train) * 100, 2)\n",
    "\n",
    "print('M4 accuracy:' , acc_rf4)\n",
    "\n",
    "y4_train_pred =cross_val_predict(rf4, X4_train, y4_train, cv=10)\n",
    "print(\"M4 CV Precision: %f \"%precision_score(y4_train, y4_train_pred))\n",
    "print(\"M4 CVRecall: %f \"%recall_score(y4_train, y4_train_pred))\n",
    "print(\"M4 CV F1: %f\"% f1_score(y4_train, y4_train_pred))\n",
    "\n",
    "############################################# X_test_scaled=preprocessing_pipe.fit_transform(X_test)\n",
    "y4_test_pred=rf4.predict(X4_test)\n",
    "\n",
    "\n",
    "print(\"M4 Precision: %f \"%precision_score(y4_test, y4_test_pred))\n",
    "print(\"M4 Recall: %f \"%recall_score(y4_test, y4_test_pred))\n",
    "# print(\"F1: %f\"% f1_score(y_train, y_prediction))\n",
    "print(\"Let's see the confuision matrix:\\n\",confusion_matrix(y4_test, y4_test_pred))\n",
    "\n",
    "\n",
    "auc4 = roc_auc_score(y4_test, y4_test_pred)\n",
    "\n",
    "T = y4.shape[0]\n",
    "A = rf4.score(X4_train, y4_train)\n",
    "P = precision_score(y4_test, y4_test_pred)\n",
    "R = recall_score(y4_test, y4_test_pred)\n",
    "\n",
    "TP4 = (1-A)*T/(1/P + 1/R + 2)\n",
    "FP4 = (TP4/P) - TP4\n",
    "FN4 = (TP4/R) - TP4\n",
    "TN4 = T - FN4 -FP4 - TP4\n",
    "\n",
    "M4_FI = rf4.feature_importances_\n",
    "M4_f1_beta = fbeta_score(y4_test, y4_test_pred, average='macro', beta=0.3)\n",
    "print('f_0.3:', M4_f1_beta)\n",
    "\n",
    "print('M2 Accuracy:', acc_rf4, \n",
    "      '\\n M2 AUC: ',auc4 ,\n",
    "      '\\n M2 True Positive:' , TP4 , \n",
    "      ',\\n M2 False Positive:' , FP4 , \n",
    "      ',\\n M2 True Negative:', TN4 ,\n",
    "      ',\\n M2 False Negative:', FN4,\n",
    "     '\\n M2 Features: \\n', X4_train.columns, \n",
    "     '\\n M2 Feature Importance: \\n' , M4_FI)"
   ]
  },
  {
   "cell_type": "markdown",
   "metadata": {
    "id": "TZpvokByCZvG"
   },
   "source": [
    "# Saving Model"
   ]
  },
  {
   "cell_type": "code",
   "execution_count": null,
   "metadata": {
    "id": "9eQTo5D_CZvG"
   },
   "outputs": [],
   "source": [
    "import pickle"
   ]
  },
  {
   "cell_type": "code",
   "execution_count": null,
   "metadata": {
    "id": "4OxxUKDcCZvG"
   },
   "outputs": [],
   "source": [
    "Pkl_Filename = \"RF_Fraud_V1_customer_avg.pkl\"  \n",
    "\n",
    "with open(Pkl_Filename, 'wb') as file:  \n",
    "    pickle.dump(rf4, file)"
   ]
  },
  {
   "cell_type": "code",
   "execution_count": null,
   "metadata": {
    "id": "Kh-BrE37CZvH",
    "outputId": "4c05a415-c8ff-4346-dbac-b2a9ad3222b1"
   },
   "outputs": [
    {
     "data": {
      "text/plain": [
       "RandomForestClassifier(max_depth=5, n_estimators=800, verbose=1)"
      ]
     },
     "execution_count": 100,
     "metadata": {
      "tags": []
     },
     "output_type": "execute_result"
    }
   ],
   "source": [
    "with open(Pkl_Filename, 'rb') as file:  \n",
    "    RF_Fraud_customer = pickle.load(file)\n",
    "\n",
    "RF_Fraud_customer"
   ]
  },
  {
   "cell_type": "code",
   "execution_count": null,
   "metadata": {
    "id": "-2B4QNu0CZvH",
    "outputId": "4807c12e-994c-4b3b-9630-b6c8dbb6f3a9"
   },
   "outputs": [
    {
     "name": "stderr",
     "output_type": "stream",
     "text": [
      "[Parallel(n_jobs=1)]: Using backend SequentialBackend with 1 concurrent workers.\n",
      "[Parallel(n_jobs=1)]: Done 800 out of 800 | elapsed:    9.7s finished\n"
     ]
    },
    {
     "data": {
      "text/plain": [
       "0.8637765383031072"
      ]
     },
     "execution_count": 101,
     "metadata": {
      "tags": []
     },
     "output_type": "execute_result"
    }
   ],
   "source": [
    "score = RF_Fraud_customer.score(X4_test, y4_test) \n",
    "score"
   ]
  },
  {
   "cell_type": "code",
   "execution_count": null,
   "metadata": {
    "id": "6Le0zOQOCZvH"
   },
   "outputs": [],
   "source": []
  },
  {
   "cell_type": "markdown",
   "metadata": {
    "id": "VCrY17iFCZvI"
   },
   "source": [
    "# Input data function"
   ]
  },
  {
   "cell_type": "code",
   "execution_count": null,
   "metadata": {
    "id": "HHvkwALwCZvI"
   },
   "outputs": [],
   "source": [
    "FraudAnalysisData_complete = pd.read_csv('FraudAnalysisData_complete.csv')\n"
   ]
  },
  {
   "cell_type": "code",
   "execution_count": null,
   "metadata": {
    "id": "8GTbw58DCZvI"
   },
   "outputs": [],
   "source": [
    "def DI(basket):\n",
    "    len_basket = len(basket)\n",
    "    pi_basket = [x / len_basket for x in basket]\n",
    "\n",
    "    di_basket = sum([-x*np.log(x) for x in pi_basket])\n",
    "    return di_basket\n",
    "\n",
    "def DiscountFraction(CountDiscount , CountOrder):\n",
    "    return CountDiscount/CountOrder\n",
    "\n",
    "def DiscountProfitNormalized(OrderAmount , CACDiscountAmount):\n",
    "    return (OrderAmount - CACDiscountAmount)/OrderAmount\n",
    "\n",
    "def ToMinPrice(OrderAmount , CACMinOrderAmount):\n",
    "    return (OrderAmount - CACMinOrderAmount)/OrderAmount"
   ]
  },
  {
   "cell_type": "code",
   "execution_count": null,
   "metadata": {
    "id": "NQzKiifeCZvJ"
   },
   "outputs": [],
   "source": []
  },
  {
   "cell_type": "markdown",
   "metadata": {
    "id": "W341qBAlCZvJ"
   },
   "source": [
    "# grouped by customer"
   ]
  },
  {
   "cell_type": "code",
   "execution_count": null,
   "metadata": {
    "id": "TPM7YjSHCZvJ",
    "outputId": "12f27a43-55c8-4057-83b4-27f25078ca67"
   },
   "outputs": [
    {
     "name": "stdout",
     "output_type": "stream",
     "text": [
      "386752 353998\n",
      "The BaseLine accuracy is: % 91.5310069501903\n"
     ]
    }
   ],
   "source": [
    "df_c = df.groupby('CustomerId').agg({\n",
    "'FraudId_avg':'first'    \n",
    "}).reset_index(drop=False)\n",
    "nFraud_c = df_c[df_c['FraudId_avg']==0].shape[0]\n",
    "print(df_c.shape[0] , nFraud_c)\n",
    "BaseLine_c_acc = nFraud_c/df_c.shape[0]*100\n",
    "print('The BaseLine accuracy is: %', BaseLine_c_acc)"
   ]
  },
  {
   "cell_type": "markdown",
   "metadata": {
    "id": "YZTZkocaCZvK"
   },
   "source": [
    "# Adding Location "
   ]
  },
  {
   "cell_type": "code",
   "execution_count": null,
   "metadata": {
    "id": "o3HQIJCPCZvL",
    "outputId": "dec7d05e-5b4d-49f1-dc4b-99967cb1bd51"
   },
   "outputs": [
    {
     "data": {
      "text/html": [
       "<div>\n",
       "<style scoped>\n",
       "    .dataframe tbody tr th:only-of-type {\n",
       "        vertical-align: middle;\n",
       "    }\n",
       "\n",
       "    .dataframe tbody tr th {\n",
       "        vertical-align: top;\n",
       "    }\n",
       "\n",
       "    .dataframe thead th {\n",
       "        text-align: right;\n",
       "    }\n",
       "</style>\n",
       "<table border=\"1\" class=\"dataframe\">\n",
       "  <thead>\n",
       "    <tr style=\"text-align: right;\">\n",
       "      <th></th>\n",
       "      <th>OrderId</th>\n",
       "      <th>OrderState</th>\n",
       "      <th>Latitude</th>\n",
       "      <th>Longitude</th>\n",
       "      <th>CustomerId</th>\n",
       "      <th>TimeToShoppingCart</th>\n",
       "      <th>TimeToPreviousOrder</th>\n",
       "    </tr>\n",
       "  </thead>\n",
       "  <tbody>\n",
       "    <tr>\n",
       "      <th>0</th>\n",
       "      <td>1250951</td>\n",
       "      <td>5</td>\n",
       "      <td>36.321957</td>\n",
       "      <td>59.523514</td>\n",
       "      <td>87</td>\n",
       "      <td>21</td>\n",
       "      <td>NaN</td>\n",
       "    </tr>\n",
       "    <tr>\n",
       "      <th>1</th>\n",
       "      <td>1292950</td>\n",
       "      <td>5</td>\n",
       "      <td>36.321957</td>\n",
       "      <td>59.523514</td>\n",
       "      <td>87</td>\n",
       "      <td>4913</td>\n",
       "      <td>7679.0</td>\n",
       "    </tr>\n",
       "    <tr>\n",
       "      <th>2</th>\n",
       "      <td>1379188</td>\n",
       "      <td>5</td>\n",
       "      <td>36.325459</td>\n",
       "      <td>59.529143</td>\n",
       "      <td>87</td>\n",
       "      <td>20</td>\n",
       "      <td>6126.0</td>\n",
       "    </tr>\n",
       "    <tr>\n",
       "      <th>3</th>\n",
       "      <td>1426710</td>\n",
       "      <td>5</td>\n",
       "      <td>36.321957</td>\n",
       "      <td>59.523514</td>\n",
       "      <td>87</td>\n",
       "      <td>13</td>\n",
       "      <td>9702.0</td>\n",
       "    </tr>\n",
       "    <tr>\n",
       "      <th>4</th>\n",
       "      <td>1473326</td>\n",
       "      <td>5</td>\n",
       "      <td>36.321957</td>\n",
       "      <td>59.523514</td>\n",
       "      <td>87</td>\n",
       "      <td>1075</td>\n",
       "      <td>12574.0</td>\n",
       "    </tr>\n",
       "    <tr>\n",
       "      <th>...</th>\n",
       "      <td>...</td>\n",
       "      <td>...</td>\n",
       "      <td>...</td>\n",
       "      <td>...</td>\n",
       "      <td>...</td>\n",
       "      <td>...</td>\n",
       "      <td>...</td>\n",
       "    </tr>\n",
       "    <tr>\n",
       "      <th>8146205</th>\n",
       "      <td>12306964</td>\n",
       "      <td>4</td>\n",
       "      <td>32.461146</td>\n",
       "      <td>48.349562</td>\n",
       "      <td>6649529</td>\n",
       "      <td>2</td>\n",
       "      <td>NaN</td>\n",
       "    </tr>\n",
       "    <tr>\n",
       "      <th>8146206</th>\n",
       "      <td>12307227</td>\n",
       "      <td>5</td>\n",
       "      <td>35.669596</td>\n",
       "      <td>51.302731</td>\n",
       "      <td>6649614</td>\n",
       "      <td>1</td>\n",
       "      <td>NaN</td>\n",
       "    </tr>\n",
       "    <tr>\n",
       "      <th>8146207</th>\n",
       "      <td>12307889</td>\n",
       "      <td>4</td>\n",
       "      <td>35.812608</td>\n",
       "      <td>50.900292</td>\n",
       "      <td>6649714</td>\n",
       "      <td>9</td>\n",
       "      <td>NaN</td>\n",
       "    </tr>\n",
       "    <tr>\n",
       "      <th>8146208</th>\n",
       "      <td>12307822</td>\n",
       "      <td>4</td>\n",
       "      <td>30.257237</td>\n",
       "      <td>57.052058</td>\n",
       "      <td>6649796</td>\n",
       "      <td>3</td>\n",
       "      <td>NaN</td>\n",
       "    </tr>\n",
       "    <tr>\n",
       "      <th>8146209</th>\n",
       "      <td>12307871</td>\n",
       "      <td>4</td>\n",
       "      <td>38.421602</td>\n",
       "      <td>45.773411</td>\n",
       "      <td>6649896</td>\n",
       "      <td>3</td>\n",
       "      <td>NaN</td>\n",
       "    </tr>\n",
       "  </tbody>\n",
       "</table>\n",
       "<p>8146210 rows × 7 columns</p>\n",
       "</div>"
      ],
      "text/plain": [
       "          OrderId  OrderState   Latitude  Longitude  CustomerId  \\\n",
       "0         1250951           5  36.321957  59.523514          87   \n",
       "1         1292950           5  36.321957  59.523514          87   \n",
       "2         1379188           5  36.325459  59.529143          87   \n",
       "3         1426710           5  36.321957  59.523514          87   \n",
       "4         1473326           5  36.321957  59.523514          87   \n",
       "...           ...         ...        ...        ...         ...   \n",
       "8146205  12306964           4  32.461146  48.349562     6649529   \n",
       "8146206  12307227           5  35.669596  51.302731     6649614   \n",
       "8146207  12307889           4  35.812608  50.900292     6649714   \n",
       "8146208  12307822           4  30.257237  57.052058     6649796   \n",
       "8146209  12307871           4  38.421602  45.773411     6649896   \n",
       "\n",
       "         TimeToShoppingCart  TimeToPreviousOrder  \n",
       "0                        21                  NaN  \n",
       "1                      4913               7679.0  \n",
       "2                        20               6126.0  \n",
       "3                        13               9702.0  \n",
       "4                      1075              12574.0  \n",
       "...                     ...                  ...  \n",
       "8146205                   2                  NaN  \n",
       "8146206                   1                  NaN  \n",
       "8146207                   9                  NaN  \n",
       "8146208                   3                  NaN  \n",
       "8146209                   3                  NaN  \n",
       "\n",
       "[8146210 rows x 7 columns]"
      ]
     },
     "execution_count": 98,
     "metadata": {
      "tags": []
     },
     "output_type": "execute_result"
    }
   ],
   "source": [
    "Basket_info"
   ]
  },
  {
   "cell_type": "code",
   "execution_count": null,
   "metadata": {
    "id": "nE6sFEbzCZvL",
    "outputId": "2cdc3887-2dc7-48c9-f077-b1ec427b3ea6"
   },
   "outputs": [
    {
     "name": "stdout",
     "output_type": "stream",
     "text": [
      "موسوی (گیتی), کوی شهدا, اندیمشک, دهستان حومه, بخش مرکزی, شهرستان اندیمشک, استان خوزستان, ایران\n",
      "(32.46115305871785, 48.34948144619332)\n",
      "{'place_id': 218030451, 'licence': 'Data © OpenStreetMap contributors, ODbL 1.0. https://osm.org/copyright', 'osm_type': 'way', 'osm_id': 618328675, 'lat': '32.46115305871785', 'lon': '48.34948144619332', 'display_name': 'موسوی (گیتی), کوی شهدا, اندیمشک, دهستان حومه, بخش مرکزی, شهرستان اندیمشک, استان خوزستان, ایران', 'address': {'road': 'موسوی (گیتی)', 'neighbourhood': 'کوی شهدا', 'city': 'اندیمشک', 'district': 'بخش مرکزی', 'county': 'شهرستان اندیمشک', 'state': 'استان خوزستان', 'country': 'ایران', 'country_code': 'ir'}, 'boundingbox': ['32.461027', '32.4617972', '48.3493846', '48.3495189']}\n"
     ]
    }
   ],
   "source": [
    "from geopy.geocoders import Nominatim\n",
    "geolocator = Nominatim(user_agent=\"Okala\")\n",
    "location = geolocator.reverse(\"32.461146, 48.349562\")\n",
    "print(location.address)\n",
    "print((location.latitude, location.longitude))\n",
    "print(location.raw)"
   ]
  },
  {
   "cell_type": "code",
   "execution_count": null,
   "metadata": {
    "id": "ygux70C_CZvM",
    "outputId": "b62f9003-d288-4ee5-b75b-ae37fcea9d30"
   },
   "outputs": [
    {
     "name": "stdout",
     "output_type": "stream",
     "text": [
      "448.25169320006415\n"
     ]
    }
   ],
   "source": [
    "from geopy.distance import geodesic\n",
    "newport_ri = (32.461146, 48.349562)\n",
    "cleveland_oh = (35.669596, 51.302731)\n",
    "print(geodesic(newport_ri, cleveland_oh).kilometers)"
   ]
  },
  {
   "cell_type": "code",
   "execution_count": null,
   "metadata": {
    "id": "pvJ15Uf6CZvM",
    "outputId": "261216fb-2e66-47ab-d96e-5cfe32d01644"
   },
   "outputs": [
    {
     "name": "stdout",
     "output_type": "stream",
     "text": [
      "864.2144943393627\n"
     ]
    }
   ],
   "source": [
    "from geopy.distance import great_circle\n",
    "newport_ri = (41.49008, -71.312796)\n",
    "cleveland_oh = (41.499498, -81.695391)\n",
    "print(great_circle(newport_ri, cleveland_oh).kilometers)"
   ]
  },
  {
   "cell_type": "code",
   "execution_count": null,
   "metadata": {
    "id": "_KTRiwg9CZvM"
   },
   "outputs": [],
   "source": []
  }
 ],
 "metadata": {
  "colab": {
   "name": "FD-Location-Save.ipynb",
   "provenance": []
  },
  "kernelspec": {
   "display_name": "Python 3",
   "language": "python",
   "name": "python3"
  },
  "language_info": {
   "codemirror_mode": {
    "name": "ipython",
    "version": 3
   },
   "file_extension": ".py",
   "mimetype": "text/x-python",
   "name": "python",
   "nbconvert_exporter": "python",
   "pygments_lexer": "ipython3",
   "version": "3.7.6"
  }
 },
 "nbformat": 4,
 "nbformat_minor": 1
}
